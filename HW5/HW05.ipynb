{
  "cells": [
    {
      "cell_type": "markdown",
      "metadata": {
        "id": "AFEKWoh3p1Mv"
      },
      "source": [
        "# Homework Description\n",
        "- English to Chinese (Traditional) Translation\n",
        "  - Input: an English sentence         (e.g.\t\ttom is a student .)\n",
        "  - Output: the Chinese translation  (e.g. \t\t湯姆 是 個 學生 。)\n",
        "\n",
        "- TODO\n",
        "    - Train a simple RNN seq2seq to acheive translation\n",
        "    - Switch to transformer model to boost performance\n",
        "    - Apply Back-translation to furthur boost performance"
      ]
    },
    {
      "cell_type": "code",
      "execution_count": 1,
      "metadata": {
        "colab": {
          "base_uri": "https://localhost:8080/"
        },
        "id": "3Vf1Q79XPQ3D",
        "outputId": "6bc99387-e873-4bbf-9d81-1706904df370"
      },
      "outputs": [
        {
          "name": "stdout",
          "output_type": "stream",
          "text": [
            "Thu Apr  7 02:34:47 2022       \n",
            "+-----------------------------------------------------------------------------+\n",
            "| NVIDIA-SMI 470.103.01   Driver Version: 470.103.01   CUDA Version: 11.4     |\n",
            "|-------------------------------+----------------------+----------------------+\n",
            "| GPU  Name        Persistence-M| Bus-Id        Disp.A | Volatile Uncorr. ECC |\n",
            "| Fan  Temp  Perf  Pwr:Usage/Cap|         Memory-Usage | GPU-Util  Compute M. |\n",
            "|                               |                      |               MIG M. |\n",
            "|===============================+======================+======================|\n",
            "|   0  NVIDIA GeForce ...  Off  | 00000000:01:00.0 Off |                  N/A |\n",
            "| 41%   57C    P2    65W / 275W |   7268MiB / 11175MiB |      0%      Default |\n",
            "|                               |                      |                  N/A |\n",
            "+-------------------------------+----------------------+----------------------+\n",
            "                                                                               \n",
            "+-----------------------------------------------------------------------------+\n",
            "| Processes:                                                                  |\n",
            "|  GPU   GI   CI        PID   Type   Process name                  GPU Memory |\n",
            "|        ID   ID                                                   Usage      |\n",
            "|=============================================================================|\n",
            "|    0   N/A  N/A      1162      G   /usr/lib/xorg/Xorg                 35MiB |\n",
            "|    0   N/A  N/A      1722      G   /usr/lib/xorg/Xorg                116MiB |\n",
            "|    0   N/A  N/A      1849      G   /usr/bin/gnome-shell                8MiB |\n",
            "|    0   N/A  N/A      2324      G   ...RendererForSitePerProcess       19MiB |\n",
            "+-----------------------------------------------------------------------------+\n"
          ]
        }
      ],
      "source": [
        "!nvidia-smi"
      ]
    },
    {
      "cell_type": "markdown",
      "metadata": {
        "id": "59neB_Sxp5Ub"
      },
      "source": [
        "# Download and import required packages"
      ]
    },
    {
      "cell_type": "code",
      "execution_count": 2,
      "metadata": {
        "colab": {
          "base_uri": "https://localhost:8080/"
        },
        "id": "rRlFbfFRpZYT",
        "outputId": "213ea67f-5983-4b20-ca76-f8730309ab2d"
      },
      "outputs": [],
      "source": [
        "# !pip install 'torch>=1.6.0' editdistance matplotlib sacrebleu sacremoses sentencepiece tqdm wandb\n",
        "# !pip install --upgrade jupyter ipywidgets"
      ]
    },
    {
      "cell_type": "code",
      "execution_count": 3,
      "metadata": {
        "colab": {
          "base_uri": "https://localhost:8080/"
        },
        "id": "fSksMTdmp-Wt",
        "outputId": "34655423-fe36-4bbd-fd7a-472ab49d3b6e"
      },
      "outputs": [],
      "source": [
        "# !git clone https://github.com/pytorch/fairseq.git\n",
        "# !cd fairseq && git checkout 9a1c497\n",
        "# !pip install --upgrade ./fairseq/"
      ]
    },
    {
      "cell_type": "code",
      "execution_count": 4,
      "metadata": {
        "id": "uRLTiuIuqGNc"
      },
      "outputs": [],
      "source": [
        "import sys\n",
        "import pdb\n",
        "import pprint\n",
        "import logging\n",
        "import os\n",
        "import random\n",
        "import seaborn as sns\n",
        "\n",
        "import torch\n",
        "import torch.nn as nn\n",
        "import torch.nn.functional as F\n",
        "from torch.utils import data\n",
        "import numpy as np\n",
        "import tqdm.auto as tqdm\n",
        "from pathlib import Path\n",
        "from argparse import Namespace\n",
        "from fairseq import utils\n",
        "\n",
        "import matplotlib.pyplot as plt"
      ]
    },
    {
      "cell_type": "markdown",
      "metadata": {
        "id": "0n07Za1XqJzA"
      },
      "source": [
        "# Fix random seed"
      ]
    },
    {
      "cell_type": "code",
      "execution_count": 5,
      "metadata": {
        "id": "xllxxyWxqI7s"
      },
      "outputs": [],
      "source": [
        "seed = 10942178\n",
        "random.seed(seed)\n",
        "torch.manual_seed(seed)\n",
        "if torch.cuda.is_available():\n",
        "    torch.cuda.manual_seed(seed)\n",
        "    torch.cuda.manual_seed_all(seed)  \n",
        "np.random.seed(seed)  \n",
        "torch.backends.cudnn.benchmark = False\n",
        "torch.backends.cudnn.deterministic = True"
      ]
    },
    {
      "cell_type": "markdown",
      "metadata": {
        "id": "N5ORDJ-2qdYw"
      },
      "source": [
        "# Dataset\n",
        "\n",
        "## En-Zh Bilingual Parallel Corpus\n",
        "* [TED2020](#reimers-2020-multilingual-sentence-bert)\n",
        "    - Raw: 398,066 (sentences)   \n",
        "    - Processed: 393,980 (sentences)\n",
        "    \n",
        "\n",
        "## Testdata\n",
        "- Size: 4,000 (sentences)\n",
        "- **Chinese translation is undisclosed. The provided (.zh) file is psuedo translation, each line is a '。'**"
      ]
    },
    {
      "cell_type": "markdown",
      "metadata": {
        "id": "GQw2mY4Dqkzd"
      },
      "source": [
        "## Dataset Download"
      ]
    },
    {
      "cell_type": "code",
      "execution_count": 6,
      "metadata": {
        "colab": {
          "base_uri": "https://localhost:8080/"
        },
        "id": "SXT42xQtqijD",
        "outputId": "3b09f268-4e1e-4bc9-d42f-e20c68b38017"
      },
      "outputs": [
        {
          "name": "stdout",
          "output_type": "stream",
          "text": [
            "raw.en\n",
            "raw.zh\n",
            "test/\n",
            "test/test.zh\n",
            "test/test.en\n"
          ]
        }
      ],
      "source": [
        "data_dir = './DATA/rawdata'\n",
        "dataset_name = 'ted2020'\n",
        "urls = (\n",
        "    \"https://github.com/yuhsinchan/ML2022-HW5Dataset/releases/download/v1.0.2/ted2020.tgz\",\n",
        "    \"https://github.com/yuhsinchan/ML2022-HW5Dataset/releases/download/v1.0.2/test.tgz\",\n",
        ")\n",
        "file_names = (\n",
        "    'ted2020.tgz', # train & dev\n",
        "    'test.tgz', # test\n",
        ")\n",
        "prefix = Path(data_dir).absolute() / dataset_name\n",
        "\n",
        "prefix.mkdir(parents=True, exist_ok=True)\n",
        "for u, f in zip(urls, file_names):\n",
        "    path = prefix/f\n",
        "    if not path.exists():\n",
        "        !wget {u} -O {path}\n",
        "    if path.suffix == \".tgz\":\n",
        "        !tar -xvf {path} -C {prefix}\n",
        "    elif path.suffix == \".zip\":\n",
        "        !unzip -o {path} -d {prefix}\n",
        "!mv {prefix/'raw.en'} {prefix/'train_dev.raw.en'}\n",
        "!mv {prefix/'raw.zh'} {prefix/'train_dev.raw.zh'}\n",
        "!mv {prefix/'test/test.en'} {prefix/'test.raw.en'}\n",
        "!mv {prefix/'test/test.zh'} {prefix/'test.raw.zh'}\n",
        "!rm -rf {prefix/'test'}"
      ]
    },
    {
      "cell_type": "markdown",
      "metadata": {
        "id": "YLkJwNiFrIwZ"
      },
      "source": [
        "## Language"
      ]
    },
    {
      "cell_type": "code",
      "execution_count": 7,
      "metadata": {
        "id": "_uJYkCncrKJb"
      },
      "outputs": [],
      "source": [
        "src_lang = 'en'\n",
        "tgt_lang = 'zh'\n",
        "\n",
        "data_prefix = f'{prefix}/train_dev.raw'\n",
        "test_prefix = f'{prefix}/test.raw'"
      ]
    },
    {
      "cell_type": "code",
      "execution_count": 8,
      "metadata": {
        "colab": {
          "base_uri": "https://localhost:8080/"
        },
        "id": "0t2CPt1brOT3",
        "outputId": "14cd34e0-c8cb-4653-84c3-29de187d201a"
      },
      "outputs": [
        {
          "name": "stdout",
          "output_type": "stream",
          "text": [
            "Thank you so much, Chris.\n",
            "And it's truly a great honor to have the opportunity to come to this stage twice; I'm extremely grateful.\n",
            "I have been blown away by this conference, and I want to thank all of you for the many nice comments about what I had to say the other night.\n",
            "And I say that sincerely, partly because  I need that.\n",
            "Put yourselves in my position.\n",
            "非常謝謝你，克里斯。能有這個機會第二度踏上這個演講台\n",
            "真是一大榮幸。我非常感激。\n",
            "這個研討會給我留下了極為深刻的印象，我想感謝大家 對我之前演講的好評。\n",
            "我是由衷的想這麼說，有部份原因是因為 —— 我真的有需要!\n",
            "請你們設身處地為我想一想！\n"
          ]
        }
      ],
      "source": [
        "!head {data_prefix+'.'+src_lang} -n 5\n",
        "!head {data_prefix+'.'+tgt_lang} -n 5"
      ]
    },
    {
      "cell_type": "markdown",
      "metadata": {
        "id": "pRoE9UK7r1gY"
      },
      "source": [
        "## Preprocess files"
      ]
    },
    {
      "cell_type": "code",
      "execution_count": 9,
      "metadata": {
        "id": "3tzFwtnFrle3"
      },
      "outputs": [],
      "source": [
        "import re\n",
        "\n",
        "def strQ2B(ustring):\n",
        "    \"\"\"Full width -> half width\"\"\"\n",
        "    # reference:https://ithelp.ithome.com.tw/articles/10233122\n",
        "    ss = []\n",
        "    for s in ustring:\n",
        "        rstring = \"\"\n",
        "        for uchar in s:\n",
        "            inside_code = ord(uchar)\n",
        "            if inside_code == 12288:  # Full width space: direct conversion\n",
        "                inside_code = 32\n",
        "            elif (inside_code >= 65281 and inside_code <= 65374):  # Full width chars (except space) conversion\n",
        "                inside_code -= 65248\n",
        "            rstring += chr(inside_code)\n",
        "        ss.append(rstring)\n",
        "    return ''.join(ss)\n",
        "                \n",
        "def clean_s(s, lang):\n",
        "    if lang == 'en':\n",
        "        s = re.sub(r\"\\([^()]*\\)\", \"\", s) # remove ([text])\n",
        "        s = s.replace('-', '') # remove '-'\n",
        "        s = re.sub('([.,;!?()\\\"])', r' \\1 ', s) # keep punctuation\n",
        "    elif lang == 'zh':\n",
        "        s = strQ2B(s) # Q2B\n",
        "        s = re.sub(r\"\\([^()]*\\)\", \"\", s) # remove ([text])\n",
        "        s = s.replace(' ', '')\n",
        "        s = s.replace('—', '')\n",
        "        s = s.replace('“', '\"')\n",
        "        s = s.replace('”', '\"')\n",
        "        s = s.replace('_', '')\n",
        "        s = re.sub('([。,;!?()\\\"~「」])', r' \\1 ', s) # keep punctuation\n",
        "    s = ' '.join(s.strip().split())\n",
        "    return s\n",
        "\n",
        "def len_s(s, lang):\n",
        "    if lang == 'zh':\n",
        "        return len(s)\n",
        "    return len(s.split())\n",
        "\n",
        "def clean_corpus(prefix, l1, l2, ratio=9, max_len=1000, min_len=1):\n",
        "    if Path(f'{prefix}.clean.{l1}').exists() and Path(f'{prefix}.clean.{l2}').exists():\n",
        "        print(f'{prefix}.clean.{l1} & {l2} exists. skipping clean.')\n",
        "        return\n",
        "    with open(f'{prefix}.{l1}', 'r') as l1_in_f:\n",
        "        with open(f'{prefix}.{l2}', 'r') as l2_in_f:\n",
        "            with open(f'{prefix}.clean.{l1}', 'w') as l1_out_f:\n",
        "                with open(f'{prefix}.clean.{l2}', 'w') as l2_out_f:\n",
        "                    for s1 in l1_in_f:\n",
        "                        s1 = s1.strip()\n",
        "                        s2 = l2_in_f.readline().strip()\n",
        "                        s1 = clean_s(s1, l1)\n",
        "                        s2 = clean_s(s2, l2)\n",
        "                        s1_len = len_s(s1, l1)\n",
        "                        s2_len = len_s(s2, l2)\n",
        "                        if min_len > 0: # remove short sentence\n",
        "                            if s1_len < min_len or s2_len < min_len:\n",
        "                                continue\n",
        "                        if max_len > 0: # remove long sentence\n",
        "                            if s1_len > max_len or s2_len > max_len:\n",
        "                                continue\n",
        "                        if ratio > 0: # remove by ratio of length\n",
        "                            if s1_len/s2_len > ratio or s2_len/s1_len > ratio:\n",
        "                                continue\n",
        "                        print(s1, file=l1_out_f)\n",
        "                        print(s2, file=l2_out_f)"
      ]
    },
    {
      "cell_type": "code",
      "execution_count": 10,
      "metadata": {
        "id": "h_i8b1PRr9Nf"
      },
      "outputs": [
        {
          "name": "stdout",
          "output_type": "stream",
          "text": [
            "/home/weiweichi/weichi/HW5/DATA/rawdata/ted2020/train_dev.raw.clean.en & zh exists. skipping clean.\n",
            "/home/weiweichi/weichi/HW5/DATA/rawdata/ted2020/test.raw.clean.en & zh exists. skipping clean.\n"
          ]
        }
      ],
      "source": [
        "clean_corpus(data_prefix, src_lang, tgt_lang)\n",
        "clean_corpus(test_prefix, src_lang, tgt_lang, ratio=-1, min_len=-1, max_len=-1)"
      ]
    },
    {
      "cell_type": "code",
      "execution_count": 11,
      "metadata": {
        "colab": {
          "base_uri": "https://localhost:8080/"
        },
        "id": "gjT3XCy9r_rj",
        "outputId": "bdfb9b22-fc4d-4fb4-e244-647b903cea92"
      },
      "outputs": [
        {
          "name": "stdout",
          "output_type": "stream",
          "text": [
            "Thank you so much , Chris .\n",
            "And it's truly a great honor to have the opportunity to come to this stage twice ; I'm extremely grateful .\n",
            "I have been blown away by this conference , and I want to thank all of you for the many nice comments about what I had to say the other night .\n",
            "And I say that sincerely , partly because I need that .\n",
            "Put yourselves in my position .\n",
            "非常謝謝你 , 克里斯 。 能有這個機會第二度踏上這個演講台\n",
            "真是一大榮幸 。 我非常感激 。\n",
            "這個研討會給我留下了極為深刻的印象 , 我想感謝大家對我之前演講的好評 。\n",
            "我是由衷的想這麼說 , 有部份原因是因為我真的有需要 !\n",
            "請你們設身處地為我想一想 !\n"
          ]
        }
      ],
      "source": [
        "!head {data_prefix+'.clean.'+src_lang} -n 5\n",
        "!head {data_prefix+'.clean.'+tgt_lang} -n 5"
      ]
    },
    {
      "cell_type": "markdown",
      "metadata": {
        "id": "nKb4u67-sT_Z"
      },
      "source": [
        "## Split into train/valid"
      ]
    },
    {
      "cell_type": "code",
      "execution_count": 12,
      "metadata": {
        "id": "AuFKeDz3sGHL"
      },
      "outputs": [],
      "source": [
        "valid_ratio = 0.01 # 3000~4000 would suffice\n",
        "train_ratio = 1 - valid_ratio"
      ]
    },
    {
      "cell_type": "code",
      "execution_count": 13,
      "metadata": {
        "id": "QR2NVldqsXyY"
      },
      "outputs": [
        {
          "name": "stdout",
          "output_type": "stream",
          "text": [
            "train/valid splits exists. skipping split.\n"
          ]
        }
      ],
      "source": [
        "if (prefix/f'train.clean.{src_lang}').exists() \\\n",
        "and (prefix/f'train.clean.{tgt_lang}').exists() \\\n",
        "and (prefix/f'valid.clean.{src_lang}').exists() \\\n",
        "and (prefix/f'valid.clean.{tgt_lang}').exists():\n",
        "    print(f'train/valid splits exists. skipping split.')\n",
        "else:\n",
        "    line_num = sum(1 for line in open(f'{data_prefix}.clean.{src_lang}'))\n",
        "    labels = list(range(line_num))\n",
        "    random.shuffle(labels)\n",
        "    for lang in [src_lang, tgt_lang]:\n",
        "        train_f = open(os.path.join(data_dir, dataset_name, f'train.clean.{lang}'), 'w')\n",
        "        valid_f = open(os.path.join(data_dir, dataset_name, f'valid.clean.{lang}'), 'w')\n",
        "        count = 0\n",
        "        for line in open(f'{data_prefix}.clean.{lang}', 'r'):\n",
        "            if labels[count]/line_num < train_ratio:\n",
        "                train_f.write(line)\n",
        "            else:\n",
        "                valid_f.write(line)\n",
        "            count += 1\n",
        "        train_f.close()\n",
        "        valid_f.close()"
      ]
    },
    {
      "cell_type": "markdown",
      "metadata": {
        "id": "n1rwQysTsdJq"
      },
      "source": [
        "## Subword Units \n",
        "Out of vocabulary (OOV) has been a major problem in machine translation. This can be alleviated by using subword units.\n",
        "- We will use the [sentencepiece](#kudo-richardson-2018-sentencepiece) package\n",
        "- select 'unigram' or 'byte-pair encoding (BPE)' algorithm"
      ]
    },
    {
      "cell_type": "code",
      "execution_count": 14,
      "metadata": {
        "id": "Ecwllsa7sZRA"
      },
      "outputs": [
        {
          "name": "stdout",
          "output_type": "stream",
          "text": [
            "/home/weiweichi/weichi/HW5/DATA/rawdata/ted2020/spm8000.model exists. skipping spm_train.\n"
          ]
        }
      ],
      "source": [
        "import sentencepiece as spm\n",
        "vocab_size = 8000\n",
        "if (prefix/f'spm{vocab_size}.model').exists():\n",
        "    print(f'{prefix}/spm{vocab_size}.model exists. skipping spm_train.')\n",
        "else:\n",
        "    spm.SentencePieceTrainer.train(\n",
        "        input=','.join([f'{prefix}/train.clean.{src_lang}',\n",
        "                        f'{prefix}/valid.clean.{src_lang}',\n",
        "                        f'{prefix}/train.clean.{tgt_lang}',\n",
        "                        f'{prefix}/valid.clean.{tgt_lang}']),\n",
        "        model_prefix=prefix/f'spm{vocab_size}',\n",
        "        vocab_size=vocab_size,\n",
        "        character_coverage=1,\n",
        "        model_type='unigram', # 'bpe' works as well\n",
        "        input_sentence_size=1e6,\n",
        "        shuffle_input_sentence=True,\n",
        "        normalization_rule_name='nmt_nfkc_cf',\n",
        "    )"
      ]
    },
    {
      "cell_type": "code",
      "execution_count": 15,
      "metadata": {
        "id": "lQPRNldqse_V"
      },
      "outputs": [
        {
          "name": "stdout",
          "output_type": "stream",
          "text": [
            "/home/weiweichi/weichi/HW5/DATA/rawdata/ted2020/train.en exists. skipping spm_encode.\n",
            "/home/weiweichi/weichi/HW5/DATA/rawdata/ted2020/train.zh exists. skipping spm_encode.\n",
            "/home/weiweichi/weichi/HW5/DATA/rawdata/ted2020/valid.en exists. skipping spm_encode.\n",
            "/home/weiweichi/weichi/HW5/DATA/rawdata/ted2020/valid.zh exists. skipping spm_encode.\n",
            "/home/weiweichi/weichi/HW5/DATA/rawdata/ted2020/test.en exists. skipping spm_encode.\n",
            "/home/weiweichi/weichi/HW5/DATA/rawdata/ted2020/test.zh exists. skipping spm_encode.\n"
          ]
        }
      ],
      "source": [
        "spm_model = spm.SentencePieceProcessor(model_file=str(prefix/f'spm{vocab_size}.model'))\n",
        "in_tag = {\n",
        "    'train': 'train.clean',\n",
        "    'valid': 'valid.clean',\n",
        "    'test': 'test.raw.clean',\n",
        "}\n",
        "for split in ['train', 'valid', 'test']:\n",
        "    for lang in [src_lang, tgt_lang]:\n",
        "        out_path = prefix/f'{split}.{lang}'\n",
        "        if out_path.exists():\n",
        "            print(f\"{out_path} exists. skipping spm_encode.\")\n",
        "        else:\n",
        "            with open(prefix/f'{split}.{lang}', 'w') as out_f:\n",
        "                with open(prefix/f'{in_tag[split]}.{lang}', 'r') as in_f:\n",
        "                    for line in in_f:\n",
        "                        line = line.strip()\n",
        "                        tok = spm_model.encode(line, out_type=str)\n",
        "                        print(' '.join(tok), file=out_f)"
      ]
    },
    {
      "cell_type": "code",
      "execution_count": 16,
      "metadata": {
        "colab": {
          "base_uri": "https://localhost:8080/"
        },
        "id": "4j6lXHjAsjXa",
        "outputId": "4a86a8a6-c461-441d-a933-d06ab071dc46"
      },
      "outputs": [
        {
          "name": "stdout",
          "output_type": "stream",
          "text": [
            "▁thank ▁you ▁so ▁much ▁, ▁chris ▁.\n",
            "▁and ▁it ' s ▁ t ru ly ▁a ▁great ▁ho n or ▁to ▁have ▁the ▁ op port un ity ▁to ▁come ▁to ▁this ▁st age ▁ t wi ce ▁; ▁i ' m ▁ex t re me ly ▁gr ate ful ▁.\n",
            "▁i ▁have ▁been ▁ bl ow n ▁away ▁by ▁this ▁con fer ence ▁, ▁and ▁i ▁want ▁to ▁thank ▁all ▁of ▁you ▁for ▁the ▁many ▁ ni ce ▁ com ment s ▁about ▁what ▁i ▁had ▁to ▁say ▁the ▁other ▁night ▁.\n",
            "▁and ▁i ▁say ▁that ▁since re ly ▁, ▁part ly ▁because ▁i ▁need ▁that ▁.\n",
            "▁put ▁your s el ve s ▁in ▁my ▁po s ition ▁.\n",
            "▁ 非常 謝 謝 你 ▁, ▁ 克 里 斯 ▁。 ▁ 能 有 這個 機會 第二 度 踏 上 這個 演講 台\n",
            "▁ 真 是 一 大 榮 幸 ▁。 ▁我 非常 感 激 ▁。\n",
            "▁這個 研 討 會 給我 留 下 了 極 為 深 刻 的 印 象 ▁, ▁我想 感 謝 大家 對我 之前 演講 的 好 評 ▁。\n",
            "▁我 是由 衷 的 想 這麼 說 ▁, ▁有 部份 原因 是因為 我 真的 有 需要 ▁!\n",
            "▁ 請 你們 設 身 處 地 為 我想 一 想 ▁!\n"
          ]
        }
      ],
      "source": [
        "!head {data_dir+'/'+dataset_name+'/train.'+src_lang} -n 5\n",
        "!head {data_dir+'/'+dataset_name+'/train.'+tgt_lang} -n 5"
      ]
    },
    {
      "cell_type": "markdown",
      "metadata": {
        "id": "59si_C0Wsms7"
      },
      "source": [
        "## Binarize the data with fairseq"
      ]
    },
    {
      "cell_type": "code",
      "execution_count": 17,
      "metadata": {
        "colab": {
          "base_uri": "https://localhost:8080/"
        },
        "id": "w-cHVLSpsknh",
        "outputId": "3447b375-ab55-4508-8fdd-b660c3f91ca0"
      },
      "outputs": [
        {
          "name": "stdout",
          "output_type": "stream",
          "text": [
            "DATA/data-bin/ted2020 exists, will not overwrite!\n"
          ]
        }
      ],
      "source": [
        "binpath = Path('./DATA/data-bin', dataset_name)\n",
        "if binpath.exists():\n",
        "    print(binpath, \"exists, will not overwrite!\")\n",
        "else:\n",
        "    !python3 -m fairseq_cli.preprocess \\\n",
        "        --source-lang {src_lang}\\\n",
        "        --target-lang {tgt_lang}\\\n",
        "        --trainpref {prefix/'train'}\\\n",
        "        --validpref {prefix/'valid'}\\\n",
        "        --testpref {prefix/'test'}\\\n",
        "        --destdir {binpath}\\\n",
        "        --joined-dictionary\\\n",
        "        --workers 2"
      ]
    },
    {
      "cell_type": "markdown",
      "metadata": {
        "id": "szMuH1SWLPWA"
      },
      "source": [
        "# Configuration for experiments"
      ]
    },
    {
      "cell_type": "code",
      "execution_count": 18,
      "metadata": {
        "id": "5Luz3_tVLUxs"
      },
      "outputs": [],
      "source": [
        "config = Namespace(\n",
        "    datadir = \"./DATA/data-bin/ted2020\",\n",
        "    savedir = \"./checkpoints/transformer-bt\",\n",
        "    source_lang = \"zh\",\n",
        "    target_lang = \"en\",\n",
        "    \n",
        "    # cpu threads when fetching & processing data.\n",
        "    num_workers=2,  \n",
        "    # batch size in terms of tokens. gradient accumulation increases the effective batchsize.\n",
        "    max_tokens=8192,\n",
        "    accum_steps=2,\n",
        "    \n",
        "    # the lr s calculated from Noam lr scheduler. you can tune the maximum lr by this factor.\n",
        "    lr_factor=2.,\n",
        "    lr_warmup=4000,\n",
        "    \n",
        "    # clipping gradient norm helps alleviate gradient exploding\n",
        "    clip_norm=1.0,\n",
        "    \n",
        "    # maximum epochs for training\n",
        "    max_epoch=30,\n",
        "    start_epoch=1,\n",
        "    \n",
        "    # beam size for beam search\n",
        "    beam=5, \n",
        "    # generate sequences of maximum length ax + b, where x is the source length\n",
        "    max_len_a=1.2, \n",
        "    max_len_b=10, \n",
        "    # when decoding, post process sentence by removing sentencepiece symbols and jieba tokenization.\n",
        "    post_process = \"sentencepiece\",\n",
        "    \n",
        "    # checkpoints\n",
        "    keep_last_epochs=5,\n",
        "    resume=None, # if resume from checkpoint name (under config.savedir)\n",
        "    \n",
        "    # logging\n",
        "    use_wandb=False,\n",
        ")"
      ]
    },
    {
      "cell_type": "markdown",
      "metadata": {
        "id": "cjrJFvyQLg86"
      },
      "source": [
        "# Logging\n",
        "- logging package logs ordinary messages\n",
        "- wandb logs the loss, bleu, etc. in the training process"
      ]
    },
    {
      "cell_type": "code",
      "execution_count": 19,
      "metadata": {
        "id": "-ZiMyDWALbDk"
      },
      "outputs": [],
      "source": [
        "logging.basicConfig(\n",
        "    format=\"%(asctime)s | %(levelname)s | %(name)s | %(message)s\",\n",
        "    datefmt=\"%Y-%m-%d %H:%M:%S\",\n",
        "    level=\"INFO\", # \"DEBUG\" \"WARNING\" \"ERROR\"\n",
        "    stream=sys.stdout,\n",
        ")\n",
        "proj = \"hw5.seq2seq\"\n",
        "logger = logging.getLogger(proj)\n",
        "if config.use_wandb:\n",
        "    import wandb\n",
        "    wandb.init(project=proj, name=Path(config.savedir).stem, config=config)"
      ]
    },
    {
      "cell_type": "markdown",
      "metadata": {
        "id": "BNoSkK45Lmqc"
      },
      "source": [
        "# CUDA Environments"
      ]
    },
    {
      "cell_type": "code",
      "execution_count": 20,
      "metadata": {
        "colab": {
          "base_uri": "https://localhost:8080/"
        },
        "id": "oqrsbmcoLqMl",
        "outputId": "b40fe6d7-bd8e-4cf2-a29f-e01442f7cf8a"
      },
      "outputs": [
        {
          "name": "stdout",
          "output_type": "stream",
          "text": [
            "2022-04-07 02:34:59 | INFO | fairseq.utils | ***********************CUDA enviroments for all 1 workers***********************\n",
            "2022-04-07 02:34:59 | INFO | fairseq.utils | rank   0: capabilities =  6.1  ; total memory = 10.913 GB ; name = NVIDIA GeForce GTX 1080 Ti              \n",
            "2022-04-07 02:34:59 | INFO | fairseq.utils | ***********************CUDA enviroments for all 1 workers***********************\n"
          ]
        }
      ],
      "source": [
        "cuda_env = utils.CudaEnvironment()\n",
        "utils.CudaEnvironment.pretty_print_cuda_env_list([cuda_env])\n",
        "device = torch.device('cuda:0' if torch.cuda.is_available() else 'cpu')"
      ]
    },
    {
      "cell_type": "markdown",
      "metadata": {
        "id": "TbJuBIHLLt2D"
      },
      "source": [
        "# Dataloading"
      ]
    },
    {
      "cell_type": "markdown",
      "metadata": {
        "id": "oOpG4EBRLwe_"
      },
      "source": [
        "## We borrow the TranslationTask from fairseq\n",
        "* used to load the binarized data created above\n",
        "* well-implemented data iterator (dataloader)\n",
        "* built-in task.source_dictionary and task.target_dictionary are also handy\n",
        "* well-implemented beach search decoder"
      ]
    },
    {
      "cell_type": "code",
      "execution_count": 21,
      "metadata": {
        "colab": {
          "base_uri": "https://localhost:8080/"
        },
        "id": "3gSEy1uFLvVs",
        "outputId": "a7a4e866-1595-4d61-e680-0ff6543decd6"
      },
      "outputs": [
        {
          "name": "stdout",
          "output_type": "stream",
          "text": [
            "2022-04-07 02:34:59 | INFO | fairseq.tasks.translation | [zh] dictionary: 7992 types\n",
            "2022-04-07 02:34:59 | INFO | fairseq.tasks.translation | [en] dictionary: 7992 types\n"
          ]
        }
      ],
      "source": [
        "from fairseq.tasks.translation import TranslationConfig, TranslationTask\n",
        "\n",
        "## setup task\n",
        "task_cfg = TranslationConfig(\n",
        "    data=config.datadir,\n",
        "    source_lang=config.source_lang,\n",
        "    target_lang=config.target_lang,\n",
        "    train_subset=\"train\",\n",
        "    required_seq_len_multiple=8,\n",
        "    dataset_impl=\"mmap\",\n",
        "    upsample_primary=1,\n",
        ")\n",
        "task = TranslationTask.setup_task(task_cfg)"
      ]
    },
    {
      "cell_type": "code",
      "execution_count": 22,
      "metadata": {
        "colab": {
          "base_uri": "https://localhost:8080/"
        },
        "id": "mR7Bhov7L4IU",
        "outputId": "b5d07fcc-7c94-47de-8f9d-4bd79ba7e924"
      },
      "outputs": [
        {
          "name": "stdout",
          "output_type": "stream",
          "text": [
            "2022-04-07 02:34:59 | INFO | hw5.seq2seq | loading data for epoch 1\n",
            "2022-04-07 02:34:59 | INFO | fairseq.data.data_utils | loaded 390,041 examples from: ./DATA/data-bin/ted2020/train.en-zh.zh\n",
            "2022-04-07 02:34:59 | INFO | fairseq.data.data_utils | loaded 390,041 examples from: ./DATA/data-bin/ted2020/train.en-zh.en\n",
            "2022-04-07 02:34:59 | INFO | fairseq.tasks.translation | ./DATA/data-bin/ted2020 train zh-en 390041 examples\n",
            "2022-04-07 02:34:59 | INFO | fairseq.data.data_utils | loaded 3,939 examples from: ./DATA/data-bin/ted2020/valid.en-zh.zh\n",
            "2022-04-07 02:34:59 | INFO | fairseq.data.data_utils | loaded 3,939 examples from: ./DATA/data-bin/ted2020/valid.en-zh.en\n",
            "2022-04-07 02:34:59 | INFO | fairseq.tasks.translation | ./DATA/data-bin/ted2020 valid zh-en 3939 examples\n"
          ]
        }
      ],
      "source": [
        "logger.info(\"loading data for epoch 1\")\n",
        "task.load_dataset(split=\"train\", epoch=1, combine=True) # combine if you have back-translation data.\n",
        "task.load_dataset(split=\"valid\", epoch=1)"
      ]
    },
    {
      "cell_type": "code",
      "execution_count": 23,
      "metadata": {
        "colab": {
          "base_uri": "https://localhost:8080/"
        },
        "id": "P0BCEm_9L6ig",
        "outputId": "e03fdcf3-d4c9-4710-dbff-e94e0cce91a2"
      },
      "outputs": [
        {
          "name": "stdout",
          "output_type": "stream",
          "text": [
            "{'id': 1,\n",
            " 'source': tensor([  53, 3134, 3107,   34,  408, 1223, 3895,  670,    9, 1038,  498,  148,\n",
            "        1689,  364,  129, 1050, 1103,   34,  408,  158,  607, 3268,  306,    9,\n",
            "        1105,    2]),\n",
            " 'target': tensor([  35,   22,  440,   27,    5,  850,  261,  172,    6,   29,  800,    6,\n",
            "         184,  164,   99, 1178,  374,  804,  257,   41,    5,  313,  868,   42,\n",
            "          27,   61, 1836,   18,  184, 1147, 1404,   21,    6,    6,  320,    7,\n",
            "           2])}\n",
            "'Source: 我們培植了一些果蠅它們的腦部被隨機地安置了一些可以光驅動的細胞'\n",
            "('Target: so we bred flies whose brains were more or less randomly peppered '\n",
            " 'with cells that were light addressable .')\n"
          ]
        }
      ],
      "source": [
        "sample = task.dataset(\"valid\")[1]\n",
        "pprint.pprint(sample)\n",
        "pprint.pprint(\n",
        "    \"Source: \" + \\\n",
        "    task.source_dictionary.string(\n",
        "        sample['source'],\n",
        "        config.post_process,\n",
        "    )\n",
        ")\n",
        "pprint.pprint(\n",
        "    \"Target: \" + \\\n",
        "    task.target_dictionary.string(\n",
        "        sample['target'],\n",
        "        config.post_process,\n",
        "    )\n",
        ")"
      ]
    },
    {
      "cell_type": "markdown",
      "metadata": {
        "id": "UcfCVa2FMBSE"
      },
      "source": [
        "# Dataset iterator"
      ]
    },
    {
      "cell_type": "markdown",
      "metadata": {
        "id": "yBvc-B_6MKZM"
      },
      "source": [
        "* Controls every batch to contain no more than N tokens, which optimizes GPU memory efficiency\n",
        "* Shuffles the training set for every epoch\n",
        "* Ignore sentences exceeding maximum length\n",
        "* Pad all sentences in a batch to the same length, which enables parallel computing by GPU\n",
        "* Add eos and shift one token\n",
        "    - teacher forcing: to train the model to predict the next token based on prefix, we feed the right shifted target sequence as the decoder input.\n",
        "    - generally, prepending bos to the target would do the job (as shown below)\n",
        "![seq2seq](https://i.imgur.com/0zeDyuI.png)\n",
        "    - in fairseq however, this is done by moving the eos token to the begining. Empirically, this has the same effect. For instance:\n",
        "    ```\n",
        "    # output target (target) and Decoder input (prev_output_tokens): \n",
        "                   eos = 2\n",
        "                target = 419,  711,  238,  888,  792,   60,  968,    8,    2\n",
        "    prev_output_tokens = 2,  419,  711,  238,  888,  792,   60,  968,    8\n",
        "    ```\n",
        "\n"
      ]
    },
    {
      "cell_type": "code",
      "execution_count": 24,
      "metadata": {
        "colab": {
          "base_uri": "https://localhost:8080/"
        },
        "id": "OWFJFmCnMDXW",
        "outputId": "d5a62c5f-df9b-4e71-86ad-d27de323492d"
      },
      "outputs": [
        {
          "name": "stdout",
          "output_type": "stream",
          "text": [
            "2022-04-07 02:35:00 | WARNING | fairseq.tasks.fairseq_task | 2,565 samples have invalid sizes and will be skipped, max_positions=(20, 20), first few sample ids=[1811, 3245, 3729, 1898, 732, 226, 3630, 2905, 2594, 196]\n"
          ]
        },
        {
          "data": {
            "text/plain": [
              "{'id': tensor([2001, 3666]),\n",
              " 'nsentences': 2,\n",
              " 'ntokens': 15,\n",
              " 'net_input': {'src_tokens': tensor([[   1,    5,  299, 1257,  843,  611,  413,    2],\n",
              "          [   1,   53,  968,  407,  177,  362,   33,    2]]),\n",
              "  'src_lengths': tensor([7, 7]),\n",
              "  'prev_output_tokens': tensor([[   2, 1166,  812,  542,  519,  538,    7,    1],\n",
              "          [   2,  151,  741,   22,  657,  718,   18,   33]])},\n",
              " 'target': tensor([[1166,  812,  542,  519,  538,    7,    2,    1],\n",
              "         [ 151,  741,   22,  657,  718,   18,   33,    2]])}"
            ]
          },
          "execution_count": 24,
          "metadata": {},
          "output_type": "execute_result"
        }
      ],
      "source": [
        "def load_data_iterator(task, split, epoch=1, max_tokens=4000, num_workers=1, cached=True):\n",
        "    batch_iterator = task.get_batch_iterator(\n",
        "        dataset=task.dataset(split),\n",
        "        max_tokens=max_tokens,\n",
        "        max_sentences=None,\n",
        "        max_positions=utils.resolve_max_positions(\n",
        "            task.max_positions(),\n",
        "            max_tokens,\n",
        "        ),\n",
        "        ignore_invalid_inputs=True,\n",
        "        seed=seed,\n",
        "        num_workers=num_workers,\n",
        "        epoch=epoch,\n",
        "        disable_iterator_cache=not cached,\n",
        "        # Set this to False to speed up. However, if set to False, changing max_tokens beyond \n",
        "        # first call of this method has no effect. \n",
        "    )\n",
        "    return batch_iterator\n",
        "\n",
        "demo_epoch_obj = load_data_iterator(task, \"valid\", epoch=1, max_tokens=20, num_workers=1, cached=False)\n",
        "demo_iter = demo_epoch_obj.next_epoch_itr(shuffle=True)\n",
        "sample = next(demo_iter)\n",
        "sample"
      ]
    },
    {
      "cell_type": "markdown",
      "metadata": {
        "id": "p86K-0g7Me4M"
      },
      "source": [
        "* each batch is a python dict, with string key and Tensor value. Contents are described below:\n",
        "```python\n",
        "batch = {\n",
        "    \"id\": id, # id for each example \n",
        "    \"nsentences\": len(samples), # batch size (sentences)\n",
        "    \"ntokens\": ntokens, # batch size (tokens)\n",
        "    \"net_input\": {\n",
        "        \"src_tokens\": src_tokens, # sequence in source language\n",
        "        \"src_lengths\": src_lengths, # sequence length of each example before padding\n",
        "        \"prev_output_tokens\": prev_output_tokens, # right shifted target, as mentioned above.\n",
        "    },\n",
        "    \"target\": target, # target sequence\n",
        "}\n",
        "```"
      ]
    },
    {
      "cell_type": "markdown",
      "metadata": {
        "id": "9EyDBE5ZMkFZ"
      },
      "source": [
        "# Model Architecture\n",
        "* We again inherit fairseq's encoder, decoder and model, so that in the testing phase we can directly leverage fairseq's beam search decoder."
      ]
    },
    {
      "cell_type": "code",
      "execution_count": 25,
      "metadata": {
        "id": "Hzh74qLIMfW_"
      },
      "outputs": [],
      "source": [
        "from fairseq.models import (\n",
        "    FairseqEncoder, \n",
        "    FairseqIncrementalDecoder,\n",
        "    FairseqEncoderDecoderModel\n",
        ")"
      ]
    },
    {
      "cell_type": "markdown",
      "metadata": {
        "id": "UDAPmxjRNEEL"
      },
      "source": [
        "## Seq2Seq\n",
        "- Composed of **Encoder** and **Decoder**\n",
        "- Recieves inputs and pass to **Encoder** \n",
        "- Pass the outputs from **Encoder** to **Decoder**\n",
        "- **Decoder** will decode according to outputs of previous timesteps as well as **Encoder** outputs  \n",
        "- Once done decoding, return the **Decoder** outputs"
      ]
    },
    {
      "cell_type": "code",
      "execution_count": 26,
      "metadata": {
        "id": "oRwKdLa0NEU6"
      },
      "outputs": [],
      "source": [
        "class Seq2Seq(FairseqEncoderDecoderModel):\n",
        "    def __init__(self, args, encoder, decoder):\n",
        "        super().__init__(encoder, decoder)\n",
        "        self.args = args\n",
        "    \n",
        "    def forward(\n",
        "        self,\n",
        "        src_tokens,\n",
        "        src_lengths,\n",
        "        prev_output_tokens,\n",
        "        return_all_hiddens: bool = True,\n",
        "    ):\n",
        "        \"\"\"\n",
        "        Run the forward pass for an encoder-decoder model.\n",
        "        \"\"\"\n",
        "        encoder_out = self.encoder(\n",
        "            src_tokens, src_lengths=src_lengths, return_all_hiddens=return_all_hiddens\n",
        "        )\n",
        "        logits, extra = self.decoder(\n",
        "            prev_output_tokens,\n",
        "            encoder_out=encoder_out,\n",
        "            src_lengths=src_lengths,\n",
        "            return_all_hiddens=return_all_hiddens,\n",
        "        )\n",
        "        return logits, extra"
      ]
    },
    {
      "cell_type": "markdown",
      "metadata": {
        "id": "zu3C2JfqNHzk"
      },
      "source": [
        "# Model Initialization"
      ]
    },
    {
      "cell_type": "code",
      "execution_count": 27,
      "metadata": {
        "id": "nyI9FOx-NJ2m"
      },
      "outputs": [],
      "source": [
        "# # HINT: transformer architecture\n",
        "from fairseq.models.transformer import (\n",
        "    TransformerEncoder, \n",
        "    TransformerDecoder,\n",
        ")\n",
        "\n",
        "def build_model(args, task):\n",
        "    \"\"\" build a model instance based on hyperparameters \"\"\"\n",
        "    src_dict, tgt_dict = task.source_dictionary, task.target_dictionary\n",
        "\n",
        "    # token embeddings\n",
        "    encoder_embed_tokens = nn.Embedding(len(src_dict), args.encoder_embed_dim, src_dict.pad())\n",
        "    decoder_embed_tokens = nn.Embedding(len(tgt_dict), args.decoder_embed_dim, tgt_dict.pad())\n",
        "    \n",
        "    # encoder decoder\n",
        "    # HINT: TODO: switch to TransformerEncoder & TransformerDecoder\n",
        "    encoder = TransformerEncoder(args, src_dict, encoder_embed_tokens)\n",
        "    decoder = TransformerDecoder(args, tgt_dict, decoder_embed_tokens)\n",
        "\n",
        "    # sequence to sequence model\n",
        "    model = Seq2Seq(args, encoder, decoder)\n",
        "    \n",
        "    # initialization for seq2seq model is important, requires extra handling\n",
        "    def init_params(module):\n",
        "        from fairseq.modules import MultiheadAttention\n",
        "        if isinstance(module, nn.Linear):\n",
        "            module.weight.data.normal_(mean=0.0, std=0.02)\n",
        "            if module.bias is not None:\n",
        "                module.bias.data.zero_()\n",
        "        if isinstance(module, nn.Embedding):\n",
        "            module.weight.data.normal_(mean=0.0, std=0.02)\n",
        "            if module.padding_idx is not None:\n",
        "                module.weight.data[module.padding_idx].zero_()\n",
        "        if isinstance(module, MultiheadAttention):\n",
        "            module.q_proj.weight.data.normal_(mean=0.0, std=0.02)\n",
        "            module.k_proj.weight.data.normal_(mean=0.0, std=0.02)\n",
        "            module.v_proj.weight.data.normal_(mean=0.0, std=0.02)\n",
        "        if isinstance(module, nn.RNNBase):\n",
        "            for name, param in module.named_parameters():\n",
        "                if \"weight\" in name or \"bias\" in name:\n",
        "                    param.data.uniform_(-0.1, 0.1)\n",
        "            \n",
        "    # weight initialization\n",
        "    model.apply(init_params)\n",
        "    return model"
      ]
    },
    {
      "cell_type": "markdown",
      "metadata": {
        "id": "ce5n4eS7NQNy"
      },
      "source": [
        "## Architecture Related Configuration\n",
        "\n",
        "For strong baseline, please refer to the hyperparameters for *transformer-base* in Table 3 in [Attention is all you need](#vaswani2017)"
      ]
    },
    {
      "cell_type": "code",
      "execution_count": 28,
      "metadata": {
        "id": "Cyn30VoGNT6N"
      },
      "outputs": [],
      "source": [
        "arch_args = Namespace(\n",
        "    encoder_embed_dim=480,\n",
        "    encoder_ffn_embed_dim=2048,\n",
        "    encoder_layers=5,\n",
        "    decoder_embed_dim=480,\n",
        "    decoder_ffn_embed_dim=2048,\n",
        "    decoder_layers=5,\n",
        "    share_decoder_input_output_embed=True,\n",
        "    dropout=0.1,\n",
        ")\n",
        "\n",
        "# HINT: these patches on parameters for Transformer\n",
        "def add_transformer_args(args):\n",
        "    args.encoder_attention_heads=12\n",
        "    args.encoder_normalize_before=True\n",
        "    \n",
        "    args.decoder_attention_heads=12\n",
        "    args.decoder_normalize_before=True\n",
        "    \n",
        "    args.activation_fn=\"relu\"\n",
        "    args.max_source_positions=1024\n",
        "    args.max_target_positions=1024\n",
        "    \n",
        "    # patches on default parameters for Transformer (those not set above)\n",
        "    from fairseq.models.transformer import base_architecture\n",
        "    base_architecture(arch_args)\n",
        "\n",
        "add_transformer_args(arch_args)"
      ]
    },
    {
      "cell_type": "code",
      "execution_count": 29,
      "metadata": {
        "id": "Nbb76QLCNZZZ"
      },
      "outputs": [],
      "source": [
        "if config.use_wandb:\n",
        "    wandb.config.update(vars(arch_args))"
      ]
    },
    {
      "cell_type": "code",
      "execution_count": 30,
      "metadata": {
        "colab": {
          "base_uri": "https://localhost:8080/"
        },
        "id": "7ZWfxsCDNatH",
        "outputId": "ce69bfe3-52b7-4e6b-afb5-2b3a7ac37149"
      },
      "outputs": [
        {
          "name": "stdout",
          "output_type": "stream",
          "text": [
            "2022-04-07 02:35:01 | INFO | hw5.seq2seq | Seq2Seq(\n",
            "  (encoder): TransformerEncoder(\n",
            "    (dropout_module): FairseqDropout()\n",
            "    (embed_tokens): Embedding(7992, 480, padding_idx=1)\n",
            "    (embed_positions): SinusoidalPositionalEmbedding()\n",
            "    (layers): ModuleList(\n",
            "      (0): TransformerEncoderLayer(\n",
            "        (self_attn): MultiheadAttention(\n",
            "          (dropout_module): FairseqDropout()\n",
            "          (k_proj): Linear(in_features=480, out_features=480, bias=True)\n",
            "          (v_proj): Linear(in_features=480, out_features=480, bias=True)\n",
            "          (q_proj): Linear(in_features=480, out_features=480, bias=True)\n",
            "          (out_proj): Linear(in_features=480, out_features=480, bias=True)\n",
            "        )\n",
            "        (self_attn_layer_norm): LayerNorm((480,), eps=1e-05, elementwise_affine=True)\n",
            "        (dropout_module): FairseqDropout()\n",
            "        (activation_dropout_module): FairseqDropout()\n",
            "        (fc1): Linear(in_features=480, out_features=2048, bias=True)\n",
            "        (fc2): Linear(in_features=2048, out_features=480, bias=True)\n",
            "        (final_layer_norm): LayerNorm((480,), eps=1e-05, elementwise_affine=True)\n",
            "      )\n",
            "      (1): TransformerEncoderLayer(\n",
            "        (self_attn): MultiheadAttention(\n",
            "          (dropout_module): FairseqDropout()\n",
            "          (k_proj): Linear(in_features=480, out_features=480, bias=True)\n",
            "          (v_proj): Linear(in_features=480, out_features=480, bias=True)\n",
            "          (q_proj): Linear(in_features=480, out_features=480, bias=True)\n",
            "          (out_proj): Linear(in_features=480, out_features=480, bias=True)\n",
            "        )\n",
            "        (self_attn_layer_norm): LayerNorm((480,), eps=1e-05, elementwise_affine=True)\n",
            "        (dropout_module): FairseqDropout()\n",
            "        (activation_dropout_module): FairseqDropout()\n",
            "        (fc1): Linear(in_features=480, out_features=2048, bias=True)\n",
            "        (fc2): Linear(in_features=2048, out_features=480, bias=True)\n",
            "        (final_layer_norm): LayerNorm((480,), eps=1e-05, elementwise_affine=True)\n",
            "      )\n",
            "      (2): TransformerEncoderLayer(\n",
            "        (self_attn): MultiheadAttention(\n",
            "          (dropout_module): FairseqDropout()\n",
            "          (k_proj): Linear(in_features=480, out_features=480, bias=True)\n",
            "          (v_proj): Linear(in_features=480, out_features=480, bias=True)\n",
            "          (q_proj): Linear(in_features=480, out_features=480, bias=True)\n",
            "          (out_proj): Linear(in_features=480, out_features=480, bias=True)\n",
            "        )\n",
            "        (self_attn_layer_norm): LayerNorm((480,), eps=1e-05, elementwise_affine=True)\n",
            "        (dropout_module): FairseqDropout()\n",
            "        (activation_dropout_module): FairseqDropout()\n",
            "        (fc1): Linear(in_features=480, out_features=2048, bias=True)\n",
            "        (fc2): Linear(in_features=2048, out_features=480, bias=True)\n",
            "        (final_layer_norm): LayerNorm((480,), eps=1e-05, elementwise_affine=True)\n",
            "      )\n",
            "      (3): TransformerEncoderLayer(\n",
            "        (self_attn): MultiheadAttention(\n",
            "          (dropout_module): FairseqDropout()\n",
            "          (k_proj): Linear(in_features=480, out_features=480, bias=True)\n",
            "          (v_proj): Linear(in_features=480, out_features=480, bias=True)\n",
            "          (q_proj): Linear(in_features=480, out_features=480, bias=True)\n",
            "          (out_proj): Linear(in_features=480, out_features=480, bias=True)\n",
            "        )\n",
            "        (self_attn_layer_norm): LayerNorm((480,), eps=1e-05, elementwise_affine=True)\n",
            "        (dropout_module): FairseqDropout()\n",
            "        (activation_dropout_module): FairseqDropout()\n",
            "        (fc1): Linear(in_features=480, out_features=2048, bias=True)\n",
            "        (fc2): Linear(in_features=2048, out_features=480, bias=True)\n",
            "        (final_layer_norm): LayerNorm((480,), eps=1e-05, elementwise_affine=True)\n",
            "      )\n",
            "      (4): TransformerEncoderLayer(\n",
            "        (self_attn): MultiheadAttention(\n",
            "          (dropout_module): FairseqDropout()\n",
            "          (k_proj): Linear(in_features=480, out_features=480, bias=True)\n",
            "          (v_proj): Linear(in_features=480, out_features=480, bias=True)\n",
            "          (q_proj): Linear(in_features=480, out_features=480, bias=True)\n",
            "          (out_proj): Linear(in_features=480, out_features=480, bias=True)\n",
            "        )\n",
            "        (self_attn_layer_norm): LayerNorm((480,), eps=1e-05, elementwise_affine=True)\n",
            "        (dropout_module): FairseqDropout()\n",
            "        (activation_dropout_module): FairseqDropout()\n",
            "        (fc1): Linear(in_features=480, out_features=2048, bias=True)\n",
            "        (fc2): Linear(in_features=2048, out_features=480, bias=True)\n",
            "        (final_layer_norm): LayerNorm((480,), eps=1e-05, elementwise_affine=True)\n",
            "      )\n",
            "    )\n",
            "    (layer_norm): LayerNorm((480,), eps=1e-05, elementwise_affine=True)\n",
            "  )\n",
            "  (decoder): TransformerDecoder(\n",
            "    (dropout_module): FairseqDropout()\n",
            "    (embed_tokens): Embedding(7992, 480, padding_idx=1)\n",
            "    (embed_positions): SinusoidalPositionalEmbedding()\n",
            "    (layers): ModuleList(\n",
            "      (0): TransformerDecoderLayer(\n",
            "        (dropout_module): FairseqDropout()\n",
            "        (self_attn): MultiheadAttention(\n",
            "          (dropout_module): FairseqDropout()\n",
            "          (k_proj): Linear(in_features=480, out_features=480, bias=True)\n",
            "          (v_proj): Linear(in_features=480, out_features=480, bias=True)\n",
            "          (q_proj): Linear(in_features=480, out_features=480, bias=True)\n",
            "          (out_proj): Linear(in_features=480, out_features=480, bias=True)\n",
            "        )\n",
            "        (activation_dropout_module): FairseqDropout()\n",
            "        (self_attn_layer_norm): LayerNorm((480,), eps=1e-05, elementwise_affine=True)\n",
            "        (encoder_attn): MultiheadAttention(\n",
            "          (dropout_module): FairseqDropout()\n",
            "          (k_proj): Linear(in_features=480, out_features=480, bias=True)\n",
            "          (v_proj): Linear(in_features=480, out_features=480, bias=True)\n",
            "          (q_proj): Linear(in_features=480, out_features=480, bias=True)\n",
            "          (out_proj): Linear(in_features=480, out_features=480, bias=True)\n",
            "        )\n",
            "        (encoder_attn_layer_norm): LayerNorm((480,), eps=1e-05, elementwise_affine=True)\n",
            "        (fc1): Linear(in_features=480, out_features=2048, bias=True)\n",
            "        (fc2): Linear(in_features=2048, out_features=480, bias=True)\n",
            "        (final_layer_norm): LayerNorm((480,), eps=1e-05, elementwise_affine=True)\n",
            "      )\n",
            "      (1): TransformerDecoderLayer(\n",
            "        (dropout_module): FairseqDropout()\n",
            "        (self_attn): MultiheadAttention(\n",
            "          (dropout_module): FairseqDropout()\n",
            "          (k_proj): Linear(in_features=480, out_features=480, bias=True)\n",
            "          (v_proj): Linear(in_features=480, out_features=480, bias=True)\n",
            "          (q_proj): Linear(in_features=480, out_features=480, bias=True)\n",
            "          (out_proj): Linear(in_features=480, out_features=480, bias=True)\n",
            "        )\n",
            "        (activation_dropout_module): FairseqDropout()\n",
            "        (self_attn_layer_norm): LayerNorm((480,), eps=1e-05, elementwise_affine=True)\n",
            "        (encoder_attn): MultiheadAttention(\n",
            "          (dropout_module): FairseqDropout()\n",
            "          (k_proj): Linear(in_features=480, out_features=480, bias=True)\n",
            "          (v_proj): Linear(in_features=480, out_features=480, bias=True)\n",
            "          (q_proj): Linear(in_features=480, out_features=480, bias=True)\n",
            "          (out_proj): Linear(in_features=480, out_features=480, bias=True)\n",
            "        )\n",
            "        (encoder_attn_layer_norm): LayerNorm((480,), eps=1e-05, elementwise_affine=True)\n",
            "        (fc1): Linear(in_features=480, out_features=2048, bias=True)\n",
            "        (fc2): Linear(in_features=2048, out_features=480, bias=True)\n",
            "        (final_layer_norm): LayerNorm((480,), eps=1e-05, elementwise_affine=True)\n",
            "      )\n",
            "      (2): TransformerDecoderLayer(\n",
            "        (dropout_module): FairseqDropout()\n",
            "        (self_attn): MultiheadAttention(\n",
            "          (dropout_module): FairseqDropout()\n",
            "          (k_proj): Linear(in_features=480, out_features=480, bias=True)\n",
            "          (v_proj): Linear(in_features=480, out_features=480, bias=True)\n",
            "          (q_proj): Linear(in_features=480, out_features=480, bias=True)\n",
            "          (out_proj): Linear(in_features=480, out_features=480, bias=True)\n",
            "        )\n",
            "        (activation_dropout_module): FairseqDropout()\n",
            "        (self_attn_layer_norm): LayerNorm((480,), eps=1e-05, elementwise_affine=True)\n",
            "        (encoder_attn): MultiheadAttention(\n",
            "          (dropout_module): FairseqDropout()\n",
            "          (k_proj): Linear(in_features=480, out_features=480, bias=True)\n",
            "          (v_proj): Linear(in_features=480, out_features=480, bias=True)\n",
            "          (q_proj): Linear(in_features=480, out_features=480, bias=True)\n",
            "          (out_proj): Linear(in_features=480, out_features=480, bias=True)\n",
            "        )\n",
            "        (encoder_attn_layer_norm): LayerNorm((480,), eps=1e-05, elementwise_affine=True)\n",
            "        (fc1): Linear(in_features=480, out_features=2048, bias=True)\n",
            "        (fc2): Linear(in_features=2048, out_features=480, bias=True)\n",
            "        (final_layer_norm): LayerNorm((480,), eps=1e-05, elementwise_affine=True)\n",
            "      )\n",
            "      (3): TransformerDecoderLayer(\n",
            "        (dropout_module): FairseqDropout()\n",
            "        (self_attn): MultiheadAttention(\n",
            "          (dropout_module): FairseqDropout()\n",
            "          (k_proj): Linear(in_features=480, out_features=480, bias=True)\n",
            "          (v_proj): Linear(in_features=480, out_features=480, bias=True)\n",
            "          (q_proj): Linear(in_features=480, out_features=480, bias=True)\n",
            "          (out_proj): Linear(in_features=480, out_features=480, bias=True)\n",
            "        )\n",
            "        (activation_dropout_module): FairseqDropout()\n",
            "        (self_attn_layer_norm): LayerNorm((480,), eps=1e-05, elementwise_affine=True)\n",
            "        (encoder_attn): MultiheadAttention(\n",
            "          (dropout_module): FairseqDropout()\n",
            "          (k_proj): Linear(in_features=480, out_features=480, bias=True)\n",
            "          (v_proj): Linear(in_features=480, out_features=480, bias=True)\n",
            "          (q_proj): Linear(in_features=480, out_features=480, bias=True)\n",
            "          (out_proj): Linear(in_features=480, out_features=480, bias=True)\n",
            "        )\n",
            "        (encoder_attn_layer_norm): LayerNorm((480,), eps=1e-05, elementwise_affine=True)\n",
            "        (fc1): Linear(in_features=480, out_features=2048, bias=True)\n",
            "        (fc2): Linear(in_features=2048, out_features=480, bias=True)\n",
            "        (final_layer_norm): LayerNorm((480,), eps=1e-05, elementwise_affine=True)\n",
            "      )\n",
            "      (4): TransformerDecoderLayer(\n",
            "        (dropout_module): FairseqDropout()\n",
            "        (self_attn): MultiheadAttention(\n",
            "          (dropout_module): FairseqDropout()\n",
            "          (k_proj): Linear(in_features=480, out_features=480, bias=True)\n",
            "          (v_proj): Linear(in_features=480, out_features=480, bias=True)\n",
            "          (q_proj): Linear(in_features=480, out_features=480, bias=True)\n",
            "          (out_proj): Linear(in_features=480, out_features=480, bias=True)\n",
            "        )\n",
            "        (activation_dropout_module): FairseqDropout()\n",
            "        (self_attn_layer_norm): LayerNorm((480,), eps=1e-05, elementwise_affine=True)\n",
            "        (encoder_attn): MultiheadAttention(\n",
            "          (dropout_module): FairseqDropout()\n",
            "          (k_proj): Linear(in_features=480, out_features=480, bias=True)\n",
            "          (v_proj): Linear(in_features=480, out_features=480, bias=True)\n",
            "          (q_proj): Linear(in_features=480, out_features=480, bias=True)\n",
            "          (out_proj): Linear(in_features=480, out_features=480, bias=True)\n",
            "        )\n",
            "        (encoder_attn_layer_norm): LayerNorm((480,), eps=1e-05, elementwise_affine=True)\n",
            "        (fc1): Linear(in_features=480, out_features=2048, bias=True)\n",
            "        (fc2): Linear(in_features=2048, out_features=480, bias=True)\n",
            "        (final_layer_norm): LayerNorm((480,), eps=1e-05, elementwise_affine=True)\n",
            "      )\n",
            "    )\n",
            "    (layer_norm): LayerNorm((480,), eps=1e-05, elementwise_affine=True)\n",
            "    (output_projection): Linear(in_features=480, out_features=7992, bias=False)\n",
            "  )\n",
            ")\n"
          ]
        }
      ],
      "source": [
        "model = build_model(arch_args, task)\n",
        "logger.info(model)"
      ]
    },
    {
      "cell_type": "markdown",
      "metadata": {
        "id": "aHll7GRNNdqc"
      },
      "source": [
        "# Optimization"
      ]
    },
    {
      "cell_type": "markdown",
      "metadata": {
        "id": "rUB9f1WCNgMH"
      },
      "source": [
        "## Loss: Label Smoothing Regularization\n",
        "* let the model learn to generate less concentrated distribution, and prevent over-confidence\n",
        "* sometimes the ground truth may not be the only answer. thus, when calculating loss, we reserve some probability for incorrect labels\n",
        "* avoids overfitting\n",
        "\n",
        "code [source](https://fairseq.readthedocs.io/en/latest/_modules/fairseq/criterions/label_smoothed_cross_entropy.html)"
      ]
    },
    {
      "cell_type": "code",
      "execution_count": 31,
      "metadata": {
        "id": "IgspdJn0NdYF"
      },
      "outputs": [],
      "source": [
        "class LabelSmoothedCrossEntropyCriterion(nn.Module):\n",
        "    def __init__(self, smoothing, ignore_index=None, reduce=True):\n",
        "        super().__init__()\n",
        "        self.smoothing = smoothing\n",
        "        self.ignore_index = ignore_index\n",
        "        self.reduce = reduce\n",
        "    \n",
        "    def forward(self, lprobs, target):\n",
        "        if target.dim() == lprobs.dim() - 1:\n",
        "            target = target.unsqueeze(-1)\n",
        "        # nll: Negative log likelihood，the cross-entropy when target is one-hot. following line is same as F.nll_loss\n",
        "        nll_loss = -lprobs.gather(dim=-1, index=target)\n",
        "        #  reserve some probability for other labels. thus when calculating cross-entropy, \n",
        "        # equivalent to summing the log probs of all labels\n",
        "        smooth_loss = -lprobs.sum(dim=-1, keepdim=True)\n",
        "        if self.ignore_index is not None:\n",
        "            pad_mask = target.eq(self.ignore_index)\n",
        "            nll_loss.masked_fill_(pad_mask, 0.0)\n",
        "            smooth_loss.masked_fill_(pad_mask, 0.0)\n",
        "        else:\n",
        "            nll_loss = nll_loss.squeeze(-1)\n",
        "            smooth_loss = smooth_loss.squeeze(-1)\n",
        "        if self.reduce:\n",
        "            nll_loss = nll_loss.sum()\n",
        "            smooth_loss = smooth_loss.sum()\n",
        "        # when calculating cross-entropy, add the loss of other labels\n",
        "        eps_i = self.smoothing / lprobs.size(-1)\n",
        "        loss = (1.0 - self.smoothing) * nll_loss + eps_i * smooth_loss\n",
        "        return loss\n",
        "\n",
        "# generally, 0.1 is good enough\n",
        "criterion = LabelSmoothedCrossEntropyCriterion(\n",
        "    smoothing=0.1,\n",
        "    ignore_index=task.target_dictionary.pad(),\n",
        ")"
      ]
    },
    {
      "cell_type": "markdown",
      "metadata": {
        "id": "aRalDto2NkJJ"
      },
      "source": [
        "## Optimizer: Adam + lr scheduling\n",
        "Inverse square root scheduling is important to the stability when training Transformer. It's later used on RNN as well.\n",
        "Update the learning rate according to the following equation. Linearly increase the first stage, then decay proportionally to the inverse square root of timestep.\n",
        "$$lrate = d_{\\text{model}}^{-0.5}\\cdot\\min({step\\_num}^{-0.5},{step\\_num}\\cdot{warmup\\_steps}^{-1.5})$$"
      ]
    },
    {
      "cell_type": "code",
      "execution_count": 32,
      "metadata": {
        "id": "sS7tQj1ROBYm"
      },
      "outputs": [],
      "source": [
        "def get_rate(d_model, step_num, warmup_step):\n",
        "    # TODO: Change lr from constant to the equation shown above\n",
        "    return d_model**(-0.5) * min(step_num ** (-0.5), step_num * warmup_step ** (-1.5))"
      ]
    },
    {
      "cell_type": "code",
      "execution_count": 33,
      "metadata": {
        "id": "J8hoAjHPNkh3"
      },
      "outputs": [],
      "source": [
        "class NoamOpt:\n",
        "    \"Optim wrapper that implements rate.\"\n",
        "    def __init__(self, model_size, factor, warmup, optimizer):\n",
        "        self.optimizer = optimizer\n",
        "        self._step = 0\n",
        "        self.warmup = warmup\n",
        "        self.factor = factor\n",
        "        self.model_size = model_size\n",
        "        self._rate = 0\n",
        "        \n",
        "    @property\n",
        "    def param_groups(self):\n",
        "        return self.optimizer.param_groups\n",
        "        \n",
        "    def multiply_grads(self, c):\n",
        "        \"\"\"Multiplies grads by a constant *c*.\"\"\"                \n",
        "        for group in self.param_groups:\n",
        "            for p in group['params']:\n",
        "                if p.grad is not None:\n",
        "                    p.grad.data.mul_(c)\n",
        "        \n",
        "    def step(self):\n",
        "        \"Update parameters and rate\"\n",
        "        self._step += 1\n",
        "        rate = self.rate()\n",
        "        for p in self.param_groups:\n",
        "            p['lr'] = rate\n",
        "        self._rate = rate\n",
        "        self.optimizer.step()\n",
        "        \n",
        "    def rate(self, step = None):\n",
        "        \"Implement `lrate` above\"\n",
        "        if step is None:\n",
        "            step = self._step\n",
        "        return 0 if not step else self.factor * get_rate(self.model_size, step, self.warmup)"
      ]
    },
    {
      "cell_type": "markdown",
      "metadata": {
        "id": "VFJlkOMONsc6"
      },
      "source": [
        "## Scheduling Visualized"
      ]
    },
    {
      "cell_type": "code",
      "execution_count": 34,
      "metadata": {
        "colab": {
          "base_uri": "https://localhost:8080/",
          "height": 0
        },
        "id": "A135fwPCNrQs",
        "outputId": "7074381b-f215-463a-da7d-3422dc7b675d"
      },
      "outputs": [
        {
          "data": {
            "image/png": "[encoded data removed]",
            "text/plain": [
              "<Figure size 432x288 with 1 Axes>"
            ]
          },
          "metadata": {
            "needs_background": "light"
          },
          "output_type": "display_data"
        }
      ],
      "source": [
        "optimizer = NoamOpt(\n",
        "    model_size=arch_args.encoder_embed_dim, \n",
        "    factor=config.lr_factor, \n",
        "    warmup=config.lr_warmup, \n",
        "    optimizer=torch.optim.AdamW(model.parameters(), lr=0, betas=(0.9, 0.98), eps=1e-9, weight_decay=0.0001))\n",
        "plt.plot(np.arange(1, 100000), [optimizer.rate(i) for i in range(1, 100000)])\n",
        "plt.legend([f\"{optimizer.model_size}:{optimizer.warmup}\"])\n",
        "None"
      ]
    },
    {
      "cell_type": "markdown",
      "metadata": {
        "id": "TOR0g-cVO5ZO"
      },
      "source": [
        "# Training Procedure"
      ]
    },
    {
      "cell_type": "markdown",
      "metadata": {
        "id": "f-0ZjbK3O8Iv"
      },
      "source": [
        "## Training"
      ]
    },
    {
      "cell_type": "code",
      "execution_count": 35,
      "metadata": {
        "id": "foal3xM1O404"
      },
      "outputs": [],
      "source": [
        "from fairseq.data import iterators\n",
        "from torch.cuda.amp import GradScaler, autocast\n",
        "\n",
        "def train_one_epoch(epoch_itr, model, task, criterion, optimizer, accum_steps=1):\n",
        "    itr = epoch_itr.next_epoch_itr(shuffle=True)\n",
        "    itr = iterators.GroupedIterator(itr, accum_steps) # gradient accumulation: update every accum_steps samples\n",
        "    \n",
        "    stats = {\"loss\": []}\n",
        "    scaler = GradScaler() # automatic mixed precision (amp) \n",
        "    \n",
        "    model.train()\n",
        "    progress = tqdm.tqdm(itr, desc=f\"train epoch {epoch_itr.epoch}\", leave=False)\n",
        "    for samples in progress:\n",
        "        model.zero_grad()\n",
        "        accum_loss = 0\n",
        "        sample_size = 0\n",
        "        # gradient accumulation: update every accum_steps samples\n",
        "        for i, sample in enumerate(samples):\n",
        "            if i == 1:\n",
        "                # emptying the CUDA cache after the first step can reduce the chance of OOM\n",
        "                torch.cuda.empty_cache()\n",
        "\n",
        "            sample = utils.move_to_cuda(sample, device=device)\n",
        "            target = sample[\"target\"]\n",
        "            sample_size_i = sample[\"ntokens\"]\n",
        "            sample_size += sample_size_i\n",
        "            \n",
        "            # mixed precision training\n",
        "            with autocast():\n",
        "                net_output = model.forward(**sample[\"net_input\"])\n",
        "                lprobs = F.log_softmax(net_output[0], -1)            \n",
        "                loss = criterion(lprobs.view(-1, lprobs.size(-1)), target.view(-1))\n",
        "                \n",
        "                # logging\n",
        "                accum_loss += loss.item()\n",
        "                # back-prop\n",
        "                scaler.scale(loss).backward()                \n",
        "        \n",
        "        scaler.unscale_(optimizer)\n",
        "        optimizer.multiply_grads(1 / (sample_size or 1.0)) # (sample_size or 1.0) handles the case of a zero gradient\n",
        "        gnorm = nn.utils.clip_grad_norm_(model.parameters(), config.clip_norm) # grad norm clipping prevents gradient exploding\n",
        "        \n",
        "        scaler.step(optimizer)\n",
        "        scaler.update()\n",
        "        \n",
        "        # logging\n",
        "        loss_print = accum_loss/sample_size\n",
        "        stats[\"loss\"].append(loss_print)\n",
        "        progress.set_postfix(loss=loss_print)\n",
        "        if config.use_wandb:\n",
        "            wandb.log({\n",
        "                \"train/loss\": loss_print,\n",
        "                \"train/grad_norm\": gnorm.item(),\n",
        "                \"train/lr\": optimizer.rate(),\n",
        "                \"train/sample_size\": sample_size,\n",
        "            })\n",
        "        \n",
        "    loss_print = np.mean(stats[\"loss\"])\n",
        "    logger.info(f\"training loss: {loss_print:.4f}\")\n",
        "    return stats"
      ]
    },
    {
      "cell_type": "markdown",
      "metadata": {
        "id": "Gt1lX3DRO_yU"
      },
      "source": [
        "## Validation & Inference\n",
        "To prevent overfitting, validation is required every epoch to validate the performance on unseen data.\n",
        "- the procedure is essensially same as training, with the addition of inference step\n",
        "- after validation we can save the model weights\n",
        "\n",
        "Validation loss alone cannot describe the actual performance of the model\n",
        "- Directly produce translation hypotheses based on current model, then calculate BLEU with the reference translation\n",
        "- We can also manually examine the hypotheses' quality\n",
        "- We use fairseq's sequence generator for beam search to generate translation hypotheses"
      ]
    },
    {
      "cell_type": "code",
      "execution_count": 36,
      "metadata": {
        "id": "2og80HYQPAKq"
      },
      "outputs": [],
      "source": [
        "# fairseq's beam search generator\n",
        "# given model and input seqeunce, produce translation hypotheses by beam search\n",
        "sequence_generator = task.build_generator([model], config)\n",
        "\n",
        "def decode(toks, dictionary):\n",
        "    # convert from Tensor to human readable sentence\n",
        "    s = dictionary.string(\n",
        "        toks.int().cpu(),\n",
        "        config.post_process,\n",
        "    )\n",
        "    return s if s else \"<unk>\"\n",
        "\n",
        "def inference_step(sample, model):\n",
        "    gen_out = sequence_generator.generate([model], sample)\n",
        "    srcs = []\n",
        "    hyps = []\n",
        "    refs = []\n",
        "    for i in range(len(gen_out)):\n",
        "        # for each sample, collect the input, hypothesis and reference, later be used to calculate BLEU\n",
        "        srcs.append(decode(\n",
        "            utils.strip_pad(sample[\"net_input\"][\"src_tokens\"][i], task.source_dictionary.pad()), \n",
        "            task.source_dictionary,\n",
        "        ))\n",
        "        hyps.append(decode(\n",
        "            gen_out[i][0][\"tokens\"], # 0 indicates using the top hypothesis in beam\n",
        "            task.target_dictionary,\n",
        "        ))\n",
        "        refs.append(decode(\n",
        "            utils.strip_pad(sample[\"target\"][i], task.target_dictionary.pad()), \n",
        "            task.target_dictionary,\n",
        "        ))\n",
        "    return srcs, hyps, refs"
      ]
    },
    {
      "cell_type": "code",
      "execution_count": 37,
      "metadata": {
        "id": "y1o7LeDkPDsd"
      },
      "outputs": [],
      "source": [
        "import shutil\n",
        "import sacrebleu\n",
        "\n",
        "def validate(model, task, criterion, log_to_wandb=True):\n",
        "    logger.info('begin validation')\n",
        "    itr = load_data_iterator(task, \"valid\", 1, config.max_tokens, config.num_workers).next_epoch_itr(shuffle=False)\n",
        "    \n",
        "    stats = {\"loss\":[], \"bleu\": 0, \"srcs\":[], \"hyps\":[], \"refs\":[]}\n",
        "    srcs = []\n",
        "    hyps = []\n",
        "    refs = []\n",
        "    \n",
        "    model.eval()\n",
        "    progress = tqdm.tqdm(itr, desc=f\"validation\", leave=False)\n",
        "    with torch.no_grad():\n",
        "        for i, sample in enumerate(progress):\n",
        "            # validation loss\n",
        "            sample = utils.move_to_cuda(sample, device=device)\n",
        "            net_output = model.forward(**sample[\"net_input\"])\n",
        "\n",
        "            lprobs = F.log_softmax(net_output[0], -1)\n",
        "            target = sample[\"target\"]\n",
        "            sample_size = sample[\"ntokens\"]\n",
        "            loss = criterion(lprobs.view(-1, lprobs.size(-1)), target.view(-1)) / sample_size\n",
        "            progress.set_postfix(valid_loss=loss.item())\n",
        "            stats[\"loss\"].append(loss)\n",
        "            \n",
        "            # do inference\n",
        "            s, h, r = inference_step(sample, model)\n",
        "            srcs.extend(s)\n",
        "            hyps.extend(h)\n",
        "            refs.extend(r)\n",
        "            \n",
        "    tok = 'zh' if task.cfg.target_lang == 'zh' else '13a'\n",
        "    stats[\"loss\"] = torch.stack(stats[\"loss\"]).mean().item()\n",
        "    stats[\"bleu\"] = sacrebleu.corpus_bleu(hyps, [refs], tokenize=tok) # 計算BLEU score\n",
        "    stats[\"srcs\"] = srcs\n",
        "    stats[\"hyps\"] = hyps\n",
        "    stats[\"refs\"] = refs\n",
        "    \n",
        "    if config.use_wandb and log_to_wandb:\n",
        "        wandb.log({\n",
        "            \"valid/loss\": stats[\"loss\"],\n",
        "            \"valid/bleu\": stats[\"bleu\"].score,\n",
        "        }, commit=False)\n",
        "    \n",
        "    showid = np.random.randint(len(hyps))\n",
        "    logger.info(\"example source: \" + srcs[showid])\n",
        "    logger.info(\"example hypothesis: \" + hyps[showid])\n",
        "    logger.info(\"example reference: \" + refs[showid])\n",
        "    \n",
        "    # show bleu results\n",
        "    logger.info(f\"validation loss:\\t{stats['loss']:.4f}\")\n",
        "    logger.info(stats[\"bleu\"].format())\n",
        "    return stats"
      ]
    },
    {
      "cell_type": "markdown",
      "metadata": {
        "id": "1sRF6nd4PGEE"
      },
      "source": [
        "# Save and Load Model Weights\n"
      ]
    },
    {
      "cell_type": "code",
      "execution_count": 38,
      "metadata": {
        "id": "edBuLlkuPGr9"
      },
      "outputs": [],
      "source": [
        "def validate_and_save(model, task, criterion, optimizer, epoch, save=True):   \n",
        "    stats = validate(model, task, criterion)\n",
        "    bleu = stats['bleu']\n",
        "    loss = stats['loss']\n",
        "    if save:\n",
        "        # save epoch checkpoints\n",
        "        savedir = Path(config.savedir).absolute()\n",
        "        savedir.mkdir(parents=True, exist_ok=True)\n",
        "        \n",
        "        check = {\n",
        "            \"model\": model.state_dict(),\n",
        "            \"stats\": {\"bleu\": bleu.score, \"loss\": loss},\n",
        "            \"optim\": {\"step\": optimizer._step}\n",
        "        }\n",
        "        torch.save(check, savedir/f\"checkpoint{epoch}.pt\")\n",
        "        shutil.copy(savedir/f\"checkpoint{epoch}.pt\", savedir/f\"checkpoint_last.pt\")\n",
        "        logger.info(f\"saved epoch checkpoint: {savedir}/checkpoint{epoch}.pt\")\n",
        "    \n",
        "        # save epoch samples\n",
        "        with open(savedir/f\"samples{epoch}.{config.source_lang}-{config.target_lang}.txt\", \"w\") as f:\n",
        "            for s, h in zip(stats[\"srcs\"], stats[\"hyps\"]):\n",
        "                f.write(f\"{s}\\t{h}\\n\")\n",
        "\n",
        "        # get best valid bleu    \n",
        "        if getattr(validate_and_save, \"best_bleu\", 0) < bleu.score:\n",
        "            validate_and_save.best_bleu = bleu.score\n",
        "            torch.save(check, savedir/f\"checkpoint_best.pt\")\n",
        "            \n",
        "        del_file = savedir / f\"checkpoint{epoch - config.keep_last_epochs}.pt\"\n",
        "        if del_file.exists():\n",
        "            del_file.unlink()\n",
        "    \n",
        "    return stats\n",
        "\n",
        "def try_load_checkpoint(model, optimizer=None, name=None):\n",
        "    name = name if name else \"checkpoint_last.pt\"\n",
        "    checkpath = Path(config.savedir)/name\n",
        "    if checkpath.exists():\n",
        "        check = torch.load(checkpath)\n",
        "        model.load_state_dict(check[\"model\"])\n",
        "        stats = check[\"stats\"]\n",
        "        step = \"unknown\"\n",
        "        if optimizer != None:\n",
        "            optimizer._step = step = check[\"optim\"][\"step\"]\n",
        "        logger.info(f\"loaded checkpoint {checkpath}: step={step} loss={stats['loss']} bleu={stats['bleu']}\")\n",
        "    else:\n",
        "        logger.info(f\"no checkpoints found at {checkpath}!\")"
      ]
    },
    {
      "cell_type": "markdown",
      "metadata": {
        "id": "KyIFpibfPJ5u"
      },
      "source": [
        "# Main\n",
        "## Training loop"
      ]
    },
    {
      "cell_type": "code",
      "execution_count": 39,
      "metadata": {
        "id": "hu7RZbCUPKQr"
      },
      "outputs": [],
      "source": [
        "model = model.to(device=device)\n",
        "criterion = criterion.to(device=device)"
      ]
    },
    {
      "cell_type": "code",
      "execution_count": 40,
      "metadata": {
        "colab": {
          "base_uri": "https://localhost:8080/"
        },
        "id": "5xxlJxU2PeAo",
        "outputId": "151dd30f-d0a4-45ef-eb20-058c827dad43"
      },
      "outputs": [
        {
          "name": "stdout",
          "output_type": "stream",
          "text": [
            "2022-04-07 02:35:04 | INFO | hw5.seq2seq | task: TranslationTask\n",
            "2022-04-07 02:35:04 | INFO | hw5.seq2seq | encoder: TransformerEncoder\n",
            "2022-04-07 02:35:04 | INFO | hw5.seq2seq | decoder: TransformerDecoder\n",
            "2022-04-07 02:35:04 | INFO | hw5.seq2seq | criterion: LabelSmoothedCrossEntropyCriterion\n",
            "2022-04-07 02:35:04 | INFO | hw5.seq2seq | optimizer: NoamOpt\n",
            "2022-04-07 02:35:04 | INFO | hw5.seq2seq | num. model params: 41,237,120 (num. trained: 41,237,120)\n",
            "2022-04-07 02:35:04 | INFO | hw5.seq2seq | max tokens per batch = 8192, accumulate steps = 2\n"
          ]
        }
      ],
      "source": [
        "logger.info(\"task: {}\".format(task.__class__.__name__))\n",
        "logger.info(\"encoder: {}\".format(model.encoder.__class__.__name__))\n",
        "logger.info(\"decoder: {}\".format(model.decoder.__class__.__name__))\n",
        "logger.info(\"criterion: {}\".format(criterion.__class__.__name__))\n",
        "logger.info(\"optimizer: {}\".format(optimizer.__class__.__name__))\n",
        "logger.info(\n",
        "    \"num. model params: {:,} (num. trained: {:,})\".format(\n",
        "        sum(p.numel() for p in model.parameters()),\n",
        "        sum(p.numel() for p in model.parameters() if p.requires_grad),\n",
        "    )\n",
        ")\n",
        "logger.info(f\"max tokens per batch = {config.max_tokens}, accumulate steps = {config.accum_steps}\")"
      ]
    },
    {
      "cell_type": "code",
      "execution_count": 41,
      "metadata": {
        "id": "MSPRqpQUPfaX"
      },
      "outputs": [
        {
          "name": "stdout",
          "output_type": "stream",
          "text": [
            "2022-04-07 02:35:05 | WARNING | fairseq.tasks.fairseq_task | 1 samples have invalid sizes and will be skipped, max_positions=(1024, 1024), first few sample ids=[326738]\n",
            "2022-04-07 02:35:05 | INFO | hw5.seq2seq | no checkpoints found at checkpoints/transformer-bt/checkpoint_last.pt!\n"
          ]
        },
        {
          "data": {
            "application/vnd.jupyter.widget-view+json": {
              "model_id": "544d17e826a8407eaaba3768e8b83c9a",
              "version_major": 2,
              "version_minor": 0
            },
            "text/plain": [
              "train epoch 1:   0%|          | 0/800 [00:00<?, ?it/s]"
            ]
          },
          "metadata": {},
          "output_type": "display_data"
        },
        {
          "name": "stdout",
          "output_type": "stream",
          "text": [
            "2022-04-07 02:45:15 | INFO | hw5.seq2seq | training loss: 5.6764\n",
            "2022-04-07 02:45:15 | INFO | hw5.seq2seq | begin validation\n"
          ]
        },
        {
          "data": {
            "application/vnd.jupyter.widget-view+json": {
              "model_id": "edfa2a2db3114655a55dc0e2f1745af0",
              "version_major": 2,
              "version_minor": 0
            },
            "text/plain": [
              "validation:   0%|          | 0/27 [00:00<?, ?it/s]"
            ]
          },
          "metadata": {},
          "output_type": "display_data"
        },
        {
          "name": "stderr",
          "output_type": "stream",
          "text": [
            "/home/weiweichi/.local/lib/python3.8/site-packages/fairseq/search.py:140: UserWarning: __floordiv__ is deprecated, and its behavior will change in a future version of pytorch. It currently rounds toward 0 (like the 'trunc' function NOT 'floor'). This results in incorrect rounding for negative values. To keep the current behavior, use torch.div(a, b, rounding_mode='trunc'), or for actual floor division, use torch.div(a, b, rounding_mode='floor').\n",
            "  beams_buf = indices_buf // vocab_size\n",
            "/home/weiweichi/.local/lib/python3.8/site-packages/fairseq/sequence_generator.py:657: UserWarning: __floordiv__ is deprecated, and its behavior will change in a future version of pytorch. It currently rounds toward 0 (like the 'trunc' function NOT 'floor'). This results in incorrect rounding for negative values. To keep the current behavior, use torch.div(a, b, rounding_mode='trunc'), or for actual floor division, use torch.div(a, b, rounding_mode='floor').\n",
            "  unfin_idx = idx // beam_size\n"
          ]
        },
        {
          "name": "stdout",
          "output_type": "stream",
          "text": [
            "2022-04-07 02:45:51 | WARNING | sacrebleu | That's 100 lines that end in a tokenized period ('.')\n",
            "2022-04-07 02:45:51 | WARNING | sacrebleu | It looks like you forgot to detokenize your test data, which may hurt your score.\n",
            "2022-04-07 02:45:51 | WARNING | sacrebleu | If you insist your data is detokenized, or don't care, you can suppress this message with the `force` parameter.\n",
            "2022-04-07 02:45:51 | INFO | hw5.seq2seq | example source: 艾曼達 , 能否請您分享您如何失去手臂的 ?\n",
            "2022-04-07 02:45:51 | INFO | hw5.seq2seq | example hypothesis: johhn , how can you get to tell you how do you get your hand ?\n",
            "2022-04-07 02:45:51 | INFO | hw5.seq2seq | example reference: so amanda , would you please tell us how you lost your arm ?\n",
            "2022-04-07 02:45:51 | INFO | hw5.seq2seq | validation loss:\t4.3532\n",
            "2022-04-07 02:45:51 | INFO | hw5.seq2seq | BLEU = 3.04 27.3/5.4/1.5/0.4 (BP = 0.979 ratio = 0.979 hyp_len = 74559 ref_len = 76142)\n",
            "2022-04-07 02:45:51 | INFO | hw5.seq2seq | saved epoch checkpoint: /home/weiweichi/weichi/HW5/checkpoints/transformer-bt/checkpoint1.pt\n",
            "2022-04-07 02:45:51 | INFO | hw5.seq2seq | end of epoch 1\n"
          ]
        },
        {
          "data": {
            "application/vnd.jupyter.widget-view+json": {
              "model_id": "d52d558f5f0e4bea92a4cd0c72cc5f1b",
              "version_major": 2,
              "version_minor": 0
            },
            "text/plain": [
              "train epoch 2:   0%|          | 0/800 [00:00<?, ?it/s]"
            ]
          },
          "metadata": {},
          "output_type": "display_data"
        },
        {
          "name": "stdout",
          "output_type": "stream",
          "text": [
            "2022-04-07 02:56:01 | INFO | hw5.seq2seq | training loss: 3.9279\n",
            "2022-04-07 02:56:01 | INFO | hw5.seq2seq | begin validation\n"
          ]
        },
        {
          "data": {
            "application/vnd.jupyter.widget-view+json": {
              "model_id": "83572b82764142a9966fb0d11472211e",
              "version_major": 2,
              "version_minor": 0
            },
            "text/plain": [
              "validation:   0%|          | 0/27 [00:00<?, ?it/s]"
            ]
          },
          "metadata": {},
          "output_type": "display_data"
        },
        {
          "name": "stdout",
          "output_type": "stream",
          "text": [
            "2022-04-07 02:56:33 | WARNING | sacrebleu | That's 100 lines that end in a tokenized period ('.')\n",
            "2022-04-07 02:56:33 | WARNING | sacrebleu | It looks like you forgot to detokenize your test data, which may hurt your score.\n",
            "2022-04-07 02:56:33 | WARNING | sacrebleu | If you insist your data is detokenized, or don't care, you can suppress this message with the `force` parameter.\n",
            "2022-04-07 02:56:33 | INFO | hw5.seq2seq | example source: 在未來兩年 , 我的工作是設計一個總體計畫並於十年內執行本計劃-當然 , 這需要眾人攜手合作 。\n",
            "2022-04-07 02:56:33 | INFO | hw5.seq2seq | example hypothesis: in two years , my job is designed to be a summer , and of course , it's a requirement project , and of course , it's a required to work .\n",
            "2022-04-07 02:56:33 | INFO | hw5.seq2seq | example reference: that is my job for the next two years , to design an entire master plan , and then for the next 10 years to implement it of course , with so many other people .\n",
            "2022-04-07 02:56:33 | INFO | hw5.seq2seq | validation loss:\t3.4911\n",
            "2022-04-07 02:56:33 | INFO | hw5.seq2seq | BLEU = 9.02 39.5/13.3/5.6/2.5 (BP = 0.977 ratio = 0.977 hyp_len = 74387 ref_len = 76142)\n",
            "2022-04-07 02:56:35 | INFO | hw5.seq2seq | saved epoch checkpoint: /home/weiweichi/weichi/HW5/checkpoints/transformer-bt/checkpoint2.pt\n",
            "2022-04-07 02:56:36 | INFO | hw5.seq2seq | end of epoch 2\n"
          ]
        },
        {
          "data": {
            "application/vnd.jupyter.widget-view+json": {
              "model_id": "e0dc2cb3956f4ebfa3641ea7342bfbbf",
              "version_major": 2,
              "version_minor": 0
            },
            "text/plain": [
              "train epoch 3:   0%|          | 0/800 [00:00<?, ?it/s]"
            ]
          },
          "metadata": {},
          "output_type": "display_data"
        },
        {
          "name": "stdout",
          "output_type": "stream",
          "text": [
            "2022-04-07 03:06:45 | INFO | hw5.seq2seq | training loss: 3.3538\n",
            "2022-04-07 03:06:45 | INFO | hw5.seq2seq | begin validation\n"
          ]
        },
        {
          "data": {
            "application/vnd.jupyter.widget-view+json": {
              "model_id": "94fb56ccd6ed4eb89524e2edd4009e62",
              "version_major": 2,
              "version_minor": 0
            },
            "text/plain": [
              "validation:   0%|          | 0/27 [00:00<?, ?it/s]"
            ]
          },
          "metadata": {},
          "output_type": "display_data"
        },
        {
          "name": "stdout",
          "output_type": "stream",
          "text": [
            "2022-04-07 03:07:11 | WARNING | sacrebleu | That's 100 lines that end in a tokenized period ('.')\n",
            "2022-04-07 03:07:11 | WARNING | sacrebleu | It looks like you forgot to detokenize your test data, which may hurt your score.\n",
            "2022-04-07 03:07:11 | WARNING | sacrebleu | If you insist your data is detokenized, or don't care, you can suppress this message with the `force` parameter.\n",
            "2022-04-07 03:07:11 | INFO | hw5.seq2seq | example source: 如果我們能夠改變這個動力 , 首先 , 創造人口密度更高更適合居住的城市...\n",
            "2022-04-07 03:07:11 | INFO | hw5.seq2seq | example hypothesis: if we can change this , first of all , create density , create dense cities .\n",
            "2022-04-07 03:07:11 | INFO | hw5.seq2seq | example reference: if we can change the dynamic , by first of all creating cities that are denser and more livable . . .\n",
            "2022-04-07 03:07:11 | INFO | hw5.seq2seq | validation loss:\t3.1678\n",
            "2022-04-07 03:07:11 | INFO | hw5.seq2seq | BLEU = 10.75 52.6/21.1/10.0/4.9 (BP = 0.703 ratio = 0.739 hyp_len = 56287 ref_len = 76142)\n",
            "2022-04-07 03:07:13 | INFO | hw5.seq2seq | saved epoch checkpoint: /home/weiweichi/weichi/HW5/checkpoints/transformer-bt/checkpoint3.pt\n",
            "2022-04-07 03:07:15 | INFO | hw5.seq2seq | end of epoch 3\n"
          ]
        },
        {
          "data": {
            "application/vnd.jupyter.widget-view+json": {
              "model_id": "f08e496a1b0e42e59d40f3d25a70584b",
              "version_major": 2,
              "version_minor": 0
            },
            "text/plain": [
              "train epoch 4:   0%|          | 0/800 [00:00<?, ?it/s]"
            ]
          },
          "metadata": {},
          "output_type": "display_data"
        },
        {
          "name": "stdout",
          "output_type": "stream",
          "text": [
            "2022-04-07 03:17:25 | INFO | hw5.seq2seq | training loss: 3.0960\n",
            "2022-04-07 03:17:25 | INFO | hw5.seq2seq | begin validation\n"
          ]
        },
        {
          "data": {
            "application/vnd.jupyter.widget-view+json": {
              "model_id": "7a53d26f3e8345bb85c04508ba3c8563",
              "version_major": 2,
              "version_minor": 0
            },
            "text/plain": [
              "validation:   0%|          | 0/27 [00:00<?, ?it/s]"
            ]
          },
          "metadata": {},
          "output_type": "display_data"
        },
        {
          "name": "stdout",
          "output_type": "stream",
          "text": [
            "2022-04-07 03:17:53 | WARNING | sacrebleu | That's 100 lines that end in a tokenized period ('.')\n",
            "2022-04-07 03:17:53 | WARNING | sacrebleu | It looks like you forgot to detokenize your test data, which may hurt your score.\n",
            "2022-04-07 03:17:53 | WARNING | sacrebleu | If you insist your data is detokenized, or don't care, you can suppress this message with the `force` parameter.\n",
            "2022-04-07 03:17:53 | INFO | hw5.seq2seq | example source: 他將與我同行 ,\n",
            "2022-04-07 03:17:53 | INFO | hw5.seq2seq | example hypothesis: he's going to work with me .\n",
            "2022-04-07 03:17:53 | INFO | hw5.seq2seq | example reference: he is coming with me .\n",
            "2022-04-07 03:17:53 | INFO | hw5.seq2seq | validation loss:\t3.0139\n",
            "2022-04-07 03:17:53 | INFO | hw5.seq2seq | BLEU = 13.43 50.6/21.4/10.5/5.4 (BP = 0.853 ratio = 0.863 hyp_len = 65703 ref_len = 76142)\n",
            "2022-04-07 03:17:54 | INFO | hw5.seq2seq | saved epoch checkpoint: /home/weiweichi/weichi/HW5/checkpoints/transformer-bt/checkpoint4.pt\n",
            "2022-04-07 03:17:56 | INFO | hw5.seq2seq | end of epoch 4\n"
          ]
        },
        {
          "data": {
            "application/vnd.jupyter.widget-view+json": {
              "model_id": "c45a2c1f7b9944cf8aa1f2d3076bf5cc",
              "version_major": 2,
              "version_minor": 0
            },
            "text/plain": [
              "train epoch 5:   0%|          | 0/800 [00:00<?, ?it/s]"
            ]
          },
          "metadata": {},
          "output_type": "display_data"
        },
        {
          "name": "stdout",
          "output_type": "stream",
          "text": [
            "2022-04-07 03:28:06 | INFO | hw5.seq2seq | training loss: 2.9631\n",
            "2022-04-07 03:28:06 | INFO | hw5.seq2seq | begin validation\n"
          ]
        },
        {
          "data": {
            "application/vnd.jupyter.widget-view+json": {
              "model_id": "c1cb617587ce4b52ae6caf737b241a84",
              "version_major": 2,
              "version_minor": 0
            },
            "text/plain": [
              "validation:   0%|          | 0/27 [00:00<?, ?it/s]"
            ]
          },
          "metadata": {},
          "output_type": "display_data"
        },
        {
          "name": "stdout",
          "output_type": "stream",
          "text": [
            "2022-04-07 03:28:37 | WARNING | sacrebleu | That's 100 lines that end in a tokenized period ('.')\n",
            "2022-04-07 03:28:37 | WARNING | sacrebleu | It looks like you forgot to detokenize your test data, which may hurt your score.\n",
            "2022-04-07 03:28:37 | WARNING | sacrebleu | If you insist your data is detokenized, or don't care, you can suppress this message with the `force` parameter.\n",
            "2022-04-07 03:28:37 | INFO | hw5.seq2seq | example source: 這叫快速通關走道或vip票\n",
            "2022-04-07 03:28:37 | INFO | hw5.seq2seq | example hypothesis: this is called quick traffic or vip .\n",
            "2022-04-07 03:28:37 | INFO | hw5.seq2seq | example reference: they call them fast track or vip tickets .\n",
            "2022-04-07 03:28:37 | INFO | hw5.seq2seq | validation loss:\t2.9447\n",
            "2022-04-07 03:28:37 | INFO | hw5.seq2seq | BLEU = 15.04 48.6/21.0/10.4/5.4 (BP = 0.972 ratio = 0.972 hyp_len = 74048 ref_len = 76142)\n",
            "2022-04-07 03:28:39 | INFO | hw5.seq2seq | saved epoch checkpoint: /home/weiweichi/weichi/HW5/checkpoints/transformer-bt/checkpoint5.pt\n",
            "2022-04-07 03:28:40 | INFO | hw5.seq2seq | end of epoch 5\n"
          ]
        },
        {
          "data": {
            "application/vnd.jupyter.widget-view+json": {
              "model_id": "3d0c8227fcea4fc6b96cfd5389496e4a",
              "version_major": 2,
              "version_minor": 0
            },
            "text/plain": [
              "train epoch 6:   0%|          | 0/800 [00:00<?, ?it/s]"
            ]
          },
          "metadata": {},
          "output_type": "display_data"
        },
        {
          "name": "stdout",
          "output_type": "stream",
          "text": [
            "2022-04-07 03:38:49 | INFO | hw5.seq2seq | training loss: 2.8529\n",
            "2022-04-07 03:38:49 | INFO | hw5.seq2seq | begin validation\n"
          ]
        },
        {
          "data": {
            "application/vnd.jupyter.widget-view+json": {
              "model_id": "f5f3d16e6d2d4bb089f3f7d086dd8c5b",
              "version_major": 2,
              "version_minor": 0
            },
            "text/plain": [
              "validation:   0%|          | 0/27 [00:00<?, ?it/s]"
            ]
          },
          "metadata": {},
          "output_type": "display_data"
        },
        {
          "name": "stdout",
          "output_type": "stream",
          "text": [
            "2022-04-07 03:39:19 | WARNING | sacrebleu | That's 100 lines that end in a tokenized period ('.')\n",
            "2022-04-07 03:39:19 | WARNING | sacrebleu | It looks like you forgot to detokenize your test data, which may hurt your score.\n",
            "2022-04-07 03:39:19 | WARNING | sacrebleu | If you insist your data is detokenized, or don't care, you can suppress this message with the `force` parameter.\n",
            "2022-04-07 03:39:19 | INFO | hw5.seq2seq | example source: 可能我們會想要把它用在某些結構上之類的 。\n",
            "2022-04-07 03:39:19 | INFO | hw5.seq2seq | example hypothesis: maybe we're going to want to use it to some structures or something like that .\n",
            "2022-04-07 03:39:19 | INFO | hw5.seq2seq | example reference: probably we're going to want it for some structures , and so on .\n",
            "2022-04-07 03:39:19 | INFO | hw5.seq2seq | validation loss:\t2.8229\n",
            "2022-04-07 03:39:19 | INFO | hw5.seq2seq | BLEU = 16.10 52.0/23.2/12.0/6.5 (BP = 0.921 ratio = 0.924 hyp_len = 70330 ref_len = 76142)\n",
            "2022-04-07 03:39:20 | INFO | hw5.seq2seq | saved epoch checkpoint: /home/weiweichi/weichi/HW5/checkpoints/transformer-bt/checkpoint6.pt\n",
            "2022-04-07 03:39:22 | INFO | hw5.seq2seq | end of epoch 6\n"
          ]
        },
        {
          "data": {
            "application/vnd.jupyter.widget-view+json": {
              "model_id": "e216bef6503d4f359b761a01ee725e46",
              "version_major": 2,
              "version_minor": 0
            },
            "text/plain": [
              "train epoch 7:   0%|          | 0/800 [00:00<?, ?it/s]"
            ]
          },
          "metadata": {},
          "output_type": "display_data"
        },
        {
          "name": "stdout",
          "output_type": "stream",
          "text": [
            "2022-04-07 03:49:30 | INFO | hw5.seq2seq | training loss: 2.7307\n",
            "2022-04-07 03:49:30 | INFO | hw5.seq2seq | begin validation\n"
          ]
        },
        {
          "data": {
            "application/vnd.jupyter.widget-view+json": {
              "model_id": "6d96168f04f8469290ef8787d5cf0894",
              "version_major": 2,
              "version_minor": 0
            },
            "text/plain": [
              "validation:   0%|          | 0/27 [00:00<?, ?it/s]"
            ]
          },
          "metadata": {},
          "output_type": "display_data"
        },
        {
          "name": "stdout",
          "output_type": "stream",
          "text": [
            "2022-04-07 03:50:01 | WARNING | sacrebleu | That's 100 lines that end in a tokenized period ('.')\n",
            "2022-04-07 03:50:01 | WARNING | sacrebleu | It looks like you forgot to detokenize your test data, which may hurt your score.\n",
            "2022-04-07 03:50:01 | WARNING | sacrebleu | If you insist your data is detokenized, or don't care, you can suppress this message with the `force` parameter.\n",
            "2022-04-07 03:50:01 | INFO | hw5.seq2seq | example source: 最後還有支付能力的問題\n",
            "2022-04-07 03:50:01 | INFO | hw5.seq2seq | example hypothesis: and finally , there's a problem of payment .\n",
            "2022-04-07 03:50:01 | INFO | hw5.seq2seq | example reference: and then there's finally there's the affordability question .\n",
            "2022-04-07 03:50:01 | INFO | hw5.seq2seq | validation loss:\t2.7654\n",
            "2022-04-07 03:50:01 | INFO | hw5.seq2seq | BLEU = 16.85 50.0/22.6/11.7/6.3 (BP = 0.990 ratio = 0.990 hyp_len = 75393 ref_len = 76142)\n",
            "2022-04-07 03:50:03 | INFO | hw5.seq2seq | saved epoch checkpoint: /home/weiweichi/weichi/HW5/checkpoints/transformer-bt/checkpoint7.pt\n",
            "2022-04-07 03:50:04 | INFO | hw5.seq2seq | end of epoch 7\n"
          ]
        },
        {
          "data": {
            "application/vnd.jupyter.widget-view+json": {
              "model_id": "f93d83d85fb1408e81001a76ac8ee708",
              "version_major": 2,
              "version_minor": 0
            },
            "text/plain": [
              "train epoch 8:   0%|          | 0/800 [00:00<?, ?it/s]"
            ]
          },
          "metadata": {},
          "output_type": "display_data"
        },
        {
          "name": "stdout",
          "output_type": "stream",
          "text": [
            "2022-04-07 04:00:12 | INFO | hw5.seq2seq | training loss: 2.6447\n",
            "2022-04-07 04:00:12 | INFO | hw5.seq2seq | begin validation\n"
          ]
        },
        {
          "data": {
            "application/vnd.jupyter.widget-view+json": {
              "model_id": "5f68970f40324a9187143ed67934cd32",
              "version_major": 2,
              "version_minor": 0
            },
            "text/plain": [
              "validation:   0%|          | 0/27 [00:00<?, ?it/s]"
            ]
          },
          "metadata": {},
          "output_type": "display_data"
        },
        {
          "name": "stdout",
          "output_type": "stream",
          "text": [
            "2022-04-07 04:00:42 | WARNING | sacrebleu | That's 100 lines that end in a tokenized period ('.')\n",
            "2022-04-07 04:00:42 | WARNING | sacrebleu | It looks like you forgot to detokenize your test data, which may hurt your score.\n",
            "2022-04-07 04:00:42 | WARNING | sacrebleu | If you insist your data is detokenized, or don't care, you can suppress this message with the `force` parameter.\n",
            "2022-04-07 04:00:42 | INFO | hw5.seq2seq | example source: 這相當於每年從海裡撈出全體中國人的重量 。\n",
            "2022-04-07 04:00:42 | INFO | hw5.seq2seq | example hypothesis: that's the equivalent of the weight of the chinese from the ocean every year .\n",
            "2022-04-07 04:00:42 | INFO | hw5.seq2seq | example reference: that's the equivalent of the human weight of china taken out of the sea every year .\n",
            "2022-04-07 04:00:42 | INFO | hw5.seq2seq | validation loss:\t2.7043\n",
            "2022-04-07 04:00:42 | INFO | hw5.seq2seq | BLEU = 18.17 53.5/25.1/13.5/7.5 (BP = 0.946 ratio = 0.948 hyp_len = 72149 ref_len = 76142)\n",
            "2022-04-07 04:00:44 | INFO | hw5.seq2seq | saved epoch checkpoint: /home/weiweichi/weichi/HW5/checkpoints/transformer-bt/checkpoint8.pt\n",
            "2022-04-07 04:00:45 | INFO | hw5.seq2seq | end of epoch 8\n"
          ]
        },
        {
          "data": {
            "application/vnd.jupyter.widget-view+json": {
              "model_id": "cd1af4b92cec47498cbd02e2fc5ccae6",
              "version_major": 2,
              "version_minor": 0
            },
            "text/plain": [
              "train epoch 9:   0%|          | 0/800 [00:00<?, ?it/s]"
            ]
          },
          "metadata": {},
          "output_type": "display_data"
        },
        {
          "name": "stdout",
          "output_type": "stream",
          "text": [
            "2022-04-07 04:10:56 | INFO | hw5.seq2seq | training loss: 2.5734\n",
            "2022-04-07 04:10:56 | INFO | hw5.seq2seq | begin validation\n"
          ]
        },
        {
          "data": {
            "application/vnd.jupyter.widget-view+json": {
              "model_id": "1f19add49ae8461a8f34dcad5584295b",
              "version_major": 2,
              "version_minor": 0
            },
            "text/plain": [
              "validation:   0%|          | 0/27 [00:00<?, ?it/s]"
            ]
          },
          "metadata": {},
          "output_type": "display_data"
        },
        {
          "name": "stdout",
          "output_type": "stream",
          "text": [
            "2022-04-07 04:11:23 | WARNING | sacrebleu | That's 100 lines that end in a tokenized period ('.')\n",
            "2022-04-07 04:11:23 | WARNING | sacrebleu | It looks like you forgot to detokenize your test data, which may hurt your score.\n",
            "2022-04-07 04:11:23 | WARNING | sacrebleu | If you insist your data is detokenized, or don't care, you can suppress this message with the `force` parameter.\n",
            "2022-04-07 04:11:23 | INFO | hw5.seq2seq | example source: 謝謝 。\n",
            "2022-04-07 04:11:23 | INFO | hw5.seq2seq | example hypothesis: thank you .\n",
            "2022-04-07 04:11:23 | INFO | hw5.seq2seq | example reference: thank you .\n",
            "2022-04-07 04:11:23 | INFO | hw5.seq2seq | validation loss:\t2.7009\n",
            "2022-04-07 04:11:23 | INFO | hw5.seq2seq | BLEU = 17.14 57.8/27.7/15.1/8.6 (BP = 0.803 ratio = 0.820 hyp_len = 62435 ref_len = 76142)\n",
            "2022-04-07 04:11:25 | INFO | hw5.seq2seq | saved epoch checkpoint: /home/weiweichi/weichi/HW5/checkpoints/transformer-bt/checkpoint9.pt\n",
            "2022-04-07 04:11:25 | INFO | hw5.seq2seq | end of epoch 9\n"
          ]
        },
        {
          "data": {
            "application/vnd.jupyter.widget-view+json": {
              "model_id": "531213249b9b4d4588819573e3b22352",
              "version_major": 2,
              "version_minor": 0
            },
            "text/plain": [
              "train epoch 10:   0%|          | 0/800 [00:00<?, ?it/s]"
            ]
          },
          "metadata": {},
          "output_type": "display_data"
        },
        {
          "name": "stdout",
          "output_type": "stream",
          "text": [
            "2022-04-07 04:21:33 | INFO | hw5.seq2seq | training loss: 2.5165\n",
            "2022-04-07 04:21:33 | INFO | hw5.seq2seq | begin validation\n"
          ]
        },
        {
          "data": {
            "application/vnd.jupyter.widget-view+json": {
              "model_id": "ba2cb40814db48a895c9ac272c169ef8",
              "version_major": 2,
              "version_minor": 0
            },
            "text/plain": [
              "validation:   0%|          | 0/27 [00:00<?, ?it/s]"
            ]
          },
          "metadata": {},
          "output_type": "display_data"
        },
        {
          "name": "stdout",
          "output_type": "stream",
          "text": [
            "2022-04-07 04:22:02 | WARNING | sacrebleu | That's 100 lines that end in a tokenized period ('.')\n",
            "2022-04-07 04:22:02 | WARNING | sacrebleu | It looks like you forgot to detokenize your test data, which may hurt your score.\n",
            "2022-04-07 04:22:02 | WARNING | sacrebleu | If you insist your data is detokenized, or don't care, you can suppress this message with the `force` parameter.\n",
            "2022-04-07 04:22:02 | INFO | hw5.seq2seq | example source: 合作社的成員是自我選拔 。\n",
            "2022-04-07 04:22:02 | INFO | hw5.seq2seq | example hypothesis: the members of the collaborators are selfreplication .\n",
            "2022-04-07 04:22:02 | INFO | hw5.seq2seq | example reference: the slime mould collective membership is selfselecting .\n",
            "2022-04-07 04:22:02 | INFO | hw5.seq2seq | validation loss:\t2.6598\n",
            "2022-04-07 04:22:02 | INFO | hw5.seq2seq | BLEU = 18.97 56.1/27.2/15.0/8.6 (BP = 0.900 ratio = 0.905 hyp_len = 68911 ref_len = 76142)\n",
            "2022-04-07 04:22:04 | INFO | hw5.seq2seq | saved epoch checkpoint: /home/weiweichi/weichi/HW5/checkpoints/transformer-bt/checkpoint10.pt\n",
            "2022-04-07 04:22:05 | INFO | hw5.seq2seq | end of epoch 10\n"
          ]
        },
        {
          "data": {
            "application/vnd.jupyter.widget-view+json": {
              "model_id": "088418058b3a4c0e8fc2ceda7a11a1b8",
              "version_major": 2,
              "version_minor": 0
            },
            "text/plain": [
              "train epoch 11:   0%|          | 0/800 [00:00<?, ?it/s]"
            ]
          },
          "metadata": {},
          "output_type": "display_data"
        },
        {
          "name": "stdout",
          "output_type": "stream",
          "text": [
            "2022-04-07 04:32:13 | INFO | hw5.seq2seq | training loss: 2.4681\n",
            "2022-04-07 04:32:13 | INFO | hw5.seq2seq | begin validation\n"
          ]
        },
        {
          "data": {
            "application/vnd.jupyter.widget-view+json": {
              "model_id": "3558868ec0dc4e0bb03f17f1f015e444",
              "version_major": 2,
              "version_minor": 0
            },
            "text/plain": [
              "validation:   0%|          | 0/27 [00:00<?, ?it/s]"
            ]
          },
          "metadata": {},
          "output_type": "display_data"
        },
        {
          "name": "stdout",
          "output_type": "stream",
          "text": [
            "2022-04-07 04:32:42 | WARNING | sacrebleu | That's 100 lines that end in a tokenized period ('.')\n",
            "2022-04-07 04:32:42 | WARNING | sacrebleu | It looks like you forgot to detokenize your test data, which may hurt your score.\n",
            "2022-04-07 04:32:42 | WARNING | sacrebleu | If you insist your data is detokenized, or don't care, you can suppress this message with the `force` parameter.\n",
            "2022-04-07 04:32:42 | INFO | hw5.seq2seq | example source: 我製作了實體版的 「 笨鳥先飛 」 , 而它不會從應用程式商店下架 。\n",
            "2022-04-07 04:32:42 | INFO | hw5.seq2seq | example hypothesis: i made a physical version of \" birds fly first , \" and it doesn't fight from the app store .\n",
            "2022-04-07 04:32:42 | INFO | hw5.seq2seq | example reference: i made a physical version of flappy bird that could never be taken off the app store .\n",
            "2022-04-07 04:32:42 | INFO | hw5.seq2seq | validation loss:\t2.6403\n",
            "2022-04-07 04:32:42 | INFO | hw5.seq2seq | BLEU = 19.56 55.5/27.0/15.0/8.7 (BP = 0.929 ratio = 0.931 hyp_len = 70891 ref_len = 76142)\n",
            "2022-04-07 04:32:44 | INFO | hw5.seq2seq | saved epoch checkpoint: /home/weiweichi/weichi/HW5/checkpoints/transformer-bt/checkpoint11.pt\n",
            "2022-04-07 04:32:46 | INFO | hw5.seq2seq | end of epoch 11\n"
          ]
        },
        {
          "data": {
            "application/vnd.jupyter.widget-view+json": {
              "model_id": "037c919cafa341ac8329fd42440e2c13",
              "version_major": 2,
              "version_minor": 0
            },
            "text/plain": [
              "train epoch 12:   0%|          | 0/800 [00:00<?, ?it/s]"
            ]
          },
          "metadata": {},
          "output_type": "display_data"
        },
        {
          "name": "stdout",
          "output_type": "stream",
          "text": [
            "2022-04-07 04:42:53 | INFO | hw5.seq2seq | training loss: 2.4261\n",
            "2022-04-07 04:42:53 | INFO | hw5.seq2seq | begin validation\n"
          ]
        },
        {
          "data": {
            "application/vnd.jupyter.widget-view+json": {
              "model_id": "d32f462170104cd0863f0f0855d42266",
              "version_major": 2,
              "version_minor": 0
            },
            "text/plain": [
              "validation:   0%|          | 0/27 [00:00<?, ?it/s]"
            ]
          },
          "metadata": {},
          "output_type": "display_data"
        },
        {
          "name": "stdout",
          "output_type": "stream",
          "text": [
            "2022-04-07 04:43:22 | WARNING | sacrebleu | That's 100 lines that end in a tokenized period ('.')\n",
            "2022-04-07 04:43:22 | WARNING | sacrebleu | It looks like you forgot to detokenize your test data, which may hurt your score.\n",
            "2022-04-07 04:43:22 | WARNING | sacrebleu | If you insist your data is detokenized, or don't care, you can suppress this message with the `force` parameter.\n",
            "2022-04-07 04:43:22 | INFO | hw5.seq2seq | example source: 那樣的特質導致一種網路架構 , 這種架構前所未有 , 其後的其它數位網路也無法比擬 。\n",
            "2022-04-07 04:43:22 | INFO | hw5.seq2seq | example hypothesis: that trait has led to a network framework that has never existed before , and the rest of the digital network is impossible to simulate .\n",
            "2022-04-07 04:43:22 | INFO | hw5.seq2seq | example reference: that ethos led to a network architecture , a structure that was unlike other digital networks then or since .\n",
            "2022-04-07 04:43:22 | INFO | hw5.seq2seq | validation loss:\t2.6320\n",
            "2022-04-07 04:43:22 | INFO | hw5.seq2seq | BLEU = 19.82 56.2/27.6/15.4/9.0 (BP = 0.920 ratio = 0.923 hyp_len = 70308 ref_len = 76142)\n",
            "2022-04-07 04:43:24 | INFO | hw5.seq2seq | saved epoch checkpoint: /home/weiweichi/weichi/HW5/checkpoints/transformer-bt/checkpoint12.pt\n",
            "2022-04-07 04:43:25 | INFO | hw5.seq2seq | end of epoch 12\n"
          ]
        },
        {
          "data": {
            "application/vnd.jupyter.widget-view+json": {
              "model_id": "c2849c229c6447d7b9df1ccf5dab4a31",
              "version_major": 2,
              "version_minor": 0
            },
            "text/plain": [
              "train epoch 13:   0%|          | 0/800 [00:00<?, ?it/s]"
            ]
          },
          "metadata": {},
          "output_type": "display_data"
        },
        {
          "name": "stdout",
          "output_type": "stream",
          "text": [
            "2022-04-07 04:53:33 | INFO | hw5.seq2seq | training loss: 2.3894\n",
            "2022-04-07 04:53:33 | INFO | hw5.seq2seq | begin validation\n"
          ]
        },
        {
          "data": {
            "application/vnd.jupyter.widget-view+json": {
              "model_id": "8af9d6957dee447ebdbd26f821f513be",
              "version_major": 2,
              "version_minor": 0
            },
            "text/plain": [
              "validation:   0%|          | 0/27 [00:00<?, ?it/s]"
            ]
          },
          "metadata": {},
          "output_type": "display_data"
        },
        {
          "name": "stdout",
          "output_type": "stream",
          "text": [
            "2022-04-07 04:54:03 | WARNING | sacrebleu | That's 100 lines that end in a tokenized period ('.')\n",
            "2022-04-07 04:54:03 | WARNING | sacrebleu | It looks like you forgot to detokenize your test data, which may hurt your score.\n",
            "2022-04-07 04:54:03 | WARNING | sacrebleu | If you insist your data is detokenized, or don't care, you can suppress this message with the `force` parameter.\n",
            "2022-04-07 04:54:03 | INFO | hw5.seq2seq | example source: 我是個運動員 。 那是我唯一懂得的事 , 也是唯一做過的事 。\n",
            "2022-04-07 04:54:03 | INFO | hw5.seq2seq | example hypothesis: i'm an athlete . that's the only thing i know , and the only thing i've ever done .\n",
            "2022-04-07 04:54:03 | INFO | hw5.seq2seq | example reference: i was an athlete . that's all i knew . that's all i'd done .\n",
            "2022-04-07 04:54:03 | INFO | hw5.seq2seq | validation loss:\t2.6254\n",
            "2022-04-07 04:54:03 | INFO | hw5.seq2seq | BLEU = 19.99 55.7/27.3/15.3/8.9 (BP = 0.937 ratio = 0.939 hyp_len = 71486 ref_len = 76142)\n",
            "2022-04-07 04:54:05 | INFO | hw5.seq2seq | saved epoch checkpoint: /home/weiweichi/weichi/HW5/checkpoints/transformer-bt/checkpoint13.pt\n",
            "2022-04-07 04:54:07 | INFO | hw5.seq2seq | end of epoch 13\n"
          ]
        },
        {
          "data": {
            "application/vnd.jupyter.widget-view+json": {
              "model_id": "f8d13dddf0ef41e8a6348de50d045188",
              "version_major": 2,
              "version_minor": 0
            },
            "text/plain": [
              "train epoch 14:   0%|          | 0/800 [00:00<?, ?it/s]"
            ]
          },
          "metadata": {},
          "output_type": "display_data"
        },
        {
          "name": "stdout",
          "output_type": "stream",
          "text": [
            "2022-04-07 05:04:16 | INFO | hw5.seq2seq | training loss: 2.3555\n",
            "2022-04-07 05:04:16 | INFO | hw5.seq2seq | begin validation\n"
          ]
        },
        {
          "data": {
            "application/vnd.jupyter.widget-view+json": {
              "model_id": "c0236db5418c4753bea45c7dfc1aa5ce",
              "version_major": 2,
              "version_minor": 0
            },
            "text/plain": [
              "validation:   0%|          | 0/27 [00:00<?, ?it/s]"
            ]
          },
          "metadata": {},
          "output_type": "display_data"
        },
        {
          "name": "stdout",
          "output_type": "stream",
          "text": [
            "2022-04-07 05:04:45 | WARNING | sacrebleu | That's 100 lines that end in a tokenized period ('.')\n",
            "2022-04-07 05:04:45 | WARNING | sacrebleu | It looks like you forgot to detokenize your test data, which may hurt your score.\n",
            "2022-04-07 05:04:45 | WARNING | sacrebleu | If you insist your data is detokenized, or don't care, you can suppress this message with the `force` parameter.\n",
            "2022-04-07 05:04:45 | INFO | hw5.seq2seq | example source: 我可以想像一個未來 , 在這個未來中 , 我們會很高興看到學齡前兒童與螢幕互動 。\n",
            "2022-04-07 05:04:45 | INFO | hw5.seq2seq | example hypothesis: i can imagine a future where we're going to be happy to see preschool children interacting with screens .\n",
            "2022-04-07 05:04:45 | INFO | hw5.seq2seq | example reference: i can envision a future where we would be excited to see a preschooler interacting with a screen .\n",
            "2022-04-07 05:04:45 | INFO | hw5.seq2seq | validation loss:\t2.6300\n",
            "2022-04-07 05:04:45 | INFO | hw5.seq2seq | BLEU = 19.90 56.1/27.6/15.4/8.9 (BP = 0.926 ratio = 0.929 hyp_len = 70717 ref_len = 76142)\n",
            "2022-04-07 05:04:47 | INFO | hw5.seq2seq | saved epoch checkpoint: /home/weiweichi/weichi/HW5/checkpoints/transformer-bt/checkpoint14.pt\n",
            "2022-04-07 05:04:47 | INFO | hw5.seq2seq | end of epoch 14\n"
          ]
        },
        {
          "data": {
            "application/vnd.jupyter.widget-view+json": {
              "model_id": "c078d9e569dd4eec8bb6af572ad084ca",
              "version_major": 2,
              "version_minor": 0
            },
            "text/plain": [
              "train epoch 15:   0%|          | 0/800 [00:00<?, ?it/s]"
            ]
          },
          "metadata": {},
          "output_type": "display_data"
        },
        {
          "name": "stdout",
          "output_type": "stream",
          "text": [
            "2022-04-07 05:14:56 | INFO | hw5.seq2seq | training loss: 2.3266\n",
            "2022-04-07 05:14:56 | INFO | hw5.seq2seq | begin validation\n"
          ]
        },
        {
          "data": {
            "application/vnd.jupyter.widget-view+json": {
              "model_id": "eded3923889647ad9b03da3393e52839",
              "version_major": 2,
              "version_minor": 0
            },
            "text/plain": [
              "validation:   0%|          | 0/27 [00:00<?, ?it/s]"
            ]
          },
          "metadata": {},
          "output_type": "display_data"
        },
        {
          "name": "stdout",
          "output_type": "stream",
          "text": [
            "2022-04-07 05:15:26 | WARNING | sacrebleu | That's 100 lines that end in a tokenized period ('.')\n",
            "2022-04-07 05:15:26 | WARNING | sacrebleu | It looks like you forgot to detokenize your test data, which may hurt your score.\n",
            "2022-04-07 05:15:26 | WARNING | sacrebleu | If you insist your data is detokenized, or don't care, you can suppress this message with the `force` parameter.\n",
            "2022-04-07 05:15:26 | INFO | hw5.seq2seq | example source: 裡面沒有鋪設好的道路 , 也沒有水泥的停車位地基 。 在拖車停車位之間也沒有圍籬 。\n",
            "2022-04-07 05:15:26 | INFO | hw5.seq2seq | example hypothesis: there's no roads , there's no cement parking ground , there's no fence between the trailer park .\n",
            "2022-04-07 05:15:26 | INFO | hw5.seq2seq | example reference: it didn't have any paved roads in it , it didn't have the concrete slabs , it didn't have fencing to portion off your trailer slot from other trailer slots .\n",
            "2022-04-07 05:15:26 | INFO | hw5.seq2seq | validation loss:\t2.6220\n",
            "2022-04-07 05:15:26 | INFO | hw5.seq2seq | BLEU = 19.62 56.2/27.4/15.3/8.9 (BP = 0.915 ratio = 0.919 hyp_len = 69962 ref_len = 76142)\n",
            "2022-04-07 05:15:28 | INFO | hw5.seq2seq | saved epoch checkpoint: /home/weiweichi/weichi/HW5/checkpoints/transformer-bt/checkpoint15.pt\n",
            "2022-04-07 05:15:28 | INFO | hw5.seq2seq | end of epoch 15\n"
          ]
        },
        {
          "data": {
            "application/vnd.jupyter.widget-view+json": {
              "model_id": "4cd700eba8e34c5494f07eb8db405efe",
              "version_major": 2,
              "version_minor": 0
            },
            "text/plain": [
              "train epoch 16:   0%|          | 0/800 [00:00<?, ?it/s]"
            ]
          },
          "metadata": {},
          "output_type": "display_data"
        },
        {
          "name": "stdout",
          "output_type": "stream",
          "text": [
            "2022-04-07 05:25:37 | INFO | hw5.seq2seq | training loss: 2.2992\n",
            "2022-04-07 05:25:37 | INFO | hw5.seq2seq | begin validation\n"
          ]
        },
        {
          "data": {
            "application/vnd.jupyter.widget-view+json": {
              "model_id": "569f423fb0be47d4ab48e632e3f9bd5f",
              "version_major": 2,
              "version_minor": 0
            },
            "text/plain": [
              "validation:   0%|          | 0/27 [00:00<?, ?it/s]"
            ]
          },
          "metadata": {},
          "output_type": "display_data"
        },
        {
          "name": "stdout",
          "output_type": "stream",
          "text": [
            "2022-04-07 05:26:06 | WARNING | sacrebleu | That's 100 lines that end in a tokenized period ('.')\n",
            "2022-04-07 05:26:06 | WARNING | sacrebleu | It looks like you forgot to detokenize your test data, which may hurt your score.\n",
            "2022-04-07 05:26:06 | WARNING | sacrebleu | If you insist your data is detokenized, or don't care, you can suppress this message with the `force` parameter.\n",
            "2022-04-07 05:26:06 | INFO | hw5.seq2seq | example source: 嬰兒不會説話 , 對吧 ? 」\n",
            "2022-04-07 05:26:06 | INFO | hw5.seq2seq | example hypothesis: babies don't talk , right ? \"\n",
            "2022-04-07 05:26:06 | INFO | hw5.seq2seq | example reference: infants can't talk , right ? \"\n",
            "2022-04-07 05:26:06 | INFO | hw5.seq2seq | validation loss:\t2.6248\n",
            "2022-04-07 05:26:06 | INFO | hw5.seq2seq | BLEU = 19.93 56.3/27.7/15.5/9.0 (BP = 0.923 ratio = 0.926 hyp_len = 70492 ref_len = 76142)\n",
            "2022-04-07 05:26:08 | INFO | hw5.seq2seq | saved epoch checkpoint: /home/weiweichi/weichi/HW5/checkpoints/transformer-bt/checkpoint16.pt\n",
            "2022-04-07 05:26:08 | INFO | hw5.seq2seq | end of epoch 16\n"
          ]
        },
        {
          "data": {
            "application/vnd.jupyter.widget-view+json": {
              "model_id": "faf18b42983a472c9c1b19d3503356c2",
              "version_major": 2,
              "version_minor": 0
            },
            "text/plain": [
              "train epoch 17:   0%|          | 0/800 [00:00<?, ?it/s]"
            ]
          },
          "metadata": {},
          "output_type": "display_data"
        },
        {
          "name": "stdout",
          "output_type": "stream",
          "text": [
            "2022-04-07 05:36:18 | INFO | hw5.seq2seq | training loss: 2.2733\n",
            "2022-04-07 05:36:18 | INFO | hw5.seq2seq | begin validation\n"
          ]
        },
        {
          "data": {
            "application/vnd.jupyter.widget-view+json": {
              "model_id": "72660e2a4a6747d79b0a1e14c67395e0",
              "version_major": 2,
              "version_minor": 0
            },
            "text/plain": [
              "validation:   0%|          | 0/27 [00:00<?, ?it/s]"
            ]
          },
          "metadata": {},
          "output_type": "display_data"
        },
        {
          "name": "stdout",
          "output_type": "stream",
          "text": [
            "2022-04-07 05:36:48 | WARNING | sacrebleu | That's 100 lines that end in a tokenized period ('.')\n",
            "2022-04-07 05:36:48 | WARNING | sacrebleu | It looks like you forgot to detokenize your test data, which may hurt your score.\n",
            "2022-04-07 05:36:48 | WARNING | sacrebleu | If you insist your data is detokenized, or don't care, you can suppress this message with the `force` parameter.\n",
            "2022-04-07 05:36:48 | INFO | hw5.seq2seq | example source: 而身為老師、妻子這自然也是我每天都面對的問題\n",
            "2022-04-07 05:36:48 | INFO | hw5.seq2seq | example hypothesis: and as a teacher , as a wife , that's what i'm dealing with every day .\n",
            "2022-04-07 05:36:48 | INFO | hw5.seq2seq | example reference: so as a teacher and as a spouse , this is , of course , a problem i confront every day .\n",
            "2022-04-07 05:36:48 | INFO | hw5.seq2seq | validation loss:\t2.6269\n",
            "2022-04-07 05:36:48 | INFO | hw5.seq2seq | BLEU = 19.85 54.8/26.7/14.8/8.6 (BP = 0.956 ratio = 0.957 hyp_len = 72850 ref_len = 76142)\n",
            "2022-04-07 05:36:50 | INFO | hw5.seq2seq | saved epoch checkpoint: /home/weiweichi/weichi/HW5/checkpoints/transformer-bt/checkpoint17.pt\n",
            "2022-04-07 05:36:50 | INFO | hw5.seq2seq | end of epoch 17\n"
          ]
        },
        {
          "data": {
            "application/vnd.jupyter.widget-view+json": {
              "model_id": "411a578efacd4afd9d63b39bd8f8f793",
              "version_major": 2,
              "version_minor": 0
            },
            "text/plain": [
              "train epoch 18:   0%|          | 0/800 [00:00<?, ?it/s]"
            ]
          },
          "metadata": {},
          "output_type": "display_data"
        },
        {
          "name": "stdout",
          "output_type": "stream",
          "text": [
            "2022-04-07 05:46:57 | INFO | hw5.seq2seq | training loss: 2.2517\n",
            "2022-04-07 05:46:57 | INFO | hw5.seq2seq | begin validation\n"
          ]
        },
        {
          "data": {
            "application/vnd.jupyter.widget-view+json": {
              "model_id": "037f586218334b88b957546b15f1353b",
              "version_major": 2,
              "version_minor": 0
            },
            "text/plain": [
              "validation:   0%|          | 0/27 [00:00<?, ?it/s]"
            ]
          },
          "metadata": {},
          "output_type": "display_data"
        },
        {
          "name": "stdout",
          "output_type": "stream",
          "text": [
            "2022-04-07 05:47:27 | WARNING | sacrebleu | That's 100 lines that end in a tokenized period ('.')\n",
            "2022-04-07 05:47:27 | WARNING | sacrebleu | It looks like you forgot to detokenize your test data, which may hurt your score.\n",
            "2022-04-07 05:47:27 | WARNING | sacrebleu | If you insist your data is detokenized, or don't care, you can suppress this message with the `force` parameter.\n",
            "2022-04-07 05:47:27 | INFO | hw5.seq2seq | example source: 後來我們真的這樣做了 , 那是好事 。\n",
            "2022-04-07 05:47:27 | INFO | hw5.seq2seq | example hypothesis: and then we did , and that's a good thing .\n",
            "2022-04-07 05:47:27 | INFO | hw5.seq2seq | example reference: so we did that . it was a good thing .\n",
            "2022-04-07 05:47:27 | INFO | hw5.seq2seq | validation loss:\t2.6264\n",
            "2022-04-07 05:47:27 | INFO | hw5.seq2seq | BLEU = 19.93 55.7/27.4/15.3/9.0 (BP = 0.932 ratio = 0.934 hyp_len = 71118 ref_len = 76142)\n",
            "2022-04-07 05:47:29 | INFO | hw5.seq2seq | saved epoch checkpoint: /home/weiweichi/weichi/HW5/checkpoints/transformer-bt/checkpoint18.pt\n",
            "2022-04-07 05:47:29 | INFO | hw5.seq2seq | end of epoch 18\n"
          ]
        },
        {
          "data": {
            "application/vnd.jupyter.widget-view+json": {
              "model_id": "1ad530d9f04347469396fae07bbb42d7",
              "version_major": 2,
              "version_minor": 0
            },
            "text/plain": [
              "train epoch 19:   0%|          | 0/800 [00:00<?, ?it/s]"
            ]
          },
          "metadata": {},
          "output_type": "display_data"
        },
        {
          "name": "stdout",
          "output_type": "stream",
          "text": [
            "2022-04-07 05:57:37 | INFO | hw5.seq2seq | training loss: 2.2312\n",
            "2022-04-07 05:57:37 | INFO | hw5.seq2seq | begin validation\n"
          ]
        },
        {
          "data": {
            "application/vnd.jupyter.widget-view+json": {
              "model_id": "c245079976034dd2aadb7f17807ba53b",
              "version_major": 2,
              "version_minor": 0
            },
            "text/plain": [
              "validation:   0%|          | 0/27 [00:00<?, ?it/s]"
            ]
          },
          "metadata": {},
          "output_type": "display_data"
        },
        {
          "name": "stdout",
          "output_type": "stream",
          "text": [
            "2022-04-07 05:58:07 | WARNING | sacrebleu | That's 100 lines that end in a tokenized period ('.')\n",
            "2022-04-07 05:58:07 | WARNING | sacrebleu | It looks like you forgot to detokenize your test data, which may hurt your score.\n",
            "2022-04-07 05:58:07 | WARNING | sacrebleu | If you insist your data is detokenized, or don't care, you can suppress this message with the `force` parameter.\n",
            "2022-04-07 05:58:07 | INFO | hw5.seq2seq | example source: 他們選擇昂貴的檢測他們選擇為體弱的老人動手術\n",
            "2022-04-07 05:58:07 | INFO | hw5.seq2seq | example hypothesis: they chose expensive tests , and they chose to operate on weak old people .\n",
            "2022-04-07 05:58:07 | INFO | hw5.seq2seq | example reference: you choose an expensive lab test , you choose to operate on an old and frail patient .\n",
            "2022-04-07 05:58:07 | INFO | hw5.seq2seq | validation loss:\t2.6262\n",
            "2022-04-07 05:58:07 | INFO | hw5.seq2seq | BLEU = 20.28 55.2/27.1/15.2/8.9 (BP = 0.957 ratio = 0.958 hyp_len = 72907 ref_len = 76142)\n",
            "2022-04-07 05:58:09 | INFO | hw5.seq2seq | saved epoch checkpoint: /home/weiweichi/weichi/HW5/checkpoints/transformer-bt/checkpoint19.pt\n",
            "2022-04-07 05:58:10 | INFO | hw5.seq2seq | end of epoch 19\n"
          ]
        },
        {
          "data": {
            "application/vnd.jupyter.widget-view+json": {
              "model_id": "16a58cd4441c461283ae27790889887c",
              "version_major": 2,
              "version_minor": 0
            },
            "text/plain": [
              "train epoch 20:   0%|          | 0/800 [00:00<?, ?it/s]"
            ]
          },
          "metadata": {},
          "output_type": "display_data"
        },
        {
          "name": "stdout",
          "output_type": "stream",
          "text": [
            "2022-04-07 06:08:19 | INFO | hw5.seq2seq | training loss: 2.2113\n",
            "2022-04-07 06:08:19 | INFO | hw5.seq2seq | begin validation\n"
          ]
        },
        {
          "data": {
            "application/vnd.jupyter.widget-view+json": {
              "model_id": "590a276f1c114274960f543558a3829e",
              "version_major": 2,
              "version_minor": 0
            },
            "text/plain": [
              "validation:   0%|          | 0/27 [00:00<?, ?it/s]"
            ]
          },
          "metadata": {},
          "output_type": "display_data"
        },
        {
          "name": "stdout",
          "output_type": "stream",
          "text": [
            "2022-04-07 06:08:49 | WARNING | sacrebleu | That's 100 lines that end in a tokenized period ('.')\n",
            "2022-04-07 06:08:49 | WARNING | sacrebleu | It looks like you forgot to detokenize your test data, which may hurt your score.\n",
            "2022-04-07 06:08:49 | WARNING | sacrebleu | If you insist your data is detokenized, or don't care, you can suppress this message with the `force` parameter.\n",
            "2022-04-07 06:08:49 | INFO | hw5.seq2seq | example source: 我是說 , 這些事都在他眼下發生\n",
            "2022-04-07 06:08:49 | INFO | hw5.seq2seq | example hypothesis: i mean , all of this is happening under his eyes .\n",
            "2022-04-07 06:08:49 | INFO | hw5.seq2seq | example reference: i mean after all , this whole business happened on his watch .\n",
            "2022-04-07 06:08:49 | INFO | hw5.seq2seq | validation loss:\t2.6398\n",
            "2022-04-07 06:08:49 | INFO | hw5.seq2seq | BLEU = 19.72 55.8/27.3/15.2/8.8 (BP = 0.930 ratio = 0.932 hyp_len = 70982 ref_len = 76142)\n",
            "2022-04-07 06:08:50 | INFO | hw5.seq2seq | saved epoch checkpoint: /home/weiweichi/weichi/HW5/checkpoints/transformer-bt/checkpoint20.pt\n",
            "2022-04-07 06:08:50 | INFO | hw5.seq2seq | end of epoch 20\n"
          ]
        },
        {
          "data": {
            "application/vnd.jupyter.widget-view+json": {
              "model_id": "d7cd8153eb084101ac5afb2d933ac83e",
              "version_major": 2,
              "version_minor": 0
            },
            "text/plain": [
              "train epoch 21:   0%|          | 0/800 [00:00<?, ?it/s]"
            ]
          },
          "metadata": {},
          "output_type": "display_data"
        },
        {
          "name": "stdout",
          "output_type": "stream",
          "text": [
            "2022-04-07 06:19:00 | INFO | hw5.seq2seq | training loss: 2.1931\n",
            "2022-04-07 06:19:00 | INFO | hw5.seq2seq | begin validation\n"
          ]
        },
        {
          "data": {
            "application/vnd.jupyter.widget-view+json": {
              "model_id": "e35e66c0c8d54b258b71499767f64ca5",
              "version_major": 2,
              "version_minor": 0
            },
            "text/plain": [
              "validation:   0%|          | 0/27 [00:00<?, ?it/s]"
            ]
          },
          "metadata": {},
          "output_type": "display_data"
        },
        {
          "name": "stdout",
          "output_type": "stream",
          "text": [
            "2022-04-07 06:19:29 | WARNING | sacrebleu | That's 100 lines that end in a tokenized period ('.')\n",
            "2022-04-07 06:19:29 | WARNING | sacrebleu | It looks like you forgot to detokenize your test data, which may hurt your score.\n",
            "2022-04-07 06:19:29 | WARNING | sacrebleu | If you insist your data is detokenized, or don't care, you can suppress this message with the `force` parameter.\n",
            "2022-04-07 06:19:29 | INFO | hw5.seq2seq | example source: 有50%的車禍發生在十字路口\n",
            "2022-04-07 06:19:29 | INFO | hw5.seq2seq | example hypothesis: fifty percent of the crashes occur in crossroads .\n",
            "2022-04-07 06:19:29 | INFO | hw5.seq2seq | example reference: fifty percent of crashes happen at intersections .\n",
            "2022-04-07 06:19:29 | INFO | hw5.seq2seq | validation loss:\t2.6448\n",
            "2022-04-07 06:19:29 | INFO | hw5.seq2seq | BLEU = 19.83 56.2/27.5/15.3/8.8 (BP = 0.928 ratio = 0.931 hyp_len = 70856 ref_len = 76142)\n",
            "2022-04-07 06:19:31 | INFO | hw5.seq2seq | saved epoch checkpoint: /home/weiweichi/weichi/HW5/checkpoints/transformer-bt/checkpoint21.pt\n",
            "2022-04-07 06:19:31 | INFO | hw5.seq2seq | end of epoch 21\n"
          ]
        },
        {
          "data": {
            "application/vnd.jupyter.widget-view+json": {
              "model_id": "4dfab045362b41dc9bcf2ef7d3690643",
              "version_major": 2,
              "version_minor": 0
            },
            "text/plain": [
              "train epoch 22:   0%|          | 0/800 [00:00<?, ?it/s]"
            ]
          },
          "metadata": {},
          "output_type": "display_data"
        },
        {
          "name": "stdout",
          "output_type": "stream",
          "text": [
            "2022-04-07 06:29:38 | INFO | hw5.seq2seq | training loss: 2.1752\n",
            "2022-04-07 06:29:38 | INFO | hw5.seq2seq | begin validation\n"
          ]
        },
        {
          "data": {
            "application/vnd.jupyter.widget-view+json": {
              "model_id": "b5a34c4941474bc8aae83be76f3b843d",
              "version_major": 2,
              "version_minor": 0
            },
            "text/plain": [
              "validation:   0%|          | 0/27 [00:00<?, ?it/s]"
            ]
          },
          "metadata": {},
          "output_type": "display_data"
        },
        {
          "name": "stdout",
          "output_type": "stream",
          "text": [
            "2022-04-07 06:30:08 | WARNING | sacrebleu | That's 100 lines that end in a tokenized period ('.')\n",
            "2022-04-07 06:30:08 | WARNING | sacrebleu | It looks like you forgot to detokenize your test data, which may hurt your score.\n",
            "2022-04-07 06:30:08 | WARNING | sacrebleu | If you insist your data is detokenized, or don't care, you can suppress this message with the `force` parameter.\n",
            "2022-04-07 06:30:08 | INFO | hw5.seq2seq | example source: 我們要問自己這些問題 , 不論這是多麼的令人不快 。\n",
            "2022-04-07 06:30:08 | INFO | hw5.seq2seq | example hypothesis: we have to ask ourselves these questions , no matter how unpleasant it is .\n",
            "2022-04-07 06:30:08 | INFO | hw5.seq2seq | example reference: we have to ask ourselves these questions , however unpalatable .\n",
            "2022-04-07 06:30:08 | INFO | hw5.seq2seq | validation loss:\t2.6508\n",
            "2022-04-07 06:30:08 | INFO | hw5.seq2seq | BLEU = 19.63 56.5/27.6/15.4/9.0 (BP = 0.911 ratio = 0.915 hyp_len = 69653 ref_len = 76142)\n",
            "2022-04-07 06:30:09 | INFO | hw5.seq2seq | saved epoch checkpoint: /home/weiweichi/weichi/HW5/checkpoints/transformer-bt/checkpoint22.pt\n",
            "2022-04-07 06:30:09 | INFO | hw5.seq2seq | end of epoch 22\n"
          ]
        },
        {
          "data": {
            "application/vnd.jupyter.widget-view+json": {
              "model_id": "9a4ee0f5226b48d89181586545516e43",
              "version_major": 2,
              "version_minor": 0
            },
            "text/plain": [
              "train epoch 23:   0%|          | 0/800 [00:00<?, ?it/s]"
            ]
          },
          "metadata": {},
          "output_type": "display_data"
        },
        {
          "name": "stdout",
          "output_type": "stream",
          "text": [
            "2022-04-07 06:40:17 | INFO | hw5.seq2seq | training loss: 2.1592\n",
            "2022-04-07 06:40:17 | INFO | hw5.seq2seq | begin validation\n"
          ]
        },
        {
          "data": {
            "application/vnd.jupyter.widget-view+json": {
              "model_id": "6087279522fa46bf929f186f4e75cdad",
              "version_major": 2,
              "version_minor": 0
            },
            "text/plain": [
              "validation:   0%|          | 0/27 [00:00<?, ?it/s]"
            ]
          },
          "metadata": {},
          "output_type": "display_data"
        },
        {
          "name": "stdout",
          "output_type": "stream",
          "text": [
            "2022-04-07 06:40:47 | WARNING | sacrebleu | That's 100 lines that end in a tokenized period ('.')\n",
            "2022-04-07 06:40:47 | WARNING | sacrebleu | It looks like you forgot to detokenize your test data, which may hurt your score.\n",
            "2022-04-07 06:40:47 | WARNING | sacrebleu | If you insist your data is detokenized, or don't care, you can suppress this message with the `force` parameter.\n",
            "2022-04-07 06:40:47 | INFO | hw5.seq2seq | example source: 有些會太靠近恆星 , 會被烤熟 , 有些則太遙遠 , 會被冰凍 。\n",
            "2022-04-07 06:40:47 | INFO | hw5.seq2seq | example hypothesis: some of them are too close to stars that they'll be took , and some of them too far will be frozen .\n",
            "2022-04-07 06:40:47 | INFO | hw5.seq2seq | example reference: some will be too close to a star and they'll fry , some will be too far away and they'll freeze .\n",
            "2022-04-07 06:40:47 | INFO | hw5.seq2seq | validation loss:\t2.6605\n",
            "2022-04-07 06:40:47 | INFO | hw5.seq2seq | BLEU = 19.66 56.3/27.5/15.3/8.8 (BP = 0.919 ratio = 0.923 hyp_len = 70245 ref_len = 76142)\n",
            "2022-04-07 06:40:48 | INFO | hw5.seq2seq | saved epoch checkpoint: /home/weiweichi/weichi/HW5/checkpoints/transformer-bt/checkpoint23.pt\n",
            "2022-04-07 06:40:48 | INFO | hw5.seq2seq | end of epoch 23\n"
          ]
        },
        {
          "data": {
            "application/vnd.jupyter.widget-view+json": {
              "model_id": "44577ad03b814c6c961cf4f6f803b49d",
              "version_major": 2,
              "version_minor": 0
            },
            "text/plain": [
              "train epoch 24:   0%|          | 0/800 [00:00<?, ?it/s]"
            ]
          },
          "metadata": {},
          "output_type": "display_data"
        },
        {
          "name": "stdout",
          "output_type": "stream",
          "text": [
            "2022-04-07 06:50:57 | INFO | hw5.seq2seq | training loss: 2.1452\n",
            "2022-04-07 06:50:57 | INFO | hw5.seq2seq | begin validation\n"
          ]
        },
        {
          "data": {
            "application/vnd.jupyter.widget-view+json": {
              "model_id": "67e8b5663c3a443f8fed2f432b436f57",
              "version_major": 2,
              "version_minor": 0
            },
            "text/plain": [
              "validation:   0%|          | 0/27 [00:00<?, ?it/s]"
            ]
          },
          "metadata": {},
          "output_type": "display_data"
        },
        {
          "name": "stdout",
          "output_type": "stream",
          "text": [
            "2022-04-07 06:51:27 | WARNING | sacrebleu | That's 100 lines that end in a tokenized period ('.')\n",
            "2022-04-07 06:51:27 | WARNING | sacrebleu | It looks like you forgot to detokenize your test data, which may hurt your score.\n",
            "2022-04-07 06:51:27 | WARNING | sacrebleu | If you insist your data is detokenized, or don't care, you can suppress this message with the `force` parameter.\n",
            "2022-04-07 06:51:27 | INFO | hw5.seq2seq | example source: 我認為大多數的人都不想死但我認為大多數的人都想要控制自己的死亡過程\n",
            "2022-04-07 06:51:27 | INFO | hw5.seq2seq | example hypothesis: i think most people don't want to die , but i think most people want to control their mortality .\n",
            "2022-04-07 06:51:27 | INFO | hw5.seq2seq | example reference: i think most people don't want to be dead , but i do think most people want to have some control over how their dying process proceeds .\n",
            "2022-04-07 06:51:27 | INFO | hw5.seq2seq | validation loss:\t2.6580\n",
            "2022-04-07 06:51:27 | INFO | hw5.seq2seq | BLEU = 19.99 56.2/27.6/15.5/9.1 (BP = 0.924 ratio = 0.927 hyp_len = 70558 ref_len = 76142)\n",
            "2022-04-07 06:51:28 | INFO | hw5.seq2seq | saved epoch checkpoint: /home/weiweichi/weichi/HW5/checkpoints/transformer-bt/checkpoint24.pt\n",
            "2022-04-07 06:51:28 | INFO | hw5.seq2seq | end of epoch 24\n"
          ]
        },
        {
          "data": {
            "application/vnd.jupyter.widget-view+json": {
              "model_id": "99cbc5c70cf840808c0891b1e46223d2",
              "version_major": 2,
              "version_minor": 0
            },
            "text/plain": [
              "train epoch 25:   0%|          | 0/800 [00:00<?, ?it/s]"
            ]
          },
          "metadata": {},
          "output_type": "display_data"
        },
        {
          "name": "stdout",
          "output_type": "stream",
          "text": [
            "2022-04-07 07:01:38 | INFO | hw5.seq2seq | training loss: 2.1303\n",
            "2022-04-07 07:01:38 | INFO | hw5.seq2seq | begin validation\n"
          ]
        },
        {
          "data": {
            "application/vnd.jupyter.widget-view+json": {
              "model_id": "b58bc6cb38554254b3cfcb6ba9a8bb90",
              "version_major": 2,
              "version_minor": 0
            },
            "text/plain": [
              "validation:   0%|          | 0/27 [00:00<?, ?it/s]"
            ]
          },
          "metadata": {},
          "output_type": "display_data"
        },
        {
          "name": "stdout",
          "output_type": "stream",
          "text": [
            "2022-04-07 07:02:07 | WARNING | sacrebleu | That's 100 lines that end in a tokenized period ('.')\n",
            "2022-04-07 07:02:07 | WARNING | sacrebleu | It looks like you forgot to detokenize your test data, which may hurt your score.\n",
            "2022-04-07 07:02:07 | WARNING | sacrebleu | If you insist your data is detokenized, or don't care, you can suppress this message with the `force` parameter.\n",
            "2022-04-07 07:02:07 | INFO | hw5.seq2seq | example source: 目前我們正在土耳其建造一座更長一點的橋 , 我們也設計了義大利的墨西拿海峽大橋 , 正在等待開始動工的日子 , 天知道是何時 。\n",
            "2022-04-07 07:02:07 | INFO | hw5.seq2seq | example hypothesis: we're currently building a longer , longer bridge in turkey , and we're designing a canyon bridge in mexico , and we're waiting for the start of day to know when .\n",
            "2022-04-07 07:02:07 | INFO | hw5.seq2seq | example reference: we're currently working on one in turkey which is a bit longer , and we've designed the messina bridge in italy , which is just waiting to get started with construction one day , who knows when .\n",
            "2022-04-07 07:02:07 | INFO | hw5.seq2seq | validation loss:\t2.6645\n",
            "2022-04-07 07:02:07 | INFO | hw5.seq2seq | BLEU = 19.74 56.6/27.7/15.5/9.0 (BP = 0.913 ratio = 0.916 hyp_len = 69776 ref_len = 76142)\n",
            "2022-04-07 07:02:08 | INFO | hw5.seq2seq | saved epoch checkpoint: /home/weiweichi/weichi/HW5/checkpoints/transformer-bt/checkpoint25.pt\n",
            "2022-04-07 07:02:08 | INFO | hw5.seq2seq | end of epoch 25\n"
          ]
        },
        {
          "data": {
            "application/vnd.jupyter.widget-view+json": {
              "model_id": "c2527f734f36443a85c11e123c615db1",
              "version_major": 2,
              "version_minor": 0
            },
            "text/plain": [
              "train epoch 26:   0%|          | 0/800 [00:00<?, ?it/s]"
            ]
          },
          "metadata": {},
          "output_type": "display_data"
        },
        {
          "name": "stdout",
          "output_type": "stream",
          "text": [
            "2022-04-07 07:12:17 | INFO | hw5.seq2seq | training loss: 2.1175\n",
            "2022-04-07 07:12:17 | INFO | hw5.seq2seq | begin validation\n"
          ]
        },
        {
          "data": {
            "application/vnd.jupyter.widget-view+json": {
              "model_id": "225f92cd260e40f8ba587e0d29ad9c2d",
              "version_major": 2,
              "version_minor": 0
            },
            "text/plain": [
              "validation:   0%|          | 0/27 [00:00<?, ?it/s]"
            ]
          },
          "metadata": {},
          "output_type": "display_data"
        },
        {
          "name": "stdout",
          "output_type": "stream",
          "text": [
            "2022-04-07 07:12:46 | WARNING | sacrebleu | That's 100 lines that end in a tokenized period ('.')\n",
            "2022-04-07 07:12:46 | WARNING | sacrebleu | It looks like you forgot to detokenize your test data, which may hurt your score.\n",
            "2022-04-07 07:12:46 | WARNING | sacrebleu | If you insist your data is detokenized, or don't care, you can suppress this message with the `force` parameter.\n",
            "2022-04-07 07:12:46 | INFO | hw5.seq2seq | example source: 國王在如雷掌聲中接過皇冠、權仗亨利·克里斯托夫登上離地20米的寶座\n",
            "2022-04-07 07:12:46 | INFO | hw5.seq2seq | example hypothesis: the king received the crown , henry christopher in the arms of the crown , 20 meters .\n",
            "2022-04-07 07:12:46 | INFO | hw5.seq2seq | example reference: after receiving his ornate crown and scepter , henry christophe ascended his throne , towering 20 meters in the air .\n",
            "2022-04-07 07:12:46 | INFO | hw5.seq2seq | validation loss:\t2.6730\n",
            "2022-04-07 07:12:46 | INFO | hw5.seq2seq | BLEU = 19.81 56.4/27.6/15.4/8.9 (BP = 0.922 ratio = 0.925 hyp_len = 70397 ref_len = 76142)\n",
            "2022-04-07 07:12:48 | INFO | hw5.seq2seq | saved epoch checkpoint: /home/weiweichi/weichi/HW5/checkpoints/transformer-bt/checkpoint26.pt\n",
            "2022-04-07 07:12:48 | INFO | hw5.seq2seq | end of epoch 26\n"
          ]
        },
        {
          "data": {
            "application/vnd.jupyter.widget-view+json": {
              "model_id": "1f58ef18d67c4f06b0cfb2bce16a7557",
              "version_major": 2,
              "version_minor": 0
            },
            "text/plain": [
              "train epoch 27:   0%|          | 0/800 [00:00<?, ?it/s]"
            ]
          },
          "metadata": {},
          "output_type": "display_data"
        },
        {
          "name": "stdout",
          "output_type": "stream",
          "text": [
            "2022-04-07 07:22:57 | INFO | hw5.seq2seq | training loss: 2.1033\n",
            "2022-04-07 07:22:57 | INFO | hw5.seq2seq | begin validation\n"
          ]
        },
        {
          "data": {
            "application/vnd.jupyter.widget-view+json": {
              "model_id": "d427a3a13ce2428dabdb96bcae0c84e8",
              "version_major": 2,
              "version_minor": 0
            },
            "text/plain": [
              "validation:   0%|          | 0/27 [00:00<?, ?it/s]"
            ]
          },
          "metadata": {},
          "output_type": "display_data"
        },
        {
          "name": "stdout",
          "output_type": "stream",
          "text": [
            "2022-04-07 07:23:27 | WARNING | sacrebleu | That's 100 lines that end in a tokenized period ('.')\n",
            "2022-04-07 07:23:27 | WARNING | sacrebleu | It looks like you forgot to detokenize your test data, which may hurt your score.\n",
            "2022-04-07 07:23:27 | WARNING | sacrebleu | If you insist your data is detokenized, or don't care, you can suppress this message with the `force` parameter.\n",
            "2022-04-07 07:23:27 | INFO | hw5.seq2seq | example source: 他們不知道那有多荒謬 , 而我知道 。\n",
            "2022-04-07 07:23:27 | INFO | hw5.seq2seq | example hypothesis: they didn't know how ridiculous it was , and i knew .\n",
            "2022-04-07 07:23:27 | INFO | hw5.seq2seq | example reference: now , they don't know how ridiculous that is , but i do .\n",
            "2022-04-07 07:23:27 | INFO | hw5.seq2seq | validation loss:\t2.6829\n",
            "2022-04-07 07:23:27 | INFO | hw5.seq2seq | BLEU = 19.56 56.3/27.4/15.3/8.9 (BP = 0.914 ratio = 0.917 hyp_len = 69843 ref_len = 76142)\n",
            "2022-04-07 07:23:28 | INFO | hw5.seq2seq | saved epoch checkpoint: /home/weiweichi/weichi/HW5/checkpoints/transformer-bt/checkpoint27.pt\n",
            "2022-04-07 07:23:28 | INFO | hw5.seq2seq | end of epoch 27\n"
          ]
        },
        {
          "data": {
            "application/vnd.jupyter.widget-view+json": {
              "model_id": "0574cf3f2fd1474b827837dd34fade1a",
              "version_major": 2,
              "version_minor": 0
            },
            "text/plain": [
              "train epoch 28:   0%|          | 0/800 [00:00<?, ?it/s]"
            ]
          },
          "metadata": {},
          "output_type": "display_data"
        },
        {
          "name": "stdout",
          "output_type": "stream",
          "text": [
            "2022-04-07 07:33:36 | INFO | hw5.seq2seq | training loss: 2.0921\n",
            "2022-04-07 07:33:36 | INFO | hw5.seq2seq | begin validation\n"
          ]
        },
        {
          "data": {
            "application/vnd.jupyter.widget-view+json": {
              "model_id": "90a0039d19014610ab3f524ad66361e4",
              "version_major": 2,
              "version_minor": 0
            },
            "text/plain": [
              "validation:   0%|          | 0/27 [00:00<?, ?it/s]"
            ]
          },
          "metadata": {},
          "output_type": "display_data"
        },
        {
          "name": "stdout",
          "output_type": "stream",
          "text": [
            "2022-04-07 07:34:05 | WARNING | sacrebleu | That's 100 lines that end in a tokenized period ('.')\n",
            "2022-04-07 07:34:05 | WARNING | sacrebleu | It looks like you forgot to detokenize your test data, which may hurt your score.\n",
            "2022-04-07 07:34:05 | WARNING | sacrebleu | If you insist your data is detokenized, or don't care, you can suppress this message with the `force` parameter.\n",
            "2022-04-07 07:34:05 | INFO | hw5.seq2seq | example source: 這概念就是大家所知的 「 熱輻射 」 。\n",
            "2022-04-07 07:34:05 | INFO | hw5.seq2seq | example hypothesis: this is the idea that you know , thermal radiation .\n",
            "2022-04-07 07:34:05 | INFO | hw5.seq2seq | example reference: this is a concept known as thermal radiation .\n",
            "2022-04-07 07:34:05 | INFO | hw5.seq2seq | validation loss:\t2.6763\n",
            "2022-04-07 07:34:05 | INFO | hw5.seq2seq | BLEU = 19.69 55.8/27.2/15.1/8.7 (BP = 0.931 ratio = 0.934 hyp_len = 71083 ref_len = 76142)\n",
            "2022-04-07 07:34:07 | INFO | hw5.seq2seq | saved epoch checkpoint: /home/weiweichi/weichi/HW5/checkpoints/transformer-bt/checkpoint28.pt\n",
            "2022-04-07 07:34:07 | INFO | hw5.seq2seq | end of epoch 28\n"
          ]
        },
        {
          "data": {
            "application/vnd.jupyter.widget-view+json": {
              "model_id": "954aadb8ad0c42d795fb53e9c5544b4f",
              "version_major": 2,
              "version_minor": 0
            },
            "text/plain": [
              "train epoch 29:   0%|          | 0/800 [00:00<?, ?it/s]"
            ]
          },
          "metadata": {},
          "output_type": "display_data"
        },
        {
          "name": "stdout",
          "output_type": "stream",
          "text": [
            "2022-04-07 07:44:15 | INFO | hw5.seq2seq | training loss: 2.0801\n",
            "2022-04-07 07:44:15 | INFO | hw5.seq2seq | begin validation\n"
          ]
        },
        {
          "data": {
            "application/vnd.jupyter.widget-view+json": {
              "model_id": "ad3a89f8327d482ab6972c233c4f951d",
              "version_major": 2,
              "version_minor": 0
            },
            "text/plain": [
              "validation:   0%|          | 0/27 [00:00<?, ?it/s]"
            ]
          },
          "metadata": {},
          "output_type": "display_data"
        },
        {
          "name": "stdout",
          "output_type": "stream",
          "text": [
            "2022-04-07 07:44:44 | WARNING | sacrebleu | That's 100 lines that end in a tokenized period ('.')\n",
            "2022-04-07 07:44:44 | WARNING | sacrebleu | It looks like you forgot to detokenize your test data, which may hurt your score.\n",
            "2022-04-07 07:44:44 | WARNING | sacrebleu | If you insist your data is detokenized, or don't care, you can suppress this message with the `force` parameter.\n",
            "2022-04-07 07:44:44 | INFO | hw5.seq2seq | example source: 老實說 , 我們其實可以提前完成這個企畫 , 但我想我們因為這些喝茶休憩時間多做了三周 。\n",
            "2022-04-07 07:44:44 | INFO | hw5.seq2seq | example hypothesis: and honestly , we can actually do this project ahead of time , but i think we've taken three more time open for this recession .\n",
            "2022-04-07 07:44:44 | INFO | hw5.seq2seq | example reference: and to be honest with you , we could have finished earlier , but i think it took us three weeks because of all those tea breaks .\n",
            "2022-04-07 07:44:44 | INFO | hw5.seq2seq | validation loss:\t2.6894\n",
            "2022-04-07 07:44:44 | INFO | hw5.seq2seq | BLEU = 19.82 56.2/27.5/15.4/9.0 (BP = 0.921 ratio = 0.924 hyp_len = 70369 ref_len = 76142)\n",
            "2022-04-07 07:44:46 | INFO | hw5.seq2seq | saved epoch checkpoint: /home/weiweichi/weichi/HW5/checkpoints/transformer-bt/checkpoint29.pt\n",
            "2022-04-07 07:44:46 | INFO | hw5.seq2seq | end of epoch 29\n"
          ]
        },
        {
          "data": {
            "application/vnd.jupyter.widget-view+json": {
              "model_id": "457022aa08454001adeae3b55656c8f1",
              "version_major": 2,
              "version_minor": 0
            },
            "text/plain": [
              "train epoch 30:   0%|          | 0/800 [00:00<?, ?it/s]"
            ]
          },
          "metadata": {},
          "output_type": "display_data"
        },
        {
          "name": "stdout",
          "output_type": "stream",
          "text": [
            "2022-04-07 07:54:55 | INFO | hw5.seq2seq | training loss: 2.0702\n",
            "2022-04-07 07:54:55 | INFO | hw5.seq2seq | begin validation\n"
          ]
        },
        {
          "data": {
            "application/vnd.jupyter.widget-view+json": {
              "model_id": "38dc7a75fd194b90a692d57fd2ec1abe",
              "version_major": 2,
              "version_minor": 0
            },
            "text/plain": [
              "validation:   0%|          | 0/27 [00:00<?, ?it/s]"
            ]
          },
          "metadata": {},
          "output_type": "display_data"
        },
        {
          "name": "stdout",
          "output_type": "stream",
          "text": [
            "2022-04-07 07:55:24 | WARNING | sacrebleu | That's 100 lines that end in a tokenized period ('.')\n",
            "2022-04-07 07:55:24 | WARNING | sacrebleu | It looks like you forgot to detokenize your test data, which may hurt your score.\n",
            "2022-04-07 07:55:24 | WARNING | sacrebleu | If you insist your data is detokenized, or don't care, you can suppress this message with the `force` parameter.\n",
            "2022-04-07 07:55:24 | INFO | hw5.seq2seq | example source: 所以這是個好消息\n",
            "2022-04-07 07:55:24 | INFO | hw5.seq2seq | example hypothesis: so that's the good news .\n",
            "2022-04-07 07:55:24 | INFO | hw5.seq2seq | example reference: so that was good news .\n",
            "2022-04-07 07:55:24 | INFO | hw5.seq2seq | validation loss:\t2.6990\n",
            "2022-04-07 07:55:24 | INFO | hw5.seq2seq | BLEU = 19.59 55.7/27.0/15.0/8.7 (BP = 0.929 ratio = 0.931 hyp_len = 70916 ref_len = 76142)\n",
            "2022-04-07 07:55:25 | INFO | hw5.seq2seq | saved epoch checkpoint: /home/weiweichi/weichi/HW5/checkpoints/transformer-bt/checkpoint30.pt\n",
            "2022-04-07 07:55:26 | INFO | hw5.seq2seq | end of epoch 30\n"
          ]
        }
      ],
      "source": [
        "epoch_itr = load_data_iterator(task, \"train\", config.start_epoch, config.max_tokens, config.num_workers)\n",
        "try_load_checkpoint(model, optimizer, name=config.resume)\n",
        "while epoch_itr.next_epoch_idx <= config.max_epoch:\n",
        "    # train for one epoch\n",
        "    train_one_epoch(epoch_itr, model, task, criterion, optimizer, config.accum_steps)\n",
        "    stats = validate_and_save(model, task, criterion, optimizer, epoch=epoch_itr.epoch)\n",
        "    logger.info(\"end of epoch {}\".format(epoch_itr.epoch))    \n",
        "    epoch_itr = load_data_iterator(task, \"train\", epoch_itr.next_epoch_idx, config.max_tokens, config.num_workers)"
      ]
    },
    {
      "cell_type": "markdown",
      "metadata": {
        "id": "KyjRwllxPjtf"
      },
      "source": [
        "# Submission"
      ]
    },
    {
      "cell_type": "code",
      "execution_count": 42,
      "metadata": {
        "id": "N70Gc6smPi1d"
      },
      "outputs": [
        {
          "name": "stdout",
          "output_type": "stream",
          "text": [
            "Namespace(checkpoint_upper_bound=None, inputs=['./checkpoints/transformer-bt'], num_epoch_checkpoints=5, num_update_checkpoints=None, output='./checkpoints/transformer-bt/avg_last_5_checkpoint.pt')\n",
            "averaging checkpoints:  ['./checkpoints/transformer-bt/checkpoint30.pt', './checkpoints/transformer-bt/checkpoint29.pt', './checkpoints/transformer-bt/checkpoint28.pt', './checkpoints/transformer-bt/checkpoint27.pt', './checkpoints/transformer-bt/checkpoint26.pt']\n",
            "Finished writing averaged checkpoint to ./checkpoints/transformer-bt/avg_last_5_checkpoint.pt\n"
          ]
        }
      ],
      "source": [
        "# averaging a few checkpoints can have a similar effect to ensemble\n",
        "checkdir=config.savedir\n",
        "!python3 ./fairseq/scripts/average_checkpoints.py \\\n",
        "--inputs {checkdir} \\\n",
        "--num-epoch-checkpoints 5 \\\n",
        "--output {checkdir}/avg_last_5_checkpoint.pt"
      ]
    },
    {
      "cell_type": "markdown",
      "metadata": {
        "id": "BAGMiun8PnZy"
      },
      "source": [
        "## Confirm model weights used to generate submission"
      ]
    },
    {
      "cell_type": "code",
      "execution_count": 43,
      "metadata": {
        "id": "tvRdivVUPnsU"
      },
      "outputs": [
        {
          "name": "stdout",
          "output_type": "stream",
          "text": [
            "2022-04-07 07:55:28 | INFO | hw5.seq2seq | loaded checkpoint checkpoints/transformer-bt/avg_last_5_checkpoint.pt: step=unknown loss=2.698962688446045 bleu=19.59026836994649\n",
            "2022-04-07 07:55:28 | INFO | hw5.seq2seq | begin validation\n"
          ]
        },
        {
          "data": {
            "application/vnd.jupyter.widget-view+json": {
              "model_id": "1af128368eb640c885e9f7197240ecd7",
              "version_major": 2,
              "version_minor": 0
            },
            "text/plain": [
              "validation:   0%|          | 0/27 [00:00<?, ?it/s]"
            ]
          },
          "metadata": {},
          "output_type": "display_data"
        },
        {
          "name": "stdout",
          "output_type": "stream",
          "text": [
            "2022-04-07 07:55:57 | WARNING | sacrebleu | That's 100 lines that end in a tokenized period ('.')\n",
            "2022-04-07 07:55:57 | WARNING | sacrebleu | It looks like you forgot to detokenize your test data, which may hurt your score.\n",
            "2022-04-07 07:55:57 | WARNING | sacrebleu | If you insist your data is detokenized, or don't care, you can suppress this message with the `force` parameter.\n",
            "2022-04-07 07:55:57 | INFO | hw5.seq2seq | example source: 飛蚊可能不太明顯通常是如此\n",
            "2022-04-07 07:55:57 | INFO | hw5.seq2seq | example hypothesis: a flying mosquito might not be obvious , usually .\n",
            "2022-04-07 07:55:57 | INFO | hw5.seq2seq | example reference: floaters may be only barely distinguishable most of the time .\n",
            "2022-04-07 07:55:57 | INFO | hw5.seq2seq | validation loss:\t2.6542\n",
            "2022-04-07 07:55:57 | INFO | hw5.seq2seq | BLEU = 20.31 56.8/28.1/15.9/9.3 (BP = 0.922 ratio = 0.925 hyp_len = 70396 ref_len = 76142)\n"
          ]
        }
      ],
      "source": [
        "# checkpoint_last.pt : latest epoch\n",
        "# checkpoint_best.pt : highest validation bleu\n",
        "# avg_last_5_checkpoint.pt:　the average of last 5 epochs\n",
        "try_load_checkpoint(model, name=\"avg_last_5_checkpoint.pt\")\n",
        "validate(model, task, criterion, log_to_wandb=False)\n",
        "None"
      ]
    },
    {
      "cell_type": "markdown",
      "metadata": {
        "id": "ioAIflXpPsxt"
      },
      "source": [
        "## Generate Prediction"
      ]
    },
    {
      "cell_type": "code",
      "execution_count": 44,
      "metadata": {
        "id": "oYMxA8FlPtIq"
      },
      "outputs": [],
      "source": [
        "def generate_prediction(model, task, split=\"test\", outfile=\"./prediction.txt\"):    \n",
        "    task.load_dataset(split=split, epoch=1)\n",
        "    itr = load_data_iterator(task, split, 1, config.max_tokens, config.num_workers).next_epoch_itr(shuffle=False)\n",
        "    \n",
        "    idxs = []\n",
        "    hyps = []\n",
        "\n",
        "    model.eval()\n",
        "    progress = tqdm.tqdm(itr, desc=f\"prediction\")\n",
        "    with torch.no_grad():\n",
        "        for i, sample in enumerate(progress):\n",
        "            # validation loss\n",
        "            sample = utils.move_to_cuda(sample, device=device)\n",
        "\n",
        "            # do inference\n",
        "            s, h, r = inference_step(sample, model)\n",
        "            \n",
        "            hyps.extend(h)\n",
        "            idxs.extend(list(sample['id']))\n",
        "            \n",
        "    # sort based on the order before preprocess\n",
        "    hyps = [x for _,x in sorted(zip(idxs,hyps))]\n",
        "    \n",
        "    with open(outfile, \"w\") as f:\n",
        "        for h in hyps:\n",
        "            f.write(h+\"\\n\")"
      ]
    },
    {
      "cell_type": "markdown",
      "metadata": {
        "id": "1z0cJE-wPzaU"
      },
      "source": [
        "# Back-translation"
      ]
    },
    {
      "cell_type": "markdown",
      "metadata": {
        "id": "5-7uPJ2CP0sm"
      },
      "source": [
        "## Train a backward translation model"
      ]
    },
    {
      "cell_type": "markdown",
      "metadata": {
        "id": "ppGHjg2ZP3sV"
      },
      "source": [
        "1. Switch the source_lang and target_lang in **config** \n",
        "2. Change the savedir in **config** (eg. \"./checkpoints/transformer-back\")\n",
        "3. Train model"
      ]
    },
    {
      "cell_type": "markdown",
      "metadata": {
        "id": "waTGz29UP6WI"
      },
      "source": [
        "## Generate synthetic data with backward model "
      ]
    },
    {
      "cell_type": "markdown",
      "metadata": {
        "id": "sIeTsPexP8FL"
      },
      "source": [
        "### Download monolingual data"
      ]
    },
    {
      "cell_type": "code",
      "execution_count": 45,
      "metadata": {
        "id": "i7N4QlsbP8fh"
      },
      "outputs": [],
      "source": [
        "mono_dataset_name = 'mono'"
      ]
    },
    {
      "cell_type": "code",
      "execution_count": 46,
      "metadata": {
        "id": "396saD9-QBPY"
      },
      "outputs": [
        {
          "name": "stdout",
          "output_type": "stream",
          "text": [
            "ted_zh_corpus.deduped.gz is exist, skip downloading\n"
          ]
        }
      ],
      "source": [
        "mono_prefix = Path(data_dir).absolute() / mono_dataset_name\n",
        "mono_prefix.mkdir(parents=True, exist_ok=True)\n",
        "\n",
        "urls = (\n",
        "    \"https://github.com/yuhsinchan/ML2022-HW5Dataset/releases/download/v1.0.2/ted_zh_corpus.deduped.gz\",\n",
        ")\n",
        "file_names = (\n",
        "    'ted_zh_corpus.deduped.gz',\n",
        ")\n",
        "\n",
        "for u, f in zip(urls, file_names):\n",
        "    path = mono_prefix/f\n",
        "    if not path.exists():\n",
        "        !wget {u} -O {path}\n",
        "    else:\n",
        "        print(f'{f} is exist, skip downloading')\n",
        "    if path.suffix == \".tgz\":\n",
        "        !tar -xvf {path} -C {prefix}\n",
        "    elif path.suffix == \".zip\":\n",
        "        !unzip -o {path} -d {prefix}\n",
        "    elif path.suffix == \".gz\":\n",
        "        !gzip -fkd {path}"
      ]
    },
    {
      "cell_type": "markdown",
      "metadata": {
        "id": "JOVQRHzGQU4-"
      },
      "source": [
        "### TODO: clean corpus\n",
        "\n",
        "1. remove sentences that are too long or too short\n",
        "2. unify punctuation\n",
        "\n",
        "hint: you can use clean_s() defined above to do this"
      ]
    },
    {
      "cell_type": "code",
      "execution_count": 47,
      "metadata": {},
      "outputs": [],
      "source": [
        "def clean_mono_corpus(mono_prefix, l1, l2, max_len=1000, min_len=1):\n",
        "    if Path(f'{mono_prefix}/ted_zh_corpus.deduped.clean.{l1}').exists() and Path(f'{mono_prefix}/ted_zh_corpus.deduped.clean.{l2}').exists():\n",
        "        print(f'{mono_prefix}/ted_zh_corpus.deduped.clean.{l1} & {l2} exists. skipping clean.')\n",
        "        return\n",
        "    with open(f'{mono_prefix}/ted_zh_corpus.deduped', 'r') as l1_in_f:\n",
        "        with open(f'{mono_prefix}/ted_zh_corpus.deduped.clean.{l1}', 'w') as l1_out_f:\n",
        "            with open(f'{mono_prefix}/ted_zh_corpus.deduped.clean.{l2}', 'w') as l2_out_f:\n",
        "                for s1 in l1_in_f:\n",
        "                    s1 = s1.strip()\n",
        "                    s1 = clean_s(s1, l1)\n",
        "                    s1_len = len_s(s1, l1)\n",
        "                    if min_len > 0: # remove short sentence\n",
        "                        if s1_len < min_len:\n",
        "                            continue\n",
        "                    if max_len > 0: # remove long sentence\n",
        "                        if s1_len > max_len:\n",
        "                            continue\n",
        "                    print(s1, file=l1_out_f)\n",
        "                    print('.', file=l2_out_f)"
      ]
    },
    {
      "cell_type": "code",
      "execution_count": 48,
      "metadata": {},
      "outputs": [
        {
          "name": "stdout",
          "output_type": "stream",
          "text": [
            "/home/weiweichi/weichi/HW5/DATA/rawdata/mono\n",
            "/home/weiweichi/weichi/HW5/DATA/rawdata/mono/ted_zh_corpus.deduped.clean.zh & en exists. skipping clean.\n"
          ]
        }
      ],
      "source": [
        "print(mono_prefix)\n",
        "clean_mono_corpus(mono_prefix, 'zh','en')"
      ]
    },
    {
      "cell_type": "code",
      "execution_count": 49,
      "metadata": {},
      "outputs": [
        {
          "name": "stdout",
          "output_type": "stream",
          "text": [
            "非常謝謝你 , 克里斯 。 能有這個機會第二度踏上這個演講台\n",
            "真是一大榮幸 。 我非常感激 。\n",
            "這個研討會給我留下了極為深刻的印象 , 我想感謝大家對我之前演講的好評 。\n",
            "我是由衷的想這麼說 , 有部份原因是因為我真的有需要 !\n",
            "請你們設身處地為我想一想 !\n",
            "Thank you so much , Chris .\n",
            "And it's truly a great honor to have the opportunity to come to this stage twice ; I'm extremely grateful .\n",
            "I have been blown away by this conference , and I want to thank all of you for the many nice comments about what I had to say the other night .\n",
            "And I say that sincerely , partly because I need that .\n",
            "Put yourselves in my position .\n"
          ]
        }
      ],
      "source": [
        "!head {data_prefix+'.clean.'+'zh'} -n 5\n",
        "!head {data_prefix+'.clean.'+'en'} -n 5"
      ]
    },
    {
      "cell_type": "markdown",
      "metadata": {
        "id": "jegH0bvMQVmR"
      },
      "source": [
        "### TODO: Subword Units\n",
        "\n",
        "Use the spm model of the backward model to tokenize the data into subword units\n",
        "\n",
        "hint: spm model is located at DATA/raw-data/\\[dataset\\]/spm\\[vocab_num\\].model"
      ]
    },
    {
      "cell_type": "code",
      "execution_count": 50,
      "metadata": {
        "id": "vqgR4uUMQZGY"
      },
      "outputs": [
        {
          "name": "stdout",
          "output_type": "stream",
          "text": [
            "/home/weiweichi/weichi/HW5/DATA/rawdata/mono/mono.tok.zh exists. skipping spm_encode.\n",
            "/home/weiweichi/weichi/HW5/DATA/rawdata/mono/mono.tok.en exists. skipping spm_encode.\n"
          ]
        }
      ],
      "source": [
        "for lang in ['zh', 'en']:\n",
        "    out_path = mono_prefix/f'mono.tok.{lang}'\n",
        "    if out_path.exists():\n",
        "        print(f\"{out_path} exists. skipping spm_encode.\")\n",
        "    else:\n",
        "        with open(mono_prefix/f'mono.tok.{lang}', 'w') as out_f:\n",
        "            with open(mono_prefix/f'ted_zh_corpus.deduped.clean.{lang}', 'r') as in_f:\n",
        "                for line in in_f:\n",
        "                    line = line.strip()\n",
        "                    tok = spm_model.encode(line, out_type=str)\n",
        "                    print(' '.join(tok), file=out_f)"
      ]
    },
    {
      "cell_type": "markdown",
      "metadata": {
        "id": "a65glBVXQZiE"
      },
      "source": [
        "### Binarize\n",
        "\n",
        "use fairseq to binarize data"
      ]
    },
    {
      "cell_type": "code",
      "execution_count": 51,
      "metadata": {
        "id": "b803qA5aQaEu"
      },
      "outputs": [
        {
          "name": "stdout",
          "output_type": "stream",
          "text": [
            "DATA/data-bin/mono exists, will not overwrite!\n"
          ]
        }
      ],
      "source": [
        "binpath = Path('./DATA/data-bin', mono_dataset_name)\n",
        "src_dict_file = './DATA/data-bin/ted2020/dict.en.txt'\n",
        "tgt_dict_file = src_dict_file\n",
        "monopref = str(mono_prefix/\"mono.tok\") # whatever filepath you get after applying subword tokenization\n",
        "if binpath.exists():\n",
        "    print(binpath, \"exists, will not overwrite!\")\n",
        "else:\n",
        "    !python3 -m fairseq_cli.preprocess\\\n",
        "        --source-lang 'zh'\\\n",
        "        --target-lang 'en'\\\n",
        "        --trainpref {monopref}\\\n",
        "        --destdir {binpath}\\\n",
        "        --srcdict {src_dict_file}\\\n",
        "        --tgtdict {tgt_dict_file}\\\n",
        "        --workers 2"
      ]
    },
    {
      "cell_type": "markdown",
      "metadata": {
        "id": "smA0JraEQdxz"
      },
      "source": [
        "### TODO: Generate synthetic data with backward model\n",
        "\n",
        "Add binarized monolingual data to the original data directory, and name it with \"split_name\"\n",
        "\n",
        "ex. ./DATA/data-bin/ted2020/\\[split_name\\].zh-en.\\[\"en\", \"zh\"\\].\\[\"bin\", \"idx\"\\]\n",
        "\n",
        "then you can use 'generate_prediction(model, task, split=\"split_name\")' to generate translation prediction"
      ]
    },
    {
      "cell_type": "code",
      "execution_count": 52,
      "metadata": {
        "id": "jvaOVHeoQfkB"
      },
      "outputs": [],
      "source": [
        "# Add binarized monolingual data to the original data directory, and name it with \"split_name\"\n",
        "# ex. ./DATA/data-bin/ted2020/\\[split_name\\].zh-en.\\[\"en\", \"zh\"\\].\\[\"bin\", \"idx\"\\]\n",
        "!cp ./DATA/data-bin/mono/train.zh-en.zh.bin ./DATA/data-bin/ted2020/mono.zh-en.zh.bin\n",
        "!cp ./DATA/data-bin/mono/train.zh-en.zh.idx ./DATA/data-bin/ted2020/mono.zh-en.zh.idx\n",
        "!cp ./DATA/data-bin/mono/train.zh-en.en.bin ./DATA/data-bin/ted2020/mono.zh-en.en.bin\n",
        "!cp ./DATA/data-bin/mono/train.zh-en.en.idx ./DATA/data-bin/ted2020/mono.zh-en.en.idx"
      ]
    },
    {
      "cell_type": "code",
      "execution_count": 53,
      "metadata": {
        "id": "fFEkxPu-Qhlc"
      },
      "outputs": [
        {
          "name": "stdout",
          "output_type": "stream",
          "text": [
            "2022-04-07 07:56:04 | INFO | fairseq.data.data_utils | loaded 781,713 examples from: ./DATA/data-bin/ted2020/mono.zh-en.zh\n",
            "2022-04-07 07:56:04 | INFO | fairseq.data.data_utils | loaded 781,713 examples from: ./DATA/data-bin/ted2020/mono.zh-en.en\n",
            "2022-04-07 07:56:04 | INFO | fairseq.tasks.translation | ./DATA/data-bin/ted2020 mono zh-en 781713 examples\n"
          ]
        },
        {
          "data": {
            "application/vnd.jupyter.widget-view+json": {
              "model_id": "001971295e4a48848bcb40a53196c85a",
              "version_major": 2,
              "version_minor": 0
            },
            "text/plain": [
              "prediction:   0%|          | 0/1715 [00:00<?, ?it/s]"
            ]
          },
          "metadata": {},
          "output_type": "display_data"
        }
      ],
      "source": [
        "# hint: do prediction on split='mono' to create prediction_file\n",
        "generate_prediction(model, task, split=\"mono\", outfile=\"./DATA/rawdata/mono/mono_prediction.txt\")"
      ]
    },
    {
      "cell_type": "code",
      "execution_count": 54,
      "metadata": {},
      "outputs": [
        {
          "name": "stdout",
          "output_type": "stream",
          "text": [
            "in the mid16th century , italians were fascinated by a kind of male singer , broad range , including the pitch of the adults impossible to achieve by men .\n",
            "but this gift comes at a very high cost .\n",
            "to prevent them from turning voices , these singers were castrated before puberty to stop the hormonal changes in regard to lower their voice wires .\n",
            "it's called castrati , and their light , angelic voices are very wellknown throughout europe , until this cruel procedure was banned in the 19th century .\n",
            "although the vocal growth of stopping the vocal cords can produce an extraordinary range of voices , naturally developing voices can be tremendous .\n"
          ]
        }
      ],
      "source": [
        "!head {'./DATA/rawdata/mono/mono_prediction.txt'} -n 5"
      ]
    },
    {
      "cell_type": "markdown",
      "metadata": {
        "id": "Jn4XeawpQjLk"
      },
      "source": [
        "### TODO: Create new dataset\n",
        "\n",
        "1. Combine the prediction data with monolingual data\n",
        "2. Use the original spm model to tokenize data into Subword Units\n",
        "3. Binarize data with fairseq"
      ]
    },
    {
      "cell_type": "code",
      "execution_count": 55,
      "metadata": {
        "id": "3R35JTaTQjkm"
      },
      "outputs": [
        {
          "name": "stdout",
          "output_type": "stream",
          "text": [
            "DATA/data-bin/synthetic exists, will not overwrite!\n"
          ]
        }
      ],
      "source": [
        "# Combine prediction_file (.en) and mono.zh (.zh) into a new dataset.\n",
        "# \n",
        "# hint: tokenize prediction_file with the spm model\n",
        "# spm_model.encode(line, out_type=str)\n",
        "# output: ./DATA/rawdata/mono/mono.tok.en & mono.tok.zh\n",
        "#\n",
        "# hint: use fairseq to binarize these two files again\n",
        "binpath = Path('./DATA/data-bin/synthetic')\n",
        "src_dict_file = './DATA/data-bin/ted2020/dict.en.txt'\n",
        "tgt_dict_file = src_dict_file\n",
        "monopref = './DATA/rawdata/mono/mono.tok' # or whatever path after applying subword tokenization, w/o the suffix (.zh/.en)\n",
        "if binpath.exists():\n",
        "    print(binpath, \"exists, will not overwrite!\")\n",
        "else:\n",
        "    !python3 -m fairseq_cli.preprocess\\\n",
        "        --source-lang 'zh'\\\n",
        "        --target-lang 'en'\\\n",
        "        --trainpref {monopref}\\\n",
        "        --destdir {binpath}\\\n",
        "        --srcdict {src_dict_file}\\\n",
        "        --tgtdict {tgt_dict_file}\\\n",
        "        --workers 2"
      ]
    },
    {
      "cell_type": "code",
      "execution_count": 56,
      "metadata": {
        "id": "MSkse1tyQnsR"
      },
      "outputs": [],
      "source": [
        "# create a new dataset from all the files prepared above\n",
        "!cp -r ./DATA/data-bin/ted2020/ ./DATA/data-bin/ted2020_with_mono/\n",
        "\n",
        "!cp ./DATA/data-bin/synthetic/train.zh-en.zh.bin ./DATA/data-bin/ted2020_with_mono/train1.en-zh.zh.bin\n",
        "!cp ./DATA/data-bin/synthetic/train.zh-en.zh.idx ./DATA/data-bin/ted2020_with_mono/train1.en-zh.zh.idx\n",
        "!cp ./DATA/data-bin/synthetic/train.zh-en.en.bin ./DATA/data-bin/ted2020_with_mono/train1.en-zh.en.bin\n",
        "!cp ./DATA/data-bin/synthetic/train.zh-en.en.idx ./DATA/data-bin/ted2020_with_mono/train1.en-zh.en.idx"
      ]
    },
    {
      "cell_type": "markdown",
      "metadata": {
        "id": "YVdxVGO3QrSs"
      },
      "source": [
        "Created new dataset \"ted2020_with_mono\"\n",
        "\n",
        "1. Change the datadir in **config** (\"./DATA/data-bin/ted2020_with_mono\")\n",
        "2. Switch back the source_lang and target_lang in **config** (\"en\", \"zh\")\n",
        "2. Change the savedir in **config** (eg. \"./checkpoints/transformer-bt\")\n",
        "3. Train model"
      ]
    },
    {
      "cell_type": "markdown",
      "metadata": {
        "id": "_CZU2beUQtl3"
      },
      "source": [
        "1. <a name=ott2019fairseq></a>Ott, M., Edunov, S., Baevski, A., Fan, A., Gross, S., Ng, N., ... & Auli, M. (2019, June). fairseq: A Fast, Extensible Toolkit for Sequence Modeling. In Proceedings of the 2019 Conference of the North American Chapter of the Association for Computational Linguistics (Demonstrations) (pp. 48-53).\n",
        "2. <a name=vaswani2017></a>Vaswani, A., Shazeer, N., Parmar, N., Uszkoreit, J., Jones, L., Gomez, A. N., ... & Polosukhin, I. (2017, December). Attention is all you need. In Proceedings of the 31st International Conference on Neural Information Processing Systems (pp. 6000-6010).\n",
        "3. <a name=reimers-2020-multilingual-sentence-bert></a>Reimers, N., & Gurevych, I. (2020, November). Making Monolingual Sentence Embeddings Multilingual Using Knowledge Distillation. In Proceedings of the 2020 Conference on Empirical Methods in Natural Language Processing (EMNLP) (pp. 4512-4525).\n",
        "4. <a name=tiedemann2012parallel></a>Tiedemann, J. (2012, May). Parallel Data, Tools and Interfaces in OPUS. In Lrec (Vol. 2012, pp. 2214-2218).\n",
        "5. <a name=kudo-richardson-2018-sentencepiece></a>Kudo, T., & Richardson, J. (2018, November). SentencePiece: A simple and language independent subword tokenizer and detokenizer for Neural Text Processing. In Proceedings of the 2018 Conference on Empirical Methods in Natural Language Processing: System Demonstrations (pp. 66-71).\n",
        "6. <a name=sennrich-etal-2016-improving></a>Sennrich, R., Haddow, B., & Birch, A. (2016, August). Improving Neural Machine Translation Models with Monolingual Data. In Proceedings of the 54th Annual Meeting of the Association for Computational Linguistics (Volume 1: Long Papers) (pp. 86-96).\n",
        "7. <a name=edunov-etal-2018-understanding></a>Edunov, S., Ott, M., Auli, M., & Grangier, D. (2018). Understanding Back-Translation at Scale. In Proceedings of the 2018 Conference on Empirical Methods in Natural Language Processing (pp. 489-500).\n",
        "8. https://github.com/ajinkyakulkarni14/TED-Multilingual-Parallel-Corpus\n",
        "9. https://ithelp.ithome.com.tw/articles/10233122\n",
        "10. https://nlp.seas.harvard.edu/2018/04/03/attention.html\n",
        "11. https://colab.research.google.com/github/ga642381/ML2021-Spring/blob/main/HW05/HW05.ipynb"
      ]
    },
    {
      "cell_type": "code",
      "execution_count": 57,
      "metadata": {
        "id": "Rrfm6iLJQ0tS"
      },
      "outputs": [],
      "source": [
        "config = Namespace(\n",
        "    datadir = \"./DATA/data-bin/ted2020_with_mono\",\n",
        "    savedir = \"./checkpoints/transformer\",\n",
        "    source_lang = \"en\",\n",
        "    target_lang = \"zh\",\n",
        "    \n",
        "    # cpu threads when fetching & processing data.\n",
        "    num_workers=2,  \n",
        "    # batch size in terms of tokens. gradient accumulation increases the effective batchsize.\n",
        "    max_tokens=3072,\n",
        "    accum_steps=4,\n",
        "    \n",
        "    # the lr s calculated from Noam lr scheduler. you can tune the maximum lr by this factor.\n",
        "    lr_factor=2.,\n",
        "    lr_warmup=4000,\n",
        "    \n",
        "    # clipping gradient norm helps alleviate gradient exploding\n",
        "    clip_norm=1.0,\n",
        "    \n",
        "    # maximum epochs for training\n",
        "    max_epoch=35,\n",
        "    start_epoch=1,\n",
        "    \n",
        "    # beam size for beam search\n",
        "    beam=5, \n",
        "    # generate sequences of maximum length ax + b, where x is the source length\n",
        "    max_len_a=1.2, \n",
        "    max_len_b=10, \n",
        "    # when decoding, post process sentence by removing sentencepiece symbols and jieba tokenization.\n",
        "    post_process = \"sentencepiece\",\n",
        "    \n",
        "    # checkpoints\n",
        "    keep_last_epochs=5,\n",
        "    resume=None, # if resume from checkpoint name (under config.savedir)\n",
        "    \n",
        "    # logging\n",
        "    use_wandb=False,\n",
        ")\n",
        "if config.use_wandb:\n",
        "    import wandb\n",
        "    wandb.init(project=proj, name=Path(config.savedir).stem, config=config)"
      ]
    },
    {
      "cell_type": "code",
      "execution_count": 58,
      "metadata": {},
      "outputs": [
        {
          "name": "stdout",
          "output_type": "stream",
          "text": [
            "2022-04-07 08:56:17 | INFO | fairseq.tasks.translation | [en] dictionary: 7992 types\n",
            "2022-04-07 08:56:17 | INFO | fairseq.tasks.translation | [zh] dictionary: 7992 types\n"
          ]
        }
      ],
      "source": [
        "task_cfg = TranslationConfig(\n",
        "    data=config.datadir,\n",
        "    source_lang=config.source_lang,\n",
        "    target_lang=config.target_lang,\n",
        "    train_subset=\"train\",\n",
        "    required_seq_len_multiple=8,\n",
        "    dataset_impl=\"mmap\",\n",
        "    upsample_primary=1,\n",
        ")\n",
        "task = TranslationTask.setup_task(task_cfg)"
      ]
    },
    {
      "cell_type": "code",
      "execution_count": 59,
      "metadata": {},
      "outputs": [
        {
          "name": "stdout",
          "output_type": "stream",
          "text": [
            "2022-04-07 08:56:17 | INFO | hw5.seq2seq | loading data for epoch 1\n",
            "2022-04-07 08:56:17 | INFO | fairseq.data.data_utils | loaded 390,041 examples from: ./DATA/data-bin/ted2020_with_mono/train.en-zh.en\n",
            "2022-04-07 08:56:17 | INFO | fairseq.data.data_utils | loaded 390,041 examples from: ./DATA/data-bin/ted2020_with_mono/train.en-zh.zh\n",
            "2022-04-07 08:56:17 | INFO | fairseq.tasks.translation | ./DATA/data-bin/ted2020_with_mono train en-zh 390041 examples\n",
            "2022-04-07 08:56:17 | INFO | fairseq.data.data_utils | loaded 781,713 examples from: ./DATA/data-bin/ted2020_with_mono/train1.en-zh.en\n",
            "2022-04-07 08:56:17 | INFO | fairseq.data.data_utils | loaded 781,713 examples from: ./DATA/data-bin/ted2020_with_mono/train1.en-zh.zh\n",
            "2022-04-07 08:56:17 | INFO | fairseq.tasks.translation | ./DATA/data-bin/ted2020_with_mono train1 en-zh 781713 examples\n",
            "2022-04-07 08:56:17 | INFO | fairseq.data.data_utils | loaded 3,939 examples from: ./DATA/data-bin/ted2020_with_mono/valid.en-zh.en\n",
            "2022-04-07 08:56:17 | INFO | fairseq.data.data_utils | loaded 3,939 examples from: ./DATA/data-bin/ted2020_with_mono/valid.en-zh.zh\n",
            "2022-04-07 08:56:17 | INFO | fairseq.tasks.translation | ./DATA/data-bin/ted2020_with_mono valid en-zh 3939 examples\n"
          ]
        }
      ],
      "source": [
        "logger.info(\"loading data for epoch 1\")\n",
        "task.load_dataset(split=\"train\", epoch=1, combine=True) # combine if you have back-translation data.\n",
        "task.load_dataset(split=\"valid\", epoch=1)"
      ]
    },
    {
      "cell_type": "code",
      "execution_count": 60,
      "metadata": {},
      "outputs": [
        {
          "name": "stdout",
          "output_type": "stream",
          "text": [
            "{'id': 1,\n",
            " 'source': tensor([  35,   22,  440,   27,    5,  850,  261,  172,    6,   29,  800,    6,\n",
            "         184,  164,   99, 1178,  374,  804,  257,   41,    5,  313,  868,   42,\n",
            "          27,   61, 1836,   18,  184, 1147, 1404,   21,    6,    6,  320,    7,\n",
            "           2]),\n",
            " 'target': tensor([  53, 3134, 3107,   34,  408, 1223, 3895,  670,    9, 1038,  498,  148,\n",
            "        1689,  364,  129, 1050, 1103,   34,  408,  158,  607, 3268,  306,    9,\n",
            "        1105,    2])}\n",
            "('Source: so we bred flies whose brains were more or less randomly peppered '\n",
            " 'with cells that were light addressable .')\n",
            "'Target: 我們培植了一些果蠅它們的腦部被隨機地安置了一些可以光驅動的細胞'\n"
          ]
        }
      ],
      "source": [
        "sample = task.dataset(\"valid\")[1]\n",
        "pprint.pprint(sample)\n",
        "pprint.pprint(\n",
        "    \"Source: \" + \\\n",
        "    task.source_dictionary.string(\n",
        "        sample['source'],\n",
        "        config.post_process,\n",
        "    )\n",
        ")\n",
        "pprint.pprint(\n",
        "    \"Target: \" + \\\n",
        "    task.target_dictionary.string(\n",
        "        sample['target'],\n",
        "        config.post_process,\n",
        "    )\n",
        ")"
      ]
    },
    {
      "cell_type": "code",
      "execution_count": 61,
      "metadata": {},
      "outputs": [
        {
          "name": "stdout",
          "output_type": "stream",
          "text": [
            "2022-04-07 08:56:17 | WARNING | fairseq.tasks.fairseq_task | 2,565 samples have invalid sizes and will be skipped, max_positions=(20, 20), first few sample ids=[1643, 1630, 3670, 1642, 413, 2460, 3921, 681, 2996, 302]\n"
          ]
        },
        {
          "data": {
            "text/plain": [
              "{'id': tensor([2710, 1186]),\n",
              " 'nsentences': 2,\n",
              " 'ntokens': 18,\n",
              " 'net_input': {'src_tokens': tensor([[  19,  269,   80,   31,   88,  617,    7,    2],\n",
              "          [  19,  185,   56,   18, 1119, 2760,    7,    2]]),\n",
              "  'src_lengths': tensor([8, 8]),\n",
              "  'prev_output_tokens': tensor([[   2,   40,  158, 1028,  336,  125,  444,  162,   10,    1,    1,    1,\n",
              "              1,    1,    1,    1],\n",
              "          [   2, 2375, 1979,  309, 2515,    9,  120,  782,   10,    1,    1,    1,\n",
              "              1,    1,    1,    1]])},\n",
              " 'target': tensor([[  40,  158, 1028,  336,  125,  444,  162,   10,    2,    1,    1,    1,\n",
              "             1,    1,    1,    1],\n",
              "         [2375, 1979,  309, 2515,    9,  120,  782,   10,    2,    1,    1,    1,\n",
              "             1,    1,    1,    1]])}"
            ]
          },
          "execution_count": 61,
          "metadata": {},
          "output_type": "execute_result"
        }
      ],
      "source": [
        "demo_epoch_obj = load_data_iterator(task, \"valid\", epoch=1, max_tokens=20, num_workers=1, cached=False)\n",
        "demo_iter = demo_epoch_obj.next_epoch_itr(shuffle=True)\n",
        "sample = next(demo_iter)\n",
        "sample"
      ]
    },
    {
      "cell_type": "code",
      "execution_count": 62,
      "metadata": {},
      "outputs": [],
      "source": [
        "arch_args = Namespace(\n",
        "    encoder_embed_dim=1024,\n",
        "    encoder_ffn_embed_dim=3072,\n",
        "    encoder_layers=6,\n",
        "    decoder_embed_dim=1024,\n",
        "    decoder_ffn_embed_dim=3072,\n",
        "    decoder_layers=6,\n",
        "    share_decoder_input_output_embed=True,\n",
        "    dropout=0.3,\n",
        ")\n",
        "\n",
        "def add_transformer_args(args):\n",
        "    args.encoder_attention_heads=16\n",
        "    args.encoder_normalize_before=True\n",
        "    \n",
        "    args.decoder_attention_heads=16\n",
        "    args.decoder_normalize_before=True\n",
        "    \n",
        "    args.activation_fn=\"relu\"\n",
        "    args.max_source_positions=1024\n",
        "    args.max_target_positions=1024\n",
        "    \n",
        "    # patches on default parameters for Transformer (those not set above)\n",
        "    from fairseq.models.transformer import base_architecture\n",
        "    base_architecture(arch_args)\n",
        "\n",
        "add_transformer_args(arch_args)"
      ]
    },
    {
      "cell_type": "code",
      "execution_count": 63,
      "metadata": {},
      "outputs": [],
      "source": [
        "model = build_model(arch_args, task)\n",
        "criterion = LabelSmoothedCrossEntropyCriterion(\n",
        "    smoothing=0.1,\n",
        "    ignore_index=task.target_dictionary.pad(),\n",
        ")\n",
        "optimizer = NoamOpt(\n",
        "    model_size=arch_args.encoder_embed_dim, \n",
        "    factor=config.lr_factor, \n",
        "    warmup=config.lr_warmup, \n",
        "    optimizer=torch.optim.AdamW(model.parameters(), lr=0, betas=(0.9, 0.98), eps=1e-9, weight_decay=0.0001)\n",
        ")\n",
        "sequence_generator = task.build_generator([model], config)"
      ]
    },
    {
      "cell_type": "code",
      "execution_count": 64,
      "metadata": {},
      "outputs": [],
      "source": [
        "model = model.to(device=device)\n",
        "criterion = criterion.to(device=device)"
      ]
    },
    {
      "cell_type": "code",
      "execution_count": 65,
      "metadata": {},
      "outputs": [
        {
          "name": "stdout",
          "output_type": "stream",
          "text": [
            "2022-04-07 08:56:20 | INFO | hw5.seq2seq | task: TranslationTask\n",
            "2022-04-07 08:56:20 | INFO | hw5.seq2seq | encoder: TransformerEncoder\n",
            "2022-04-07 08:56:20 | INFO | hw5.seq2seq | decoder: TransformerDecoder\n",
            "2022-04-07 08:56:20 | INFO | hw5.seq2seq | criterion: LabelSmoothedCrossEntropyCriterion\n",
            "2022-04-07 08:56:20 | INFO | hw5.seq2seq | optimizer: NoamOpt\n",
            "2022-04-07 08:56:20 | INFO | hw5.seq2seq | num. model params: 167,550,976 (num. trained: 167,550,976)\n",
            "2022-04-07 08:56:20 | INFO | hw5.seq2seq | max tokens per batch = 3072, accumulate steps = 4\n"
          ]
        }
      ],
      "source": [
        "logger.info(\"task: {}\".format(task.__class__.__name__))\n",
        "logger.info(\"encoder: {}\".format(model.encoder.__class__.__name__))\n",
        "logger.info(\"decoder: {}\".format(model.decoder.__class__.__name__))\n",
        "logger.info(\"criterion: {}\".format(criterion.__class__.__name__))\n",
        "logger.info(\"optimizer: {}\".format(optimizer.__class__.__name__))\n",
        "logger.info(\n",
        "    \"num. model params: {:,} (num. trained: {:,})\".format(\n",
        "        sum(p.numel() for p in model.parameters()),\n",
        "        sum(p.numel() for p in model.parameters() if p.requires_grad),\n",
        "    )\n",
        ")\n",
        "logger.info(f\"max tokens per batch = {config.max_tokens}, accumulate steps = {config.accum_steps}\")"
      ]
    },
    {
      "cell_type": "code",
      "execution_count": 66,
      "metadata": {},
      "outputs": [
        {
          "name": "stdout",
          "output_type": "stream",
          "text": [
            "2022-04-07 08:56:20 | WARNING | fairseq.tasks.fairseq_task | 1 samples have invalid sizes and will be skipped, max_positions=(1024, 1024), first few sample ids=[326738]\n",
            "2022-04-07 08:56:20 | INFO | hw5.seq2seq | no checkpoints found at checkpoints/transformer/checkpoint_last.pt!\n"
          ]
        },
        {
          "data": {
            "application/vnd.jupyter.widget-view+json": {
              "model_id": "a7683ea6ecd446aab8231133cc055975",
              "version_major": 2,
              "version_minor": 0
            },
            "text/plain": [
              "train epoch 1:   0%|          | 0/2178 [00:00<?, ?it/s]"
            ]
          },
          "metadata": {},
          "output_type": "display_data"
        },
        {
          "name": "stdout",
          "output_type": "stream",
          "text": [
            "2022-04-07 09:57:13 | INFO | hw5.seq2seq | training loss: 5.6832\n",
            "2022-04-07 09:57:13 | INFO | hw5.seq2seq | begin validation\n"
          ]
        },
        {
          "data": {
            "application/vnd.jupyter.widget-view+json": {
              "model_id": "4c539a5a59df4ee884edde68992015df",
              "version_major": 2,
              "version_minor": 0
            },
            "text/plain": [
              "validation:   0%|          | 0/53 [00:00<?, ?it/s]"
            ]
          },
          "metadata": {},
          "output_type": "display_data"
        },
        {
          "name": "stdout",
          "output_type": "stream",
          "text": [
            "2022-04-07 09:58:28 | INFO | hw5.seq2seq | example source: my name is joseph , a member of parliament in kenya .\n",
            "2022-04-07 09:58:28 | INFO | hw5.seq2seq | example hypothesis: 我的名字是 , 阿拉伯的阿拉伯人 。\n",
            "2022-04-07 09:58:28 | INFO | hw5.seq2seq | example reference: 我的名字是喬瑟夫 , 我是肯亞的國會議員 。\n",
            "2022-04-07 09:58:28 | INFO | hw5.seq2seq | validation loss:\t4.3661\n",
            "2022-04-07 09:58:28 | INFO | hw5.seq2seq | BLEU = 9.08 31.6/12.8/5.9/2.9 (BP = 1.000 ratio = 1.059 hyp_len = 118214 ref_len = 111605)\n",
            "2022-04-07 09:58:29 | INFO | hw5.seq2seq | saved epoch checkpoint: /home/weiweichi/weichi/HW5/checkpoints/transformer/checkpoint1.pt\n",
            "2022-04-07 09:58:29 | INFO | hw5.seq2seq | end of epoch 1\n"
          ]
        },
        {
          "data": {
            "application/vnd.jupyter.widget-view+json": {
              "model_id": "dca74dc8134547a6b97818203b4f5745",
              "version_major": 2,
              "version_minor": 0
            },
            "text/plain": [
              "train epoch 2:   0%|          | 0/2178 [00:00<?, ?it/s]"
            ]
          },
          "metadata": {},
          "output_type": "display_data"
        },
        {
          "name": "stdout",
          "output_type": "stream",
          "text": [
            "2022-04-07 10:59:18 | INFO | hw5.seq2seq | training loss: 4.6815\n",
            "2022-04-07 10:59:18 | INFO | hw5.seq2seq | begin validation\n"
          ]
        },
        {
          "data": {
            "application/vnd.jupyter.widget-view+json": {
              "model_id": "5166f05c8fd2434d9915816e5b7151ca",
              "version_major": 2,
              "version_minor": 0
            },
            "text/plain": [
              "validation:   0%|          | 0/53 [00:00<?, ?it/s]"
            ]
          },
          "metadata": {},
          "output_type": "display_data"
        },
        {
          "name": "stdout",
          "output_type": "stream",
          "text": [
            "2022-04-07 11:00:10 | INFO | hw5.seq2seq | example source: in all this world of instant gratification and 24/7 , ondemand results , scientists require persistence , vision and patience to rise above all that .\n",
            "2022-04-07 11:00:10 | INFO | hw5.seq2seq | example hypothesis: 在這24個國家 , 科學家需要維持永續發展的願景 , 來解決這些問題的願景 。\n",
            "2022-04-07 11:00:10 | INFO | hw5.seq2seq | example reference: 這個世界熱愛即時滿足 , 崇拜急功近利 , 但科學家需要毅力、視野和耐心 , 來讓這些成為現實 。\n",
            "2022-04-07 11:00:10 | INFO | hw5.seq2seq | validation loss:\t3.9413\n",
            "2022-04-07 11:00:10 | INFO | hw5.seq2seq | BLEU = 12.57 49.4/23.2/11.9/6.5 (BP = 0.728 ratio = 0.759 hyp_len = 84687 ref_len = 111605)\n",
            "2022-04-07 11:00:17 | INFO | hw5.seq2seq | saved epoch checkpoint: /home/weiweichi/weichi/HW5/checkpoints/transformer/checkpoint2.pt\n",
            "2022-04-07 11:00:17 | INFO | hw5.seq2seq | end of epoch 2\n"
          ]
        },
        {
          "data": {
            "application/vnd.jupyter.widget-view+json": {
              "model_id": "09cad5ef0c774c289825f2eb44785564",
              "version_major": 2,
              "version_minor": 0
            },
            "text/plain": [
              "train epoch 3:   0%|          | 0/2178 [00:00<?, ?it/s]"
            ]
          },
          "metadata": {},
          "output_type": "display_data"
        },
        {
          "name": "stdout",
          "output_type": "stream",
          "text": [
            "2022-04-07 12:01:03 | INFO | hw5.seq2seq | training loss: 4.3963\n",
            "2022-04-07 12:01:03 | INFO | hw5.seq2seq | begin validation\n"
          ]
        },
        {
          "data": {
            "application/vnd.jupyter.widget-view+json": {
              "model_id": "91600baefba34107af67020bd498458c",
              "version_major": 2,
              "version_minor": 0
            },
            "text/plain": [
              "validation:   0%|          | 0/53 [00:00<?, ?it/s]"
            ]
          },
          "metadata": {},
          "output_type": "display_data"
        },
        {
          "name": "stdout",
          "output_type": "stream",
          "text": [
            "2022-04-07 12:02:00 | INFO | hw5.seq2seq | example source: let's look at a specific video so you can see how it works .\n",
            "2022-04-07 12:02:00 | INFO | hw5.seq2seq | example hypothesis: 我們來看一個特定的影片 , 來看看它是怎麼運作的 。\n",
            "2022-04-07 12:02:00 | INFO | hw5.seq2seq | example reference: 讓我們以一個影片為例 , 來了解這是如何運作的 。\n",
            "2022-04-07 12:02:00 | INFO | hw5.seq2seq | validation loss:\t3.5914\n",
            "2022-04-07 12:02:00 | INFO | hw5.seq2seq | BLEU = 17.11 51.5/26.0/14.2/8.2 (BP = 0.861 ratio = 0.870 hyp_len = 97073 ref_len = 111605)\n",
            "2022-04-07 12:02:07 | INFO | hw5.seq2seq | saved epoch checkpoint: /home/weiweichi/weichi/HW5/checkpoints/transformer/checkpoint3.pt\n",
            "2022-04-07 12:02:07 | INFO | hw5.seq2seq | end of epoch 3\n"
          ]
        },
        {
          "data": {
            "application/vnd.jupyter.widget-view+json": {
              "model_id": "f7d3f9e0bfb04b23b3b73b0b570ade0d",
              "version_major": 2,
              "version_minor": 0
            },
            "text/plain": [
              "train epoch 4:   0%|          | 0/2178 [00:00<?, ?it/s]"
            ]
          },
          "metadata": {},
          "output_type": "display_data"
        },
        {
          "name": "stdout",
          "output_type": "stream",
          "text": [
            "2022-04-07 13:02:51 | INFO | hw5.seq2seq | training loss: 4.1924\n",
            "2022-04-07 13:02:51 | INFO | hw5.seq2seq | begin validation\n"
          ]
        },
        {
          "data": {
            "application/vnd.jupyter.widget-view+json": {
              "model_id": "765eea1ba47f4efb90af992221b6349f",
              "version_major": 2,
              "version_minor": 0
            },
            "text/plain": [
              "validation:   0%|          | 0/53 [00:00<?, ?it/s]"
            ]
          },
          "metadata": {},
          "output_type": "display_data"
        },
        {
          "name": "stdout",
          "output_type": "stream",
          "text": [
            "2022-04-07 13:03:48 | INFO | hw5.seq2seq | example source: i said , \" well , do it . \"\n",
            "2022-04-07 13:03:48 | INFO | hw5.seq2seq | example hypothesis: 我說: 「 嗯 , 做得好 。 」\n",
            "2022-04-07 13:03:48 | INFO | hw5.seq2seq | example reference: 我說: \" 解題阿 \"\n",
            "2022-04-07 13:03:48 | INFO | hw5.seq2seq | validation loss:\t3.3993\n",
            "2022-04-07 13:03:48 | INFO | hw5.seq2seq | BLEU = 19.88 52.2/27.3/15.4/9.2 (BP = 0.939 ratio = 0.940 hyp_len = 104951 ref_len = 111605)\n",
            "2022-04-07 13:03:55 | INFO | hw5.seq2seq | saved epoch checkpoint: /home/weiweichi/weichi/HW5/checkpoints/transformer/checkpoint4.pt\n",
            "2022-04-07 13:03:55 | INFO | hw5.seq2seq | end of epoch 4\n"
          ]
        },
        {
          "data": {
            "application/vnd.jupyter.widget-view+json": {
              "model_id": "09fd1fad988c4512b5bf8947c3db8b7e",
              "version_major": 2,
              "version_minor": 0
            },
            "text/plain": [
              "train epoch 5:   0%|          | 0/2178 [00:00<?, ?it/s]"
            ]
          },
          "metadata": {},
          "output_type": "display_data"
        },
        {
          "name": "stdout",
          "output_type": "stream",
          "text": [
            "2022-04-07 14:04:41 | INFO | hw5.seq2seq | training loss: 4.0631\n",
            "2022-04-07 14:04:41 | INFO | hw5.seq2seq | begin validation\n"
          ]
        },
        {
          "data": {
            "application/vnd.jupyter.widget-view+json": {
              "model_id": "c3e63e5ba25c48628399f0c8ee7e3057",
              "version_major": 2,
              "version_minor": 0
            },
            "text/plain": [
              "validation:   0%|          | 0/53 [00:00<?, ?it/s]"
            ]
          },
          "metadata": {},
          "output_type": "display_data"
        },
        {
          "name": "stdout",
          "output_type": "stream",
          "text": [
            "2022-04-07 14:05:41 | INFO | hw5.seq2seq | example source: when i asked people why they were digging their houses from the ground , they simply replied that they are poor wheat and apple farmers who didn't have the money to buy materials , and this digging out was their most logical form of living .\n",
            "2022-04-07 14:05:41 | INFO | hw5.seq2seq | example hypothesis: 當我問人們為什麼他們會在地上挖房子 , 他們只是回覆說他們是貧窮的 , 蘋果的農夫沒有錢買房子 , 而這就是他們生活中最合理的形式 。\n",
            "2022-04-07 14:05:41 | INFO | hw5.seq2seq | example reference: 我問這些居民為什麼要向下挖房子 , 他們只說了因為他們是種麥和蘋果的窮農夫 , 沒有錢買材料 , 這樣挖洞是最符合常理的生活方式 。\n",
            "2022-04-07 14:05:41 | INFO | hw5.seq2seq | validation loss:\t3.2903\n",
            "2022-04-07 14:05:41 | INFO | hw5.seq2seq | BLEU = 21.33 53.1/28.5/16.4/10.0 (BP = 0.955 ratio = 0.956 hyp_len = 106740 ref_len = 111605)\n",
            "2022-04-07 14:05:48 | INFO | hw5.seq2seq | saved epoch checkpoint: /home/weiweichi/weichi/HW5/checkpoints/transformer/checkpoint5.pt\n",
            "2022-04-07 14:05:49 | INFO | hw5.seq2seq | end of epoch 5\n"
          ]
        },
        {
          "data": {
            "application/vnd.jupyter.widget-view+json": {
              "model_id": "adac3b1f0da34d9fac6029d03329b0b5",
              "version_major": 2,
              "version_minor": 0
            },
            "text/plain": [
              "train epoch 6:   0%|          | 0/2178 [00:00<?, ?it/s]"
            ]
          },
          "metadata": {},
          "output_type": "display_data"
        },
        {
          "name": "stdout",
          "output_type": "stream",
          "text": [
            "2022-04-07 15:06:35 | INFO | hw5.seq2seq | training loss: 3.9684\n",
            "2022-04-07 15:06:35 | INFO | hw5.seq2seq | begin validation\n"
          ]
        },
        {
          "data": {
            "application/vnd.jupyter.widget-view+json": {
              "model_id": "386d98f5292e4ccaa04caac2b56416b2",
              "version_major": 2,
              "version_minor": 0
            },
            "text/plain": [
              "validation:   0%|          | 0/53 [00:00<?, ?it/s]"
            ]
          },
          "metadata": {},
          "output_type": "display_data"
        },
        {
          "name": "stdout",
          "output_type": "stream",
          "text": [
            "2022-04-07 15:07:31 | INFO | hw5.seq2seq | example source: this is market share of apache web server one of the critical applications in webbased communications .\n",
            "2022-04-07 15:07:31 | INFO | hw5.seq2seq | example hypothesis: 這是一個廣告廣告的市場 , 廣告是網站上最重要的應用之一 。\n",
            "2022-04-07 15:07:31 | INFO | hw5.seq2seq | example reference: 這是網路伺服器軟體apache的市佔率網路伺服器是網絡交流最重要的應用之一\n",
            "2022-04-07 15:07:31 | INFO | hw5.seq2seq | validation loss:\t3.2142\n",
            "2022-04-07 15:07:31 | INFO | hw5.seq2seq | BLEU = 21.78 55.3/30.1/17.6/10.8 (BP = 0.918 ratio = 0.921 hyp_len = 102815 ref_len = 111605)\n",
            "2022-04-07 15:07:38 | INFO | hw5.seq2seq | saved epoch checkpoint: /home/weiweichi/weichi/HW5/checkpoints/transformer/checkpoint6.pt\n",
            "2022-04-07 15:07:45 | INFO | hw5.seq2seq | end of epoch 6\n"
          ]
        },
        {
          "data": {
            "application/vnd.jupyter.widget-view+json": {
              "model_id": "8c96168edde64c9999296c84b6d8f134",
              "version_major": 2,
              "version_minor": 0
            },
            "text/plain": [
              "train epoch 7:   0%|          | 0/2178 [00:00<?, ?it/s]"
            ]
          },
          "metadata": {},
          "output_type": "display_data"
        },
        {
          "name": "stdout",
          "output_type": "stream",
          "text": [
            "2022-04-07 16:08:37 | INFO | hw5.seq2seq | training loss: 3.8951\n",
            "2022-04-07 16:08:37 | INFO | hw5.seq2seq | begin validation\n"
          ]
        },
        {
          "data": {
            "application/vnd.jupyter.widget-view+json": {
              "model_id": "d896dc0964a2409e99600c37842ab9af",
              "version_major": 2,
              "version_minor": 0
            },
            "text/plain": [
              "validation:   0%|          | 0/53 [00:00<?, ?it/s]"
            ]
          },
          "metadata": {},
          "output_type": "display_data"
        },
        {
          "name": "stdout",
          "output_type": "stream",
          "text": [
            "2022-04-07 16:09:38 | INFO | hw5.seq2seq | example source: you think of them as flawed or defective .\n",
            "2022-04-07 16:09:38 | INFO | hw5.seq2seq | example hypothesis: 你把它們想成是平的、有缺陷的、有缺陷的 。\n",
            "2022-04-07 16:09:38 | INFO | hw5.seq2seq | example reference: 你認為他們有瑕疵或缺陷 。\n",
            "2022-04-07 16:09:38 | INFO | hw5.seq2seq | validation loss:\t3.1547\n",
            "2022-04-07 16:09:38 | INFO | hw5.seq2seq | BLEU = 23.06 53.6/29.4/17.1/10.6 (BP = 0.998 ratio = 0.998 hyp_len = 111333 ref_len = 111605)\n",
            "2022-04-07 16:09:45 | INFO | hw5.seq2seq | saved epoch checkpoint: /home/weiweichi/weichi/HW5/checkpoints/transformer/checkpoint7.pt\n",
            "2022-04-07 16:09:52 | INFO | hw5.seq2seq | end of epoch 7\n"
          ]
        },
        {
          "data": {
            "application/vnd.jupyter.widget-view+json": {
              "model_id": "2c8d05d6615b47a49217ef91b23070d6",
              "version_major": 2,
              "version_minor": 0
            },
            "text/plain": [
              "train epoch 8:   0%|          | 0/2178 [00:00<?, ?it/s]"
            ]
          },
          "metadata": {},
          "output_type": "display_data"
        },
        {
          "name": "stdout",
          "output_type": "stream",
          "text": [
            "2022-04-07 17:10:41 | INFO | hw5.seq2seq | training loss: 3.8358\n",
            "2022-04-07 17:10:41 | INFO | hw5.seq2seq | begin validation\n"
          ]
        },
        {
          "data": {
            "application/vnd.jupyter.widget-view+json": {
              "model_id": "2ce2cb6279f44663be4dd6bbe3ac8104",
              "version_major": 2,
              "version_minor": 0
            },
            "text/plain": [
              "validation:   0%|          | 0/53 [00:00<?, ?it/s]"
            ]
          },
          "metadata": {},
          "output_type": "display_data"
        },
        {
          "name": "stdout",
          "output_type": "stream",
          "text": [
            "2022-04-07 17:11:40 | INFO | hw5.seq2seq | example source: outside of nollywood , the image of africa remains frozen in the old \" national geographic \" mode and safari perspective .\n",
            "2022-04-07 17:11:40 | INFO | hw5.seq2seq | example hypothesis: 在奈萊塢之外 , 非洲的影像在古老的 「 國家地理雜誌 」 及 「 撒利姆觀點 」 之外 。\n",
            "2022-04-07 17:11:40 | INFO | hw5.seq2seq | example reference: 在奈萊塢之外 , 非洲的形象仍然停留在老式的 「 國家地理頻道 」 模式以及狩獵角度 。\n",
            "2022-04-07 17:11:40 | INFO | hw5.seq2seq | validation loss:\t3.1096\n",
            "2022-04-07 17:11:40 | INFO | hw5.seq2seq | BLEU = 23.39 55.4/30.8/18.3/11.5 (BP = 0.955 ratio = 0.956 hyp_len = 106674 ref_len = 111605)\n",
            "2022-04-07 17:11:46 | INFO | hw5.seq2seq | saved epoch checkpoint: /home/weiweichi/weichi/HW5/checkpoints/transformer/checkpoint8.pt\n",
            "2022-04-07 17:11:53 | INFO | hw5.seq2seq | end of epoch 8\n"
          ]
        },
        {
          "data": {
            "application/vnd.jupyter.widget-view+json": {
              "model_id": "047ae7c132944b81b26a870befdf37ee",
              "version_major": 2,
              "version_minor": 0
            },
            "text/plain": [
              "train epoch 9:   0%|          | 0/2178 [00:00<?, ?it/s]"
            ]
          },
          "metadata": {},
          "output_type": "display_data"
        },
        {
          "name": "stdout",
          "output_type": "stream",
          "text": [
            "2022-04-07 18:12:41 | INFO | hw5.seq2seq | training loss: 3.7861\n",
            "2022-04-07 18:12:41 | INFO | hw5.seq2seq | begin validation\n"
          ]
        },
        {
          "data": {
            "application/vnd.jupyter.widget-view+json": {
              "model_id": "acaacfcd4f5643ceb4b49ec8aa1d7c8f",
              "version_major": 2,
              "version_minor": 0
            },
            "text/plain": [
              "validation:   0%|          | 0/53 [00:00<?, ?it/s]"
            ]
          },
          "metadata": {},
          "output_type": "display_data"
        },
        {
          "name": "stdout",
          "output_type": "stream",
          "text": [
            "2022-04-07 18:13:41 | INFO | hw5.seq2seq | example source: samantha's voice is like a concentrated sample of red food dye which we can infuse into the recordings of her surrogate to get a pink voice just like this .\n",
            "2022-04-07 18:13:41 | INFO | hw5.seq2seq | example hypothesis: 薩曼莎的聲音就像是紅色食物的樣本 , 可以被用在她的外祖母的唱片中 , 來取得像這樣的粉紅聲音 。\n",
            "2022-04-07 18:13:41 | INFO | hw5.seq2seq | example reference: 珊曼莎的聲音就像是紅色食用色素的濃縮樣品我們可以將它注入到她代替者的錄音裡然後取得一個像這樣的粉色聲音\n",
            "2022-04-07 18:13:41 | INFO | hw5.seq2seq | validation loss:\t3.0761\n",
            "2022-04-07 18:13:41 | INFO | hw5.seq2seq | BLEU = 23.79 55.7/31.1/18.6/11.7 (BP = 0.960 ratio = 0.960 hyp_len = 107176 ref_len = 111605)\n",
            "2022-04-07 18:13:48 | INFO | hw5.seq2seq | saved epoch checkpoint: /home/weiweichi/weichi/HW5/checkpoints/transformer/checkpoint9.pt\n",
            "2022-04-07 18:13:54 | INFO | hw5.seq2seq | end of epoch 9\n"
          ]
        },
        {
          "data": {
            "application/vnd.jupyter.widget-view+json": {
              "model_id": "86d79fd77b39451096a3f6ee591466d2",
              "version_major": 2,
              "version_minor": 0
            },
            "text/plain": [
              "train epoch 10:   0%|          | 0/2178 [00:00<?, ?it/s]"
            ]
          },
          "metadata": {},
          "output_type": "display_data"
        },
        {
          "name": "stderr",
          "output_type": "stream",
          "text": [
            "Exception ignored in: <function _MultiProcessingDataLoaderIter.__del__ at 0x7f9b708831f0>\n",
            "Traceback (most recent call last):\n",
            "  File \"/home/weiweichi/.local/lib/python3.8/site-packages/torch/utils/data/dataloader.py\", line 1358, in __del__\n",
            "    self._shutdown_workers()\n",
            "  File \"/home/weiweichi/.local/lib/python3.8/site-packages/torch/utils/data/dataloader.py\", line 1341, in _shutdown_workers\n",
            "    if w.is_alive():\n",
            "  File \"/usr/lib/python3.8/multiprocessing/process.py\", line 160, in is_alive\n",
            "    assert self._parent_pid == os.getpid(), 'can only test a child process'\n",
            "AssertionError: can only test a child process\n",
            "Exception ignored in: <function _MultiProcessingDataLoaderIter.__del__ at 0x7f9b708831f0>\n",
            "Traceback (most recent call last):\n",
            "  File \"/home/weiweichi/.local/lib/python3.8/site-packages/torch/utils/data/dataloader.py\", line 1358, in __del__\n",
            "    self._shutdown_workers()\n",
            "  File \"/home/weiweichi/.local/lib/python3.8/site-packages/torch/utils/data/dataloader.py\", line 1341, in _shutdown_workers\n",
            "    if w.is_alive():\n",
            "  File \"/usr/lib/python3.8/multiprocessing/process.py\", line 160, in is_alive\n",
            "    assert self._parent_pid == os.getpid(), 'can only test a child process'\n",
            "AssertionError: can only test a child process\n"
          ]
        },
        {
          "name": "stdout",
          "output_type": "stream",
          "text": [
            "2022-04-07 19:14:46 | INFO | hw5.seq2seq | training loss: 3.7427\n",
            "2022-04-07 19:14:46 | INFO | hw5.seq2seq | begin validation\n"
          ]
        },
        {
          "data": {
            "application/vnd.jupyter.widget-view+json": {
              "model_id": "b398f37fe7cd4ad48d247930d90a005f",
              "version_major": 2,
              "version_minor": 0
            },
            "text/plain": [
              "validation:   0%|          | 0/53 [00:00<?, ?it/s]"
            ]
          },
          "metadata": {},
          "output_type": "display_data"
        },
        {
          "name": "stdout",
          "output_type": "stream",
          "text": [
            "2022-04-07 19:15:48 | INFO | hw5.seq2seq | example source: i was just happy it wasn't a c or a d .\n",
            "2022-04-07 19:15:48 | INFO | hw5.seq2seq | example hypothesis: 我很高興它不是c或d 。\n",
            "2022-04-07 19:15:48 | INFO | hw5.seq2seq | example reference: 我很高興得到的不是c-或d 。\n",
            "2022-04-07 19:15:48 | INFO | hw5.seq2seq | validation loss:\t3.0487\n",
            "2022-04-07 19:15:48 | INFO | hw5.seq2seq | BLEU = 24.68 55.3/31.1/18.7/11.9 (BP = 0.993 ratio = 0.993 hyp_len = 110778 ref_len = 111605)\n",
            "2022-04-07 19:15:52 | INFO | hw5.seq2seq | saved epoch checkpoint: /home/weiweichi/weichi/HW5/checkpoints/transformer/checkpoint10.pt\n",
            "2022-04-07 19:15:57 | INFO | hw5.seq2seq | end of epoch 10\n"
          ]
        },
        {
          "data": {
            "application/vnd.jupyter.widget-view+json": {
              "model_id": "fde82375c8854ce4bef8968b9c5b1885",
              "version_major": 2,
              "version_minor": 0
            },
            "text/plain": [
              "train epoch 11:   0%|          | 0/2178 [00:00<?, ?it/s]"
            ]
          },
          "metadata": {},
          "output_type": "display_data"
        },
        {
          "name": "stdout",
          "output_type": "stream",
          "text": [
            "2022-04-07 20:16:47 | INFO | hw5.seq2seq | training loss: 3.7032\n",
            "2022-04-07 20:16:47 | INFO | hw5.seq2seq | begin validation\n"
          ]
        },
        {
          "data": {
            "application/vnd.jupyter.widget-view+json": {
              "model_id": "1f062fd7bbf142d58fa942bbf2f1e251",
              "version_major": 2,
              "version_minor": 0
            },
            "text/plain": [
              "validation:   0%|          | 0/53 [00:00<?, ?it/s]"
            ]
          },
          "metadata": {},
          "output_type": "display_data"
        },
        {
          "name": "stdout",
          "output_type": "stream",
          "text": [
            "2022-04-07 20:17:47 | INFO | hw5.seq2seq | example source: if the matter is certain , to whom is it so ? to calvin ?\n",
            "2022-04-07 20:17:47 | INFO | hw5.seq2seq | example hypothesis: 如果事情是肯定的 , 對於誰是肯定的呢 ? 對於卡文呢 ?\n",
            "2022-04-07 20:17:47 | INFO | hw5.seq2seq | example reference: 如果事情是確定的 , 對於誰而言的 ? 對於凱文 ?\n",
            "2022-04-07 20:17:47 | INFO | hw5.seq2seq | validation loss:\t3.0286\n",
            "2022-04-07 20:17:47 | INFO | hw5.seq2seq | BLEU = 24.64 56.0/31.5/19.0/12.1 (BP = 0.977 ratio = 0.977 hyp_len = 109014 ref_len = 111605)\n",
            "2022-04-07 20:17:51 | INFO | hw5.seq2seq | saved epoch checkpoint: /home/weiweichi/weichi/HW5/checkpoints/transformer/checkpoint11.pt\n",
            "2022-04-07 20:17:52 | INFO | hw5.seq2seq | end of epoch 11\n"
          ]
        },
        {
          "data": {
            "application/vnd.jupyter.widget-view+json": {
              "model_id": "339c202cbaec4be7a7cc7be0dcd6de8c",
              "version_major": 2,
              "version_minor": 0
            },
            "text/plain": [
              "train epoch 12:   0%|          | 0/2178 [00:00<?, ?it/s]"
            ]
          },
          "metadata": {},
          "output_type": "display_data"
        },
        {
          "name": "stdout",
          "output_type": "stream",
          "text": [
            "2022-04-07 21:18:42 | INFO | hw5.seq2seq | training loss: 3.6695\n",
            "2022-04-07 21:18:42 | INFO | hw5.seq2seq | begin validation\n"
          ]
        },
        {
          "data": {
            "application/vnd.jupyter.widget-view+json": {
              "model_id": "b9f6c72455714637bb0c04a0158985ab",
              "version_major": 2,
              "version_minor": 0
            },
            "text/plain": [
              "validation:   0%|          | 0/53 [00:00<?, ?it/s]"
            ]
          },
          "metadata": {},
          "output_type": "display_data"
        },
        {
          "name": "stdout",
          "output_type": "stream",
          "text": [
            "2022-04-07 21:19:41 | INFO | hw5.seq2seq | example source: our credit scores have helped us deliver over 200 , 000 loans in kenya in just the past year .\n",
            "2022-04-07 21:19:41 | INFO | hw5.seq2seq | example hypothesis: 我們的信用評估顯示 , 過去一年 , 在肯亞 , 肯亞有超過二十萬個貸款 。\n",
            "2022-04-07 21:19:41 | INFO | hw5.seq2seq | example reference: 我們的信用積分 , 已幫我們在肯亞釋放出200 , 000份貸款──僅僅在去年 。\n",
            "2022-04-07 21:19:41 | INFO | hw5.seq2seq | validation loss:\t3.0064\n",
            "2022-04-07 21:19:41 | INFO | hw5.seq2seq | BLEU = 24.50 56.7/32.0/19.3/12.3 (BP = 0.956 ratio = 0.956 hyp_len = 106747 ref_len = 111605)\n",
            "2022-04-07 21:19:46 | INFO | hw5.seq2seq | saved epoch checkpoint: /home/weiweichi/weichi/HW5/checkpoints/transformer/checkpoint12.pt\n",
            "2022-04-07 21:19:46 | INFO | hw5.seq2seq | end of epoch 12\n"
          ]
        },
        {
          "data": {
            "application/vnd.jupyter.widget-view+json": {
              "model_id": "d49f1a0b33e64c1f8887f172a21a9767",
              "version_major": 2,
              "version_minor": 0
            },
            "text/plain": [
              "train epoch 13:   0%|          | 0/2178 [00:00<?, ?it/s]"
            ]
          },
          "metadata": {},
          "output_type": "display_data"
        },
        {
          "name": "stdout",
          "output_type": "stream",
          "text": [
            "2022-04-07 22:20:35 | INFO | hw5.seq2seq | training loss: 3.6398\n",
            "2022-04-07 22:20:35 | INFO | hw5.seq2seq | begin validation\n"
          ]
        },
        {
          "data": {
            "application/vnd.jupyter.widget-view+json": {
              "model_id": "6440fced858542d4a2408372478111e3",
              "version_major": 2,
              "version_minor": 0
            },
            "text/plain": [
              "validation:   0%|          | 0/53 [00:00<?, ?it/s]"
            ]
          },
          "metadata": {},
          "output_type": "display_data"
        },
        {
          "name": "stdout",
          "output_type": "stream",
          "text": [
            "2022-04-07 22:21:33 | INFO | hw5.seq2seq | example source: first , the chef said the number was greater than 500 but lied , meaning it’s actually less than 500 .\n",
            "2022-04-07 22:21:33 | INFO | hw5.seq2seq | example hypothesis: 首先 , 廚師說這個數字比500多人還大 , 但說實在的意思是 , 這數字比500多人還小 。\n",
            "2022-04-07 22:21:33 | INFO | hw5.seq2seq | example reference: 首先 , 名廚撒謊說數字大於500代表數字實際上小於500\n",
            "2022-04-07 22:21:33 | INFO | hw5.seq2seq | validation loss:\t2.9838\n",
            "2022-04-07 22:21:33 | INFO | hw5.seq2seq | BLEU = 24.89 56.8/32.3/19.6/12.5 (BP = 0.960 ratio = 0.961 hyp_len = 107268 ref_len = 111605)\n",
            "2022-04-07 22:21:37 | INFO | hw5.seq2seq | saved epoch checkpoint: /home/weiweichi/weichi/HW5/checkpoints/transformer/checkpoint13.pt\n",
            "2022-04-07 22:21:42 | INFO | hw5.seq2seq | end of epoch 13\n"
          ]
        },
        {
          "data": {
            "application/vnd.jupyter.widget-view+json": {
              "model_id": "a3a62d422524413e9309e5664096c399",
              "version_major": 2,
              "version_minor": 0
            },
            "text/plain": [
              "train epoch 14:   0%|          | 0/2178 [00:00<?, ?it/s]"
            ]
          },
          "metadata": {},
          "output_type": "display_data"
        },
        {
          "name": "stdout",
          "output_type": "stream",
          "text": [
            "2022-04-07 23:22:32 | INFO | hw5.seq2seq | training loss: 3.6091\n",
            "2022-04-07 23:22:32 | INFO | hw5.seq2seq | begin validation\n"
          ]
        },
        {
          "data": {
            "application/vnd.jupyter.widget-view+json": {
              "model_id": "2417f023a7b840c7bcc03c723e7e54a7",
              "version_major": 2,
              "version_minor": 0
            },
            "text/plain": [
              "validation:   0%|          | 0/53 [00:00<?, ?it/s]"
            ]
          },
          "metadata": {},
          "output_type": "display_data"
        },
        {
          "name": "stdout",
          "output_type": "stream",
          "text": [
            "2022-04-07 23:23:32 | INFO | hw5.seq2seq | example source: this has undermined the legacy and the impact of these programs , but it also makes them ripe for reclamation .\n",
            "2022-04-07 23:23:32 | INFO | hw5.seq2seq | example hypothesis: 這已經破壞了這些計畫的遺傳性和影響 , 但也讓它們變得有復原力 。\n",
            "2022-04-07 23:23:32 | INFO | hw5.seq2seq | example reference: 此舉逐漸破壞這些計畫的名聲及影響力 , 但也使重新再造的時機成熟 。\n",
            "2022-04-07 23:23:32 | INFO | hw5.seq2seq | validation loss:\t2.9694\n",
            "2022-04-07 23:23:32 | INFO | hw5.seq2seq | BLEU = 25.20 56.6/32.1/19.4/12.4 (BP = 0.980 ratio = 0.980 hyp_len = 109356 ref_len = 111605)\n",
            "2022-04-07 23:23:36 | INFO | hw5.seq2seq | saved epoch checkpoint: /home/weiweichi/weichi/HW5/checkpoints/transformer/checkpoint14.pt\n",
            "2022-04-07 23:23:41 | INFO | hw5.seq2seq | end of epoch 14\n"
          ]
        },
        {
          "data": {
            "application/vnd.jupyter.widget-view+json": {
              "model_id": "13dcd77eee08427a8b198de21550e3a2",
              "version_major": 2,
              "version_minor": 0
            },
            "text/plain": [
              "train epoch 15:   0%|          | 0/2178 [00:00<?, ?it/s]"
            ]
          },
          "metadata": {},
          "output_type": "display_data"
        },
        {
          "name": "stdout",
          "output_type": "stream",
          "text": [
            "2022-04-08 00:24:31 | INFO | hw5.seq2seq | training loss: 3.5848\n",
            "2022-04-08 00:24:31 | INFO | hw5.seq2seq | begin validation\n"
          ]
        },
        {
          "data": {
            "application/vnd.jupyter.widget-view+json": {
              "model_id": "9689855b27b9473489e4d25b5b2ea6d8",
              "version_major": 2,
              "version_minor": 0
            },
            "text/plain": [
              "validation:   0%|          | 0/53 [00:00<?, ?it/s]"
            ]
          },
          "metadata": {},
          "output_type": "display_data"
        },
        {
          "name": "stdout",
          "output_type": "stream",
          "text": [
            "2022-04-08 00:25:32 | INFO | hw5.seq2seq | example source: now it was not about riverside school .\n",
            "2022-04-08 00:25:32 | INFO | hw5.seq2seq | example hypothesis: 那不是關於河濱學校 。\n",
            "2022-04-08 00:25:32 | INFO | hw5.seq2seq | example reference: 這行動已經無關乎 「 河濱學校 」 本身\n",
            "2022-04-08 00:25:32 | INFO | hw5.seq2seq | validation loss:\t2.9517\n",
            "2022-04-08 00:25:32 | INFO | hw5.seq2seq | BLEU = 25.34 55.8/31.8/19.3/12.4 (BP = 0.993 ratio = 0.993 hyp_len = 110789 ref_len = 111605)\n",
            "2022-04-08 00:25:38 | INFO | hw5.seq2seq | saved epoch checkpoint: /home/weiweichi/weichi/HW5/checkpoints/transformer/checkpoint15.pt\n",
            "2022-04-08 00:25:45 | INFO | hw5.seq2seq | end of epoch 15\n"
          ]
        },
        {
          "data": {
            "application/vnd.jupyter.widget-view+json": {
              "model_id": "981e06eb076c46929a6af633bc368920",
              "version_major": 2,
              "version_minor": 0
            },
            "text/plain": [
              "train epoch 16:   0%|          | 0/2178 [00:00<?, ?it/s]"
            ]
          },
          "metadata": {},
          "output_type": "display_data"
        },
        {
          "name": "stdout",
          "output_type": "stream",
          "text": [
            "2022-04-08 01:26:32 | INFO | hw5.seq2seq | training loss: 3.5591\n",
            "2022-04-08 01:26:32 | INFO | hw5.seq2seq | begin validation\n"
          ]
        },
        {
          "data": {
            "application/vnd.jupyter.widget-view+json": {
              "model_id": "9cd4fa402371476d9b6b52998be74eaa",
              "version_major": 2,
              "version_minor": 0
            },
            "text/plain": [
              "validation:   0%|          | 0/53 [00:00<?, ?it/s]"
            ]
          },
          "metadata": {},
          "output_type": "display_data"
        },
        {
          "name": "stdout",
          "output_type": "stream",
          "text": [
            "2022-04-08 01:27:31 | INFO | hw5.seq2seq | example source: this liwc software generated the frequencies of promotion and prevention words in the transcribed text .\n",
            "2022-04-08 01:27:31 | INFO | hw5.seq2seq | example hypothesis: 這個軟體產生了提倡和預防用字的頻率和預防用字 。\n",
            "2022-04-08 01:27:31 | INFO | hw5.seq2seq | example reference: liwc軟體能夠算出在文字記錄當中 , 促進式和預防式的用字出現了多少次 。\n",
            "2022-04-08 01:27:31 | INFO | hw5.seq2seq | validation loss:\t2.9394\n",
            "2022-04-08 01:27:31 | INFO | hw5.seq2seq | BLEU = 25.65 56.9/32.6/19.9/12.8 (BP = 0.978 ratio = 0.979 hyp_len = 109229 ref_len = 111605)\n",
            "2022-04-08 01:27:37 | INFO | hw5.seq2seq | saved epoch checkpoint: /home/weiweichi/weichi/HW5/checkpoints/transformer/checkpoint16.pt\n",
            "2022-04-08 01:27:44 | INFO | hw5.seq2seq | end of epoch 16\n"
          ]
        },
        {
          "data": {
            "application/vnd.jupyter.widget-view+json": {
              "model_id": "bf2889081fdc41cda459de098f934135",
              "version_major": 2,
              "version_minor": 0
            },
            "text/plain": [
              "train epoch 17:   0%|          | 0/2178 [00:00<?, ?it/s]"
            ]
          },
          "metadata": {},
          "output_type": "display_data"
        },
        {
          "name": "stdout",
          "output_type": "stream",
          "text": [
            "2022-04-08 02:28:32 | INFO | hw5.seq2seq | training loss: 3.5372\n",
            "2022-04-08 02:28:32 | INFO | hw5.seq2seq | begin validation\n"
          ]
        },
        {
          "data": {
            "application/vnd.jupyter.widget-view+json": {
              "model_id": "3c6c2cd4fc364b219f36b67ebddea195",
              "version_major": 2,
              "version_minor": 0
            },
            "text/plain": [
              "validation:   0%|          | 0/53 [00:00<?, ?it/s]"
            ]
          },
          "metadata": {},
          "output_type": "display_data"
        },
        {
          "name": "stdout",
          "output_type": "stream",
          "text": [
            "2022-04-08 02:29:32 | INFO | hw5.seq2seq | example source: so i'm smiling with a little bit of embarrassment right now , because obviously , it's completely absurd that a single person , let alone a planner , could save a city .\n",
            "2022-04-08 02:29:32 | INFO | hw5.seq2seq | example hypothesis: 我現在在微笑 , 有點不好意思 , 因為很顯然 , 單獨一個人是完全荒謬的 , 更別說一個規劃者 , 可以拯救一個城市 。\n",
            "2022-04-08 02:29:32 | INFO | hw5.seq2seq | example reference: 我的笑裡帶著一絲尷尬 , 因為這很明顯 , 某一個人 , 一個規劃者 , 能去拯救一座城市是荒謬的 。\n",
            "2022-04-08 02:29:32 | INFO | hw5.seq2seq | validation loss:\t2.9283\n",
            "2022-04-08 02:29:32 | INFO | hw5.seq2seq | BLEU = 25.74 56.4/32.3/19.8/12.8 (BP = 0.989 ratio = 0.989 hyp_len = 110349 ref_len = 111605)\n",
            "2022-04-08 02:29:39 | INFO | hw5.seq2seq | saved epoch checkpoint: /home/weiweichi/weichi/HW5/checkpoints/transformer/checkpoint17.pt\n",
            "2022-04-08 02:29:45 | INFO | hw5.seq2seq | end of epoch 17\n"
          ]
        },
        {
          "data": {
            "application/vnd.jupyter.widget-view+json": {
              "model_id": "f84ba8082450431e92402a27d4c8b957",
              "version_major": 2,
              "version_minor": 0
            },
            "text/plain": [
              "train epoch 18:   0%|          | 0/2178 [00:00<?, ?it/s]"
            ]
          },
          "metadata": {},
          "output_type": "display_data"
        },
        {
          "name": "stdout",
          "output_type": "stream",
          "text": [
            "2022-04-08 03:30:34 | INFO | hw5.seq2seq | training loss: 3.5179\n",
            "2022-04-08 03:30:34 | INFO | hw5.seq2seq | begin validation\n"
          ]
        },
        {
          "data": {
            "application/vnd.jupyter.widget-view+json": {
              "model_id": "db6c5a0236b2491cb858e44fa0456885",
              "version_major": 2,
              "version_minor": 0
            },
            "text/plain": [
              "validation:   0%|          | 0/53 [00:00<?, ?it/s]"
            ]
          },
          "metadata": {},
          "output_type": "display_data"
        },
        {
          "name": "stdout",
          "output_type": "stream",
          "text": [
            "2022-04-08 03:31:34 | INFO | hw5.seq2seq | example source: typically , it's a doctor giving a job to a nurse .\n",
            "2022-04-08 03:31:34 | INFO | hw5.seq2seq | example hypothesis: 通常 , 醫生會給護士一份工作 。\n",
            "2022-04-08 03:31:34 | INFO | hw5.seq2seq | example reference: 正常來講 , 是由醫生囑咐護士\n",
            "2022-04-08 03:31:34 | INFO | hw5.seq2seq | validation loss:\t2.9174\n",
            "2022-04-08 03:31:34 | INFO | hw5.seq2seq | BLEU = 25.89 56.3/32.3/19.8/12.8 (BP = 0.994 ratio = 0.994 hyp_len = 110882 ref_len = 111605)\n",
            "2022-04-08 03:31:41 | INFO | hw5.seq2seq | saved epoch checkpoint: /home/weiweichi/weichi/HW5/checkpoints/transformer/checkpoint18.pt\n",
            "2022-04-08 03:31:48 | INFO | hw5.seq2seq | end of epoch 18\n"
          ]
        },
        {
          "data": {
            "application/vnd.jupyter.widget-view+json": {
              "model_id": "9e38f56bbf814963bf774a7d3f16b6ee",
              "version_major": 2,
              "version_minor": 0
            },
            "text/plain": [
              "train epoch 19:   0%|          | 0/2178 [00:00<?, ?it/s]"
            ]
          },
          "metadata": {},
          "output_type": "display_data"
        },
        {
          "name": "stdout",
          "output_type": "stream",
          "text": [
            "2022-04-08 04:32:36 | INFO | hw5.seq2seq | training loss: 3.4990\n",
            "2022-04-08 04:32:36 | INFO | hw5.seq2seq | begin validation\n"
          ]
        },
        {
          "data": {
            "application/vnd.jupyter.widget-view+json": {
              "model_id": "c688ea323aa6408ea38c90f03a7329b4",
              "version_major": 2,
              "version_minor": 0
            },
            "text/plain": [
              "validation:   0%|          | 0/53 [00:00<?, ?it/s]"
            ]
          },
          "metadata": {},
          "output_type": "display_data"
        },
        {
          "name": "stdout",
          "output_type": "stream",
          "text": [
            "2022-04-08 04:33:34 | INFO | hw5.seq2seq | example source: it is going crazy with the arab spring and revolution and all this .\n",
            "2022-04-08 04:33:34 | INFO | hw5.seq2seq | example hypothesis: 阿拉伯之春、革命等 , 都很瘋狂 。\n",
            "2022-04-08 04:33:34 | INFO | hw5.seq2seq | example reference: 中東正為阿拉伯之春狂熱著 , 為革命以及所有這一切狂熱著 。 今晚在這兒有黎巴嫩人嗎 ?\n",
            "2022-04-08 04:33:34 | INFO | hw5.seq2seq | validation loss:\t2.9085\n",
            "2022-04-08 04:33:34 | INFO | hw5.seq2seq | BLEU = 25.87 58.1/33.5/20.7/13.6 (BP = 0.952 ratio = 0.953 hyp_len = 106332 ref_len = 111605)\n",
            "2022-04-08 04:33:40 | INFO | hw5.seq2seq | saved epoch checkpoint: /home/weiweichi/weichi/HW5/checkpoints/transformer/checkpoint19.pt\n",
            "2022-04-08 04:33:40 | INFO | hw5.seq2seq | end of epoch 19\n"
          ]
        },
        {
          "data": {
            "application/vnd.jupyter.widget-view+json": {
              "model_id": "8ef16a373a194fd68a7df64b0b9840e3",
              "version_major": 2,
              "version_minor": 0
            },
            "text/plain": [
              "train epoch 20:   0%|          | 0/2178 [00:00<?, ?it/s]"
            ]
          },
          "metadata": {},
          "output_type": "display_data"
        },
        {
          "name": "stdout",
          "output_type": "stream",
          "text": [
            "2022-04-08 05:34:29 | INFO | hw5.seq2seq | training loss: 3.4806\n",
            "2022-04-08 05:34:29 | INFO | hw5.seq2seq | begin validation\n"
          ]
        },
        {
          "data": {
            "application/vnd.jupyter.widget-view+json": {
              "model_id": "633e5fc81b1c4a599e18e456c958c738",
              "version_major": 2,
              "version_minor": 0
            },
            "text/plain": [
              "validation:   0%|          | 0/53 [00:00<?, ?it/s]"
            ]
          },
          "metadata": {},
          "output_type": "display_data"
        },
        {
          "name": "stdout",
          "output_type": "stream",
          "text": [
            "2022-04-08 05:35:26 | INFO | hw5.seq2seq | example source: the selling of girls is rampant across the planet .\n",
            "2022-04-08 05:35:26 | INFO | hw5.seq2seq | example hypothesis: 女孩的賣淫率在全世界都很驚人 。\n",
            "2022-04-08 05:35:26 | INFO | hw5.seq2seq | example reference: 販賣女孩這種行為猖獗於整個世界\n",
            "2022-04-08 05:35:26 | INFO | hw5.seq2seq | validation loss:\t2.8991\n",
            "2022-04-08 05:35:26 | INFO | hw5.seq2seq | BLEU = 25.81 57.7/33.1/20.4/13.2 (BP = 0.965 ratio = 0.965 hyp_len = 107717 ref_len = 111605)\n",
            "2022-04-08 05:35:33 | INFO | hw5.seq2seq | saved epoch checkpoint: /home/weiweichi/weichi/HW5/checkpoints/transformer/checkpoint20.pt\n",
            "2022-04-08 05:35:33 | INFO | hw5.seq2seq | end of epoch 20\n"
          ]
        },
        {
          "data": {
            "application/vnd.jupyter.widget-view+json": {
              "model_id": "46eee0f3765b4962b45e3f016c99d34b",
              "version_major": 2,
              "version_minor": 0
            },
            "text/plain": [
              "train epoch 21:   0%|          | 0/2178 [00:00<?, ?it/s]"
            ]
          },
          "metadata": {},
          "output_type": "display_data"
        },
        {
          "name": "stdout",
          "output_type": "stream",
          "text": [
            "2022-04-08 06:36:21 | INFO | hw5.seq2seq | training loss: 3.4636\n",
            "2022-04-08 06:36:21 | INFO | hw5.seq2seq | begin validation\n"
          ]
        },
        {
          "data": {
            "application/vnd.jupyter.widget-view+json": {
              "model_id": "04e740999a5443eda408623f45769711",
              "version_major": 2,
              "version_minor": 0
            },
            "text/plain": [
              "validation:   0%|          | 0/53 [00:00<?, ?it/s]"
            ]
          },
          "metadata": {},
          "output_type": "display_data"
        },
        {
          "name": "stdout",
          "output_type": "stream",
          "text": [
            "2022-04-08 06:37:20 | INFO | hw5.seq2seq | example source: when the red army occupied east germany in 1945 , it immediately expanded there , and soon it started to train the german communists to build up their own secret police .\n",
            "2022-04-08 06:37:20 | INFO | hw5.seq2seq | example hypothesis: 當1945年德國佔領東德時 , 馬上擴大到那裡 , 很快地 , 德國共產黨開始訓練德國共產黨 , 建立他們自己的秘密警察 。\n",
            "2022-04-08 06:37:20 | INFO | hw5.seq2seq | example reference: 1945年 , 當蘇聯紅軍佔領東德時紅軍勢力立即擴展到那裡 , 很快地對德國共產黨展開訓練建立他們專屬的秘密警察 。\n",
            "2022-04-08 06:37:20 | INFO | hw5.seq2seq | validation loss:\t2.8942\n",
            "2022-04-08 06:37:20 | INFO | hw5.seq2seq | BLEU = 26.23 57.4/33.1/20.4/13.2 (BP = 0.980 ratio = 0.980 hyp_len = 109386 ref_len = 111605)\n",
            "2022-04-08 06:37:27 | INFO | hw5.seq2seq | saved epoch checkpoint: /home/weiweichi/weichi/HW5/checkpoints/transformer/checkpoint21.pt\n",
            "2022-04-08 06:37:33 | INFO | hw5.seq2seq | end of epoch 21\n"
          ]
        },
        {
          "data": {
            "application/vnd.jupyter.widget-view+json": {
              "model_id": "9398d43acbc54056a6ffa9916a2d0cd0",
              "version_major": 2,
              "version_minor": 0
            },
            "text/plain": [
              "train epoch 22:   0%|          | 0/2178 [00:00<?, ?it/s]"
            ]
          },
          "metadata": {},
          "output_type": "display_data"
        },
        {
          "name": "stdout",
          "output_type": "stream",
          "text": [
            "2022-04-08 07:38:22 | INFO | hw5.seq2seq | training loss: 3.4462\n",
            "2022-04-08 07:38:22 | INFO | hw5.seq2seq | begin validation\n"
          ]
        },
        {
          "data": {
            "application/vnd.jupyter.widget-view+json": {
              "model_id": "2293beaca29a4da689bd99d9f4478239",
              "version_major": 2,
              "version_minor": 0
            },
            "text/plain": [
              "validation:   0%|          | 0/53 [00:00<?, ?it/s]"
            ]
          },
          "metadata": {},
          "output_type": "display_data"
        },
        {
          "name": "stdout",
          "output_type": "stream",
          "text": [
            "2022-04-08 07:39:21 | INFO | hw5.seq2seq | example source: it became entertainment ; it became a new kind of commodity , something i was selling .\n",
            "2022-04-08 07:39:21 | INFO | hw5.seq2seq | example hypothesis: 它變成了娛樂 , 變成了一種新的商品 , 一種我銷售的產品 。\n",
            "2022-04-08 07:39:21 | INFO | hw5.seq2seq | example reference: 它變成了一個玩賞產物 , 一種新出品的貨物 , 一些我用來賣出去的東西 。\n",
            "2022-04-08 07:39:21 | INFO | hw5.seq2seq | validation loss:\t2.8876\n",
            "2022-04-08 07:39:21 | INFO | hw5.seq2seq | BLEU = 26.34 57.4/33.2/20.6/13.5 (BP = 0.976 ratio = 0.976 hyp_len = 108921 ref_len = 111605)\n",
            "2022-04-08 07:39:28 | INFO | hw5.seq2seq | saved epoch checkpoint: /home/weiweichi/weichi/HW5/checkpoints/transformer/checkpoint22.pt\n",
            "2022-04-08 07:39:35 | INFO | hw5.seq2seq | end of epoch 22\n"
          ]
        },
        {
          "data": {
            "application/vnd.jupyter.widget-view+json": {
              "model_id": "46fa4b215ac24ccdb159dc3d35da8fb7",
              "version_major": 2,
              "version_minor": 0
            },
            "text/plain": [
              "train epoch 23:   0%|          | 0/2178 [00:00<?, ?it/s]"
            ]
          },
          "metadata": {},
          "output_type": "display_data"
        },
        {
          "name": "stdout",
          "output_type": "stream",
          "text": [
            "2022-04-08 08:40:23 | INFO | hw5.seq2seq | training loss: 3.4302\n",
            "2022-04-08 08:40:23 | INFO | hw5.seq2seq | begin validation\n"
          ]
        },
        {
          "data": {
            "application/vnd.jupyter.widget-view+json": {
              "model_id": "02a8aab19fee483cbe85ea98ab64e004",
              "version_major": 2,
              "version_minor": 0
            },
            "text/plain": [
              "validation:   0%|          | 0/53 [00:00<?, ?it/s]"
            ]
          },
          "metadata": {},
          "output_type": "display_data"
        },
        {
          "name": "stdout",
          "output_type": "stream",
          "text": [
            "2022-04-08 08:41:24 | INFO | hw5.seq2seq | example source: and i think that's because they've been optimized to pass , as we always expect people to do , to optimize relative to brightline rules about how affected the car will be .\n",
            "2022-04-08 08:41:24 | INFO | hw5.seq2seq | example hypothesis: 我想這是因為他們一直以來都被最佳化過 , 正如我們總是期待人們可以做到的 , 最佳化到最佳化到最佳化到最佳化到最佳化到最佳化到最佳化到最佳狀態 。\n",
            "2022-04-08 08:41:24 | INFO | hw5.seq2seq | example reference: 我想這是因為他們都是針對車頭正面沖撞來設計的 。 就象大家經常會做的 , 上有政策 , 下有對策 , 在汽車安全這一問題上也是一樣 。\n",
            "2022-04-08 08:41:24 | INFO | hw5.seq2seq | validation loss:\t2.8799\n",
            "2022-04-08 08:41:24 | INFO | hw5.seq2seq | BLEU = 26.34 56.5/32.5/20.1/13.1 (BP = 1.000 ratio = 1.000 hyp_len = 111574 ref_len = 111605)\n",
            "2022-04-08 08:41:31 | INFO | hw5.seq2seq | saved epoch checkpoint: /home/weiweichi/weichi/HW5/checkpoints/transformer/checkpoint23.pt\n",
            "2022-04-08 08:41:37 | INFO | hw5.seq2seq | end of epoch 23\n"
          ]
        },
        {
          "data": {
            "application/vnd.jupyter.widget-view+json": {
              "model_id": "a5cbab4e0af64312860494202b13de1f",
              "version_major": 2,
              "version_minor": 0
            },
            "text/plain": [
              "train epoch 24:   0%|          | 0/2178 [00:00<?, ?it/s]"
            ]
          },
          "metadata": {},
          "output_type": "display_data"
        },
        {
          "name": "stdout",
          "output_type": "stream",
          "text": [
            "2022-04-08 09:42:29 | INFO | hw5.seq2seq | training loss: 3.4164\n",
            "2022-04-08 09:42:29 | INFO | hw5.seq2seq | begin validation\n"
          ]
        },
        {
          "data": {
            "application/vnd.jupyter.widget-view+json": {
              "model_id": "3c2a628f93ac43848fd910131566af8f",
              "version_major": 2,
              "version_minor": 0
            },
            "text/plain": [
              "validation:   0%|          | 0/53 [00:00<?, ?it/s]"
            ]
          },
          "metadata": {},
          "output_type": "display_data"
        },
        {
          "name": "stdout",
          "output_type": "stream",
          "text": [
            "2022-04-08 09:43:28 | INFO | hw5.seq2seq | example source: rodney mullen: that's a good question . kg: something tells me it's not the end .\n",
            "2022-04-08 09:43:28 | INFO | hw5.seq2seq | example hypothesis: rodneymullen:這是個好問題 。 kb:有些事情會讓我覺得不舒服 。\n",
            "2022-04-08 09:43:28 | INFO | hw5.seq2seq | example reference: rodneymullen:好問題 。 kh:直覺似乎未到終結 。\n",
            "2022-04-08 09:43:28 | INFO | hw5.seq2seq | validation loss:\t2.8719\n",
            "2022-04-08 09:43:28 | INFO | hw5.seq2seq | BLEU = 26.33 57.8/33.4/20.7/13.6 (BP = 0.971 ratio = 0.971 hyp_len = 108411 ref_len = 111605)\n",
            "2022-04-08 09:43:34 | INFO | hw5.seq2seq | saved epoch checkpoint: /home/weiweichi/weichi/HW5/checkpoints/transformer/checkpoint24.pt\n",
            "2022-04-08 09:43:34 | INFO | hw5.seq2seq | end of epoch 24\n"
          ]
        },
        {
          "data": {
            "application/vnd.jupyter.widget-view+json": {
              "model_id": "1b73d6b248bf45998af60bbbd2742786",
              "version_major": 2,
              "version_minor": 0
            },
            "text/plain": [
              "train epoch 25:   0%|          | 0/2178 [00:00<?, ?it/s]"
            ]
          },
          "metadata": {},
          "output_type": "display_data"
        },
        {
          "name": "stdout",
          "output_type": "stream",
          "text": [
            "2022-04-08 10:44:21 | INFO | hw5.seq2seq | training loss: 3.4037\n",
            "2022-04-08 10:44:21 | INFO | hw5.seq2seq | begin validation\n"
          ]
        },
        {
          "data": {
            "application/vnd.jupyter.widget-view+json": {
              "model_id": "20f8941eadf44c588f759c617f966406",
              "version_major": 2,
              "version_minor": 0
            },
            "text/plain": [
              "validation:   0%|          | 0/53 [00:00<?, ?it/s]"
            ]
          },
          "metadata": {},
          "output_type": "display_data"
        },
        {
          "name": "stdout",
          "output_type": "stream",
          "text": [
            "2022-04-08 10:45:21 | INFO | hw5.seq2seq | example source: i would have stopped to help . \"\n",
            "2022-04-08 10:45:21 | INFO | hw5.seq2seq | example hypothesis: 我會停下來幫忙 。 」\n",
            "2022-04-08 10:45:21 | INFO | hw5.seq2seq | example reference: 我會停下來救她 。 」\n",
            "2022-04-08 10:45:21 | INFO | hw5.seq2seq | validation loss:\t2.8679\n",
            "2022-04-08 10:45:21 | INFO | hw5.seq2seq | BLEU = 26.60 57.4/33.3/20.7/13.6 (BP = 0.983 ratio = 0.983 hyp_len = 109741 ref_len = 111605)\n",
            "2022-04-08 10:45:28 | INFO | hw5.seq2seq | saved epoch checkpoint: /home/weiweichi/weichi/HW5/checkpoints/transformer/checkpoint25.pt\n",
            "2022-04-08 10:45:34 | INFO | hw5.seq2seq | end of epoch 25\n"
          ]
        },
        {
          "data": {
            "application/vnd.jupyter.widget-view+json": {
              "model_id": "e168650779fe457ba2f6c6492353b11b",
              "version_major": 2,
              "version_minor": 0
            },
            "text/plain": [
              "train epoch 26:   0%|          | 0/2178 [00:00<?, ?it/s]"
            ]
          },
          "metadata": {},
          "output_type": "display_data"
        },
        {
          "name": "stdout",
          "output_type": "stream",
          "text": [
            "2022-04-08 11:46:22 | INFO | hw5.seq2seq | training loss: 3.3913\n",
            "2022-04-08 11:46:22 | INFO | hw5.seq2seq | begin validation\n"
          ]
        },
        {
          "data": {
            "application/vnd.jupyter.widget-view+json": {
              "model_id": "3d53a93b8d2f4173a911cf8d4e5019c8",
              "version_major": 2,
              "version_minor": 0
            },
            "text/plain": [
              "validation:   0%|          | 0/53 [00:00<?, ?it/s]"
            ]
          },
          "metadata": {},
          "output_type": "display_data"
        },
        {
          "name": "stdout",
          "output_type": "stream",
          "text": [
            "2022-04-08 11:47:22 | INFO | hw5.seq2seq | example source: vulnerability pushed , i pushed back .\n",
            "2022-04-08 11:47:22 | INFO | hw5.seq2seq | example hypothesis: 脆弱感促使我向後推 ,\n",
            "2022-04-08 11:47:22 | INFO | hw5.seq2seq | example reference: 脆弱揍我 , 我打回去\n",
            "2022-04-08 11:47:22 | INFO | hw5.seq2seq | validation loss:\t2.8620\n",
            "2022-04-08 11:47:22 | INFO | hw5.seq2seq | BLEU = 26.41 57.1/33.0/20.5/13.4 (BP = 0.985 ratio = 0.985 hyp_len = 109900 ref_len = 111605)\n",
            "2022-04-08 11:47:29 | INFO | hw5.seq2seq | saved epoch checkpoint: /home/weiweichi/weichi/HW5/checkpoints/transformer/checkpoint26.pt\n",
            "2022-04-08 11:47:29 | INFO | hw5.seq2seq | end of epoch 26\n"
          ]
        },
        {
          "data": {
            "application/vnd.jupyter.widget-view+json": {
              "model_id": "e8697dfe97bd4819a61153763b4e19cc",
              "version_major": 2,
              "version_minor": 0
            },
            "text/plain": [
              "train epoch 27:   0%|          | 0/2178 [00:00<?, ?it/s]"
            ]
          },
          "metadata": {},
          "output_type": "display_data"
        },
        {
          "name": "stdout",
          "output_type": "stream",
          "text": [
            "2022-04-08 12:48:17 | INFO | hw5.seq2seq | training loss: 3.3789\n",
            "2022-04-08 12:48:17 | INFO | hw5.seq2seq | begin validation\n"
          ]
        },
        {
          "data": {
            "application/vnd.jupyter.widget-view+json": {
              "model_id": "973eefc37cee42759bac592508f604e4",
              "version_major": 2,
              "version_minor": 0
            },
            "text/plain": [
              "validation:   0%|          | 0/53 [00:00<?, ?it/s]"
            ]
          },
          "metadata": {},
          "output_type": "display_data"
        },
        {
          "name": "stdout",
          "output_type": "stream",
          "text": [
            "2022-04-08 12:49:17 | INFO | hw5.seq2seq | example source: now i want you to imagine for a second an 18yearold boy who graduates from high school in kansas city , missouri .\n",
            "2022-04-08 12:49:17 | INFO | hw5.seq2seq | example hypothesis: 現在請各位想像一個十八歲的男孩他在密蘇里州堪薩斯城高中畢業\n",
            "2022-04-08 12:49:17 | INFO | hw5.seq2seq | example reference: 現在我要你們想像一個18歲的男孩 , 剛從密蘇里州堪薩斯城的高中畢業 。\n",
            "2022-04-08 12:49:17 | INFO | hw5.seq2seq | validation loss:\t2.8539\n",
            "2022-04-08 12:49:17 | INFO | hw5.seq2seq | BLEU = 26.34 56.4/32.6/20.2/13.3 (BP = 0.994 ratio = 0.994 hyp_len = 110967 ref_len = 111605)\n",
            "2022-04-08 12:49:24 | INFO | hw5.seq2seq | saved epoch checkpoint: /home/weiweichi/weichi/HW5/checkpoints/transformer/checkpoint27.pt\n",
            "2022-04-08 12:49:24 | INFO | hw5.seq2seq | end of epoch 27\n"
          ]
        },
        {
          "data": {
            "application/vnd.jupyter.widget-view+json": {
              "model_id": "47e3d43453aa4ca99b4d4fbeb77ba3c4",
              "version_major": 2,
              "version_minor": 0
            },
            "text/plain": [
              "train epoch 28:   0%|          | 0/2178 [00:00<?, ?it/s]"
            ]
          },
          "metadata": {},
          "output_type": "display_data"
        },
        {
          "name": "stdout",
          "output_type": "stream",
          "text": [
            "2022-04-08 13:50:10 | INFO | hw5.seq2seq | training loss: 3.3670\n",
            "2022-04-08 13:50:10 | INFO | hw5.seq2seq | begin validation\n"
          ]
        },
        {
          "data": {
            "application/vnd.jupyter.widget-view+json": {
              "model_id": "6d8388d10fa54313a62a1dc94f2252fb",
              "version_major": 2,
              "version_minor": 0
            },
            "text/plain": [
              "validation:   0%|          | 0/53 [00:00<?, ?it/s]"
            ]
          },
          "metadata": {},
          "output_type": "display_data"
        },
        {
          "name": "stdout",
          "output_type": "stream",
          "text": [
            "2022-04-08 13:51:11 | INFO | hw5.seq2seq | example source: some leave by crossing the sahara desert .\n",
            "2022-04-08 13:51:11 | INFO | hw5.seq2seq | example hypothesis: 有些人會離開 , 穿越撒哈拉沙漠 。\n",
            "2022-04-08 13:51:11 | INFO | hw5.seq2seq | example reference: 有些人是穿越撒哈拉沙漠離開 ,\n",
            "2022-04-08 13:51:11 | INFO | hw5.seq2seq | validation loss:\t2.8496\n",
            "2022-04-08 13:51:11 | INFO | hw5.seq2seq | BLEU = 26.75 57.0/33.0/20.7/13.7 (BP = 0.991 ratio = 0.991 hyp_len = 110571 ref_len = 111605)\n",
            "2022-04-08 13:51:17 | INFO | hw5.seq2seq | saved epoch checkpoint: /home/weiweichi/weichi/HW5/checkpoints/transformer/checkpoint28.pt\n",
            "2022-04-08 13:51:24 | INFO | hw5.seq2seq | end of epoch 28\n"
          ]
        },
        {
          "data": {
            "application/vnd.jupyter.widget-view+json": {
              "model_id": "1b795c0ae46c4344a2472791628427c8",
              "version_major": 2,
              "version_minor": 0
            },
            "text/plain": [
              "train epoch 29:   0%|          | 0/2178 [00:00<?, ?it/s]"
            ]
          },
          "metadata": {},
          "output_type": "display_data"
        },
        {
          "name": "stdout",
          "output_type": "stream",
          "text": [
            "2022-04-08 14:52:12 | INFO | hw5.seq2seq | training loss: 3.3569\n",
            "2022-04-08 14:52:12 | INFO | hw5.seq2seq | begin validation\n"
          ]
        },
        {
          "data": {
            "application/vnd.jupyter.widget-view+json": {
              "model_id": "2c17b6cf05934bac8ae662b1a8992652",
              "version_major": 2,
              "version_minor": 0
            },
            "text/plain": [
              "validation:   0%|          | 0/53 [00:00<?, ?it/s]"
            ]
          },
          "metadata": {},
          "output_type": "display_data"
        },
        {
          "name": "stdout",
          "output_type": "stream",
          "text": [
            "2022-04-08 14:53:13 | INFO | hw5.seq2seq | example source: and we call them active galactic nuclei .\n",
            "2022-04-08 14:53:13 | INFO | hw5.seq2seq | example hypothesis: 我們稱他們為 「 銀河系核心 」 。\n",
            "2022-04-08 14:53:13 | INFO | hw5.seq2seq | example reference: 我们叫它们活跃星系核子 。\n",
            "2022-04-08 14:53:13 | INFO | hw5.seq2seq | validation loss:\t2.8465\n",
            "2022-04-08 14:53:13 | INFO | hw5.seq2seq | BLEU = 26.84 56.7/32.9/20.6/13.5 (BP = 1.000 ratio = 1.001 hyp_len = 111764 ref_len = 111605)\n",
            "2022-04-08 14:53:20 | INFO | hw5.seq2seq | saved epoch checkpoint: /home/weiweichi/weichi/HW5/checkpoints/transformer/checkpoint29.pt\n",
            "2022-04-08 14:53:27 | INFO | hw5.seq2seq | end of epoch 29\n"
          ]
        },
        {
          "data": {
            "application/vnd.jupyter.widget-view+json": {
              "model_id": "28acc98f2248407fb73ad23901df22be",
              "version_major": 2,
              "version_minor": 0
            },
            "text/plain": [
              "train epoch 30:   0%|          | 0/2178 [00:00<?, ?it/s]"
            ]
          },
          "metadata": {},
          "output_type": "display_data"
        },
        {
          "name": "stdout",
          "output_type": "stream",
          "text": [
            "2022-04-08 15:54:16 | INFO | hw5.seq2seq | training loss: 3.3453\n",
            "2022-04-08 15:54:16 | INFO | hw5.seq2seq | begin validation\n"
          ]
        },
        {
          "data": {
            "application/vnd.jupyter.widget-view+json": {
              "model_id": "57d87155b73e4a70aa8e9d789fa2714b",
              "version_major": 2,
              "version_minor": 0
            },
            "text/plain": [
              "validation:   0%|          | 0/53 [00:00<?, ?it/s]"
            ]
          },
          "metadata": {},
          "output_type": "display_data"
        },
        {
          "name": "stdout",
          "output_type": "stream",
          "text": [
            "2022-04-08 15:55:15 | INFO | hw5.seq2seq | example source: i hack into your lives for a living .\n",
            "2022-04-08 15:55:15 | INFO | hw5.seq2seq | example hypothesis: 我入侵了你的生活 , 為了生存 。\n",
            "2022-04-08 15:55:15 | INFO | hw5.seq2seq | example reference: 我把你們的生活都研究透徹了\n",
            "2022-04-08 15:55:15 | INFO | hw5.seq2seq | validation loss:\t2.8434\n",
            "2022-04-08 15:55:15 | INFO | hw5.seq2seq | BLEU = 26.59 57.4/33.3/20.7/13.7 (BP = 0.981 ratio = 0.981 hyp_len = 109461 ref_len = 111605)\n",
            "2022-04-08 15:55:22 | INFO | hw5.seq2seq | saved epoch checkpoint: /home/weiweichi/weichi/HW5/checkpoints/transformer/checkpoint30.pt\n",
            "2022-04-08 15:55:22 | INFO | hw5.seq2seq | end of epoch 30\n"
          ]
        },
        {
          "data": {
            "application/vnd.jupyter.widget-view+json": {
              "model_id": "d082e32312f042c2a4ee98243622a3ee",
              "version_major": 2,
              "version_minor": 0
            },
            "text/plain": [
              "train epoch 31:   0%|          | 0/2178 [00:00<?, ?it/s]"
            ]
          },
          "metadata": {},
          "output_type": "display_data"
        },
        {
          "name": "stdout",
          "output_type": "stream",
          "text": [
            "2022-04-08 16:56:09 | INFO | hw5.seq2seq | training loss: 3.3362\n",
            "2022-04-08 16:56:09 | INFO | hw5.seq2seq | begin validation\n"
          ]
        },
        {
          "data": {
            "application/vnd.jupyter.widget-view+json": {
              "model_id": "769c7157a73c4de0b398eea80b96c97b",
              "version_major": 2,
              "version_minor": 0
            },
            "text/plain": [
              "validation:   0%|          | 0/53 [00:00<?, ?it/s]"
            ]
          },
          "metadata": {},
          "output_type": "display_data"
        },
        {
          "name": "stdout",
          "output_type": "stream",
          "text": [
            "2022-04-08 16:57:07 | INFO | hw5.seq2seq | example source: we were successful in namibia because we dreamed of a future that was much more than just a healthy wildlife .\n",
            "2022-04-08 16:57:07 | INFO | hw5.seq2seq | example hypothesis: 我們在納米比亞成功了 , 因為我們夢想的未來不只是一個健康的野生動物 。\n",
            "2022-04-08 16:57:07 | INFO | hw5.seq2seq | example reference: 我們在納米比亞的成功是因為我們夢想我們的未來它會比一個健康的野生環境還要更遠大\n",
            "2022-04-08 16:57:07 | INFO | hw5.seq2seq | validation loss:\t2.8373\n",
            "2022-04-08 16:57:07 | INFO | hw5.seq2seq | BLEU = 26.49 57.7/33.5/20.8/13.7 (BP = 0.972 ratio = 0.972 hyp_len = 108482 ref_len = 111605)\n",
            "2022-04-08 16:57:14 | INFO | hw5.seq2seq | saved epoch checkpoint: /home/weiweichi/weichi/HW5/checkpoints/transformer/checkpoint31.pt\n",
            "2022-04-08 16:57:14 | INFO | hw5.seq2seq | end of epoch 31\n"
          ]
        },
        {
          "data": {
            "application/vnd.jupyter.widget-view+json": {
              "model_id": "5148e95d44aa4fdc97179499c4bfad8a",
              "version_major": 2,
              "version_minor": 0
            },
            "text/plain": [
              "train epoch 32:   0%|          | 0/2178 [00:00<?, ?it/s]"
            ]
          },
          "metadata": {},
          "output_type": "display_data"
        },
        {
          "name": "stdout",
          "output_type": "stream",
          "text": [
            "2022-04-08 17:58:01 | INFO | hw5.seq2seq | training loss: 3.3242\n",
            "2022-04-08 17:58:01 | INFO | hw5.seq2seq | begin validation\n"
          ]
        },
        {
          "data": {
            "application/vnd.jupyter.widget-view+json": {
              "model_id": "cc5288b6a1d14a3faf7266bf79c45ac2",
              "version_major": 2,
              "version_minor": 0
            },
            "text/plain": [
              "validation:   0%|          | 0/53 [00:00<?, ?it/s]"
            ]
          },
          "metadata": {},
          "output_type": "display_data"
        },
        {
          "name": "stdout",
          "output_type": "stream",
          "text": [
            "2022-04-08 17:59:00 | INFO | hw5.seq2seq | example source: it's not so important what specific degree upstreamists have at the end of their name .\n",
            "2022-04-08 17:59:00 | INFO | hw5.seq2seq | example hypothesis: 並不是那麼重要 , 特定的上游管理人在名單的末端 。\n",
            "2022-04-08 17:59:00 | INFO | hw5.seq2seq | example reference: 上游管理人在名字後面掛什麼學位頭銜並不重要 。\n",
            "2022-04-08 17:59:00 | INFO | hw5.seq2seq | validation loss:\t2.8317\n",
            "2022-04-08 17:59:00 | INFO | hw5.seq2seq | BLEU = 26.58 57.7/33.6/21.0/13.9 (BP = 0.968 ratio = 0.969 hyp_len = 108137 ref_len = 111605)\n",
            "2022-04-08 17:59:07 | INFO | hw5.seq2seq | saved epoch checkpoint: /home/weiweichi/weichi/HW5/checkpoints/transformer/checkpoint32.pt\n",
            "2022-04-08 17:59:07 | INFO | hw5.seq2seq | end of epoch 32\n"
          ]
        },
        {
          "data": {
            "application/vnd.jupyter.widget-view+json": {
              "model_id": "14f438a4f84445edbc2ca51c4e58702f",
              "version_major": 2,
              "version_minor": 0
            },
            "text/plain": [
              "train epoch 33:   0%|          | 0/2178 [00:00<?, ?it/s]"
            ]
          },
          "metadata": {},
          "output_type": "display_data"
        },
        {
          "name": "stdout",
          "output_type": "stream",
          "text": [
            "2022-04-08 18:59:53 | INFO | hw5.seq2seq | training loss: 3.3146\n",
            "2022-04-08 18:59:53 | INFO | hw5.seq2seq | begin validation\n"
          ]
        },
        {
          "data": {
            "application/vnd.jupyter.widget-view+json": {
              "model_id": "442b55194dde45fe8592f612a8dc2cf7",
              "version_major": 2,
              "version_minor": 0
            },
            "text/plain": [
              "validation:   0%|          | 0/53 [00:00<?, ?it/s]"
            ]
          },
          "metadata": {},
          "output_type": "display_data"
        },
        {
          "name": "stdout",
          "output_type": "stream",
          "text": [
            "2022-04-08 19:00:53 | INFO | hw5.seq2seq | example source: i made a physical version of flappy bird that could never be taken off the app store .\n",
            "2022-04-08 19:00:53 | INFO | hw5.seq2seq | example hypothesis: 我做了一個實體版本的 「 笨鳥先飛 」 , 可能永遠不會被拿走 。\n",
            "2022-04-08 19:00:53 | INFO | hw5.seq2seq | example reference: 我製作了實體版的 「 笨鳥先飛 」 , 而它不會從應用程式商店下架 。\n",
            "2022-04-08 19:00:53 | INFO | hw5.seq2seq | validation loss:\t2.8301\n",
            "2022-04-08 19:00:53 | INFO | hw5.seq2seq | BLEU = 26.73 57.3/33.3/20.8/13.7 (BP = 0.984 ratio = 0.984 hyp_len = 109819 ref_len = 111605)\n",
            "2022-04-08 19:01:00 | INFO | hw5.seq2seq | saved epoch checkpoint: /home/weiweichi/weichi/HW5/checkpoints/transformer/checkpoint33.pt\n",
            "2022-04-08 19:01:00 | INFO | hw5.seq2seq | end of epoch 33\n"
          ]
        },
        {
          "data": {
            "application/vnd.jupyter.widget-view+json": {
              "model_id": "f6ea0e08e3174b88b0a4ab3d840093b0",
              "version_major": 2,
              "version_minor": 0
            },
            "text/plain": [
              "train epoch 34:   0%|          | 0/2178 [00:00<?, ?it/s]"
            ]
          },
          "metadata": {},
          "output_type": "display_data"
        },
        {
          "name": "stdout",
          "output_type": "stream",
          "text": [
            "2022-04-08 20:01:47 | INFO | hw5.seq2seq | training loss: 3.3059\n",
            "2022-04-08 20:01:47 | INFO | hw5.seq2seq | begin validation\n"
          ]
        },
        {
          "data": {
            "application/vnd.jupyter.widget-view+json": {
              "model_id": "8975554d11614414881f82de52f578cb",
              "version_major": 2,
              "version_minor": 0
            },
            "text/plain": [
              "validation:   0%|          | 0/53 [00:00<?, ?it/s]"
            ]
          },
          "metadata": {},
          "output_type": "display_data"
        },
        {
          "name": "stdout",
          "output_type": "stream",
          "text": [
            "2022-04-08 20:02:48 | INFO | hw5.seq2seq | example source: so therefore the new requirement is repairability , making cars easy to repair .\n",
            "2022-04-08 20:02:48 | INFO | hw5.seq2seq | example hypothesis: 因此 , 新的條件就是可維修性 , 讓汽車更容易維修 。\n",
            "2022-04-08 20:02:48 | INFO | hw5.seq2seq | example reference: 那麼這項新的條件就是可維修性 , 讓維修汽車變得容易 ,\n",
            "2022-04-08 20:02:48 | INFO | hw5.seq2seq | validation loss:\t2.8303\n",
            "2022-04-08 20:02:48 | INFO | hw5.seq2seq | BLEU = 26.69 56.9/33.0/20.6/13.6 (BP = 0.991 ratio = 0.991 hyp_len = 110572 ref_len = 111605)\n",
            "2022-04-08 20:02:55 | INFO | hw5.seq2seq | saved epoch checkpoint: /home/weiweichi/weichi/HW5/checkpoints/transformer/checkpoint34.pt\n",
            "2022-04-08 20:02:55 | INFO | hw5.seq2seq | end of epoch 34\n"
          ]
        },
        {
          "data": {
            "application/vnd.jupyter.widget-view+json": {
              "model_id": "5f6a22645ee241c5bf5a2c5273b3e2c2",
              "version_major": 2,
              "version_minor": 0
            },
            "text/plain": [
              "train epoch 35:   0%|          | 0/2178 [00:00<?, ?it/s]"
            ]
          },
          "metadata": {},
          "output_type": "display_data"
        },
        {
          "name": "stdout",
          "output_type": "stream",
          "text": [
            "2022-04-08 21:03:42 | INFO | hw5.seq2seq | training loss: 3.2969\n",
            "2022-04-08 21:03:42 | INFO | hw5.seq2seq | begin validation\n"
          ]
        },
        {
          "data": {
            "application/vnd.jupyter.widget-view+json": {
              "model_id": "9281722910da43c685a9931eb38f128e",
              "version_major": 2,
              "version_minor": 0
            },
            "text/plain": [
              "validation:   0%|          | 0/53 [00:00<?, ?it/s]"
            ]
          },
          "metadata": {},
          "output_type": "display_data"
        },
        {
          "name": "stdout",
          "output_type": "stream",
          "text": [
            "2022-04-08 21:04:41 | INFO | hw5.seq2seq | example source: there is tragically nothing that can be done to save those in the fireball’s radius .\n",
            "2022-04-08 21:04:41 | INFO | hw5.seq2seq | example hypothesis: 不幸的是 , 沒辦法拯救火球半徑的人 。\n",
            "2022-04-08 21:04:41 | INFO | hw5.seq2seq | example reference: 很遺憾的是 , 沒有任何辦法可以拯救火球半徑內的人 。\n",
            "2022-04-08 21:04:41 | INFO | hw5.seq2seq | validation loss:\t2.8321\n",
            "2022-04-08 21:04:41 | INFO | hw5.seq2seq | BLEU = 26.75 57.4/33.4/20.8/13.7 (BP = 0.982 ratio = 0.983 hyp_len = 109659 ref_len = 111605)\n",
            "2022-04-08 21:04:48 | INFO | hw5.seq2seq | saved epoch checkpoint: /home/weiweichi/weichi/HW5/checkpoints/transformer/checkpoint35.pt\n",
            "2022-04-08 21:04:48 | INFO | hw5.seq2seq | end of epoch 35\n"
          ]
        }
      ],
      "source": [
        "epoch_itr = load_data_iterator(task, \"train\", config.start_epoch, config.max_tokens, config.num_workers)\n",
        "try_load_checkpoint(model, optimizer, name=config.resume)\n",
        "while epoch_itr.next_epoch_idx <= config.max_epoch:\n",
        "    # train for one epoch\n",
        "    train_one_epoch(epoch_itr, model, task, criterion, optimizer, config.accum_steps)\n",
        "    stats = validate_and_save(model, task, criterion, optimizer, epoch=epoch_itr.epoch)\n",
        "    logger.info(\"end of epoch {}\".format(epoch_itr.epoch))    \n",
        "    epoch_itr = load_data_iterator(task, \"train\", epoch_itr.next_epoch_idx, config.max_tokens, config.num_workers)"
      ]
    },
    {
      "cell_type": "code",
      "execution_count": 67,
      "metadata": {},
      "outputs": [
        {
          "name": "stdout",
          "output_type": "stream",
          "text": [
            "Namespace(checkpoint_upper_bound=None, inputs=['./checkpoints/transformer'], num_epoch_checkpoints=5, num_update_checkpoints=None, output='./checkpoints/transformer/avg_last_5_checkpoint.pt')\n",
            "averaging checkpoints:  ['./checkpoints/transformer/checkpoint35.pt', './checkpoints/transformer/checkpoint34.pt', './checkpoints/transformer/checkpoint33.pt', './checkpoints/transformer/checkpoint32.pt', './checkpoints/transformer/checkpoint31.pt']\n",
            "Finished writing averaged checkpoint to ./checkpoints/transformer/avg_last_5_checkpoint.pt\n"
          ]
        }
      ],
      "source": [
        "# averaging a few checkpoints can have a similar effect to ensemble\n",
        "checkdir=config.savedir\n",
        "!python3 ./fairseq/scripts/average_checkpoints.py \\\n",
        "--inputs {checkdir} \\\n",
        "--num-epoch-checkpoints 5 \\\n",
        "--output {checkdir}/avg_last_5_checkpoint.pt"
      ]
    },
    {
      "cell_type": "code",
      "execution_count": 68,
      "metadata": {},
      "outputs": [
        {
          "name": "stdout",
          "output_type": "stream",
          "text": [
            "2022-04-08 21:04:53 | INFO | hw5.seq2seq | loaded checkpoint checkpoints/transformer/avg_last_5_checkpoint.pt: step=unknown loss=2.832104444503784 bleu=26.745837225170764\n",
            "2022-04-08 21:04:53 | INFO | hw5.seq2seq | begin validation\n"
          ]
        },
        {
          "data": {
            "application/vnd.jupyter.widget-view+json": {
              "model_id": "34dc1097116045058e23bd37ca831a06",
              "version_major": 2,
              "version_minor": 0
            },
            "text/plain": [
              "validation:   0%|          | 0/53 [00:00<?, ?it/s]"
            ]
          },
          "metadata": {},
          "output_type": "display_data"
        },
        {
          "name": "stdout",
          "output_type": "stream",
          "text": [
            "2022-04-08 21:05:52 | INFO | hw5.seq2seq | example source: now , they don't know how ridiculous that is , but i do .\n",
            "2022-04-08 21:05:52 | INFO | hw5.seq2seq | example hypothesis: 他們不知道這有多荒謬 , 但我知道 。\n",
            "2022-04-08 21:05:52 | INFO | hw5.seq2seq | example reference: 他們不知道那有多荒謬 , 而我知道 。\n",
            "2022-04-08 21:05:52 | INFO | hw5.seq2seq | validation loss:\t2.8098\n",
            "2022-04-08 21:05:52 | INFO | hw5.seq2seq | BLEU = 26.90 57.9/33.8/21.1/13.9 (BP = 0.978 ratio = 0.978 hyp_len = 109173 ref_len = 111605)\n"
          ]
        }
      ],
      "source": [
        "try_load_checkpoint(model, name=\"avg_last_5_checkpoint.pt\")\n",
        "validate(model, task, criterion, log_to_wandb=False)\n",
        "None"
      ]
    },
    {
      "cell_type": "code",
      "execution_count": 69,
      "metadata": {},
      "outputs": [
        {
          "name": "stdout",
          "output_type": "stream",
          "text": [
            "2022-04-08 21:05:52 | INFO | fairseq.data.data_utils | loaded 4,000 examples from: ./DATA/data-bin/ted2020_with_mono/test.en-zh.en\n",
            "2022-04-08 21:05:52 | INFO | fairseq.data.data_utils | loaded 4,000 examples from: ./DATA/data-bin/ted2020_with_mono/test.en-zh.zh\n",
            "2022-04-08 21:05:52 | INFO | fairseq.tasks.translation | ./DATA/data-bin/ted2020_with_mono test en-zh 4000 examples\n"
          ]
        },
        {
          "data": {
            "application/vnd.jupyter.widget-view+json": {
              "model_id": "45aeda1a5eff416ba1159c28a9f0df72",
              "version_major": 2,
              "version_minor": 0
            },
            "text/plain": [
              "prediction:   0%|          | 0/42 [00:00<?, ?it/s]"
            ]
          },
          "metadata": {},
          "output_type": "display_data"
        }
      ],
      "source": [
        "generate_prediction(model, task, outfile=\"./prediction_bt.txt\")"
      ]
    },
    {
      "cell_type": "markdown",
      "metadata": {},
      "source": [
        "# Report\n",
        "* Problem1: Visualize the similarity between different pairs of positional embedding and briefly explain the result.\n",
        "\n",
        "* Problem2: Clip gradient norm and visualize the changes of gradient norm in different steps. Circle two places with gradient explosion."
      ]
    },
    {
      "cell_type": "code",
      "execution_count": 74,
      "metadata": {},
      "outputs": [
        {
          "data": {
            "text/plain": [
              "Text(0.5, 1.0, 'similarity_matrix')"
            ]
          },
          "execution_count": 74,
          "metadata": {},
          "output_type": "execute_result"
        },
        {
          "data": {
            "image/png": "[encoded data removed]",
            "text/plain": [
              "<Figure size 432x288 with 2 Axes>"
            ]
          },
          "metadata": {
            "needs_background": "light"
          },
          "output_type": "display_data"
        }
      ],
      "source": [
        "pos_emb = model.decoder.embed_positions.weights.cpu().detach()\n",
        "cos = nn.CosineSimilarity(dim=0)\n",
        "n = pos_emb.size(0)\n",
        "similarity_m = np.zeros((n, n))\n",
        "\n",
        "for i in range(n):\n",
        "    for j in range(i, n):\n",
        "        cs = cos(pos_emb[i], pos_emb[j])\n",
        "        similarity_m[i][j] = similarity_m[j][i] = cs\n",
        "sns.heatmap(similarity_m, xticklabels=100, yticklabels=100)\n"
      ]
    },
    {
      "cell_type": "code",
      "execution_count": 71,
      "metadata": {},
      "outputs": [],
      "source": [
        "# use wandb to record gnorm\n",
        "# https://wandb.ai/weiweichi/hw5.seq2seq/reports/Shared-panel-22-04-06-03-04-04--VmlldzoxNzk0MzQ0?accessToken=mwlfuganu5gl0bk4saqkru69kxvt5wxac2gymbqqxkzd4uwjij56sj1y8qmk6rlx"
      ]
    }
  ],
  "metadata": {
    "accelerator": "GPU",
    "colab": {
      "collapsed_sections": [
        "nKb4u67-sT_Z",
        "n1rwQysTsdJq",
        "59si_C0Wsms7",
        "oOpG4EBRLwe_",
        "6ZlE_1JnMv56",
        "UDAPmxjRNEEL",
        "ce5n4eS7NQNy",
        "rUB9f1WCNgMH",
        "VFJlkOMONsc6",
        "Gt1lX3DRO_yU",
        "BAGMiun8PnZy",
        "JOVQRHzGQU4-",
        "jegH0bvMQVmR",
        "a65glBVXQZiE",
        "smA0JraEQdxz",
        "Jn4XeawpQjLk"
      ],
      "name": "HW05.ipynb",
      "provenance": []
    },
    "kernelspec": {
      "display_name": "Python 3",
      "name": "python3"
    },
    "language_info": {
      "codemirror_mode": {
        "name": "ipython",
        "version": 3
      },
      "file_extension": ".py",
      "mimetype": "text/x-python",
      "name": "python",
      "nbconvert_exporter": "python",
      "pygments_lexer": "ipython3",
      "version": "3.8.10"
    }
  },
  "nbformat": 4,
  "nbformat_minor": 0
}
